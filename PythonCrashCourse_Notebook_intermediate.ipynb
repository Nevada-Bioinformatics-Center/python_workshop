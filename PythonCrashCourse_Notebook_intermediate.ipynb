{
 "cells": [
  {
   "cell_type": "markdown",
   "metadata": {
    "id": "C-oOGXSTqesb"
   },
   "source": [
    "<a href=\"https://colab.research.google.com/github/Nevada-Bioinformatics-Center/python_workshop/blob/main/PythonCrashCourse_Notebook_intermediate.ipynb\" target=\"_parent\">\n",
    "  <img src=\"https://colab.research.google.com/assets/colab-badge.svg\" alt=\"Open In Colab\"/>\n",
    "</a>\n"
   ]
  },
  {
   "cell_type": "markdown",
   "metadata": {
    "id": "f2iDThVbrZOK"
   },
   "source": [
    "<img src=\"https://upload.wikimedia.org/wikipedia/commons/thumb/f/f8/Python_logo_and_wordmark.svg/2560px-Python_logo_and_wordmark.svg.png\" width=300><br>\n",
    "<font color='#4B8BBE' size=20 >Crash Course  </font>\n",
    "\n",
    "\n",
    "In this notebook, we'll be learning the fundamentals of Python (all of which apply to programming in general!). We'll be working through a dataset of the most streamed Spotify songs compiled in 2023 <img src=\"https://upload.wikimedia.org/wikipedia/commons/8/84/Spotify_icon.svg\" width=20>.\n",
    "\n",
    "\n",
    "____\n",
    "# Learning Objectives 🙋\n",
    "## At the end of today, you'll be able to:\n",
    "* Understand the basic components of a Jupyter notebook 📓\n",
    "* Write and debug basic Python code 🐍\n",
    "* Use functions, loops, conditional statements, and apply programming fundamentals applicable across computing languages 💻\n",
    "* Analyze a dataset using Python libraries built for data science 💭 🧠\n",
    "* Learn and discuss best practices for data visualization to communicate your results 📢 📈\n",
    "\n",
    "**<font color=\"red\" size=4> IMPORTANT: This notebook is READ-ONLY. To edit and run this notebook, follow the steps in the next section.</font>**"
   ]
  },
  {
   "cell_type": "markdown",
   "metadata": {
    "id": "jlouEmW6qmE6"
   },
   "source": [
    "____\n",
    "## 💾 Before you start - Save this notebook!\n",
    "\n",
    "When you open a new Colab notebook from the WebCampus (like you hopefully did for this one), you cannot save changes. So it's  best to store the Colab notebook in your personal drive `\"File > Save a copy in drive...\"` **before** you do anything else.\n",
    "\n",
    "The file will open in a new tab in your web browser, and it is automatically named something like: \"**CopyofPythonCrashCourse_Notebook_intermediate.ipynb**\". You can rename this to just the title of the assignment \"**PythonCrashCourse_Notebook_intermediate.ipynb**\". Make sure you do keep an informative name (like the name of the assignment) to help you be able to come back to this after you complete this part of the assignment.\n",
    "\n",
    "**Where does the notebook get saved in Google Drive?**\n",
    "\n",
    "By default, the notebook will be copied to a folder called “Colab Notebooks” at the root (home) directory of your Google Drive.\n",
    "\n",
    "___"
   ]
  },
  {
   "cell_type": "markdown",
   "metadata": {
    "id": "ouCqGc10ZbFu"
   },
   "source": [
    "# Section 1: Setup and import files 🧰 🛠\n",
    "\n",
    "There are several steps we need to do to access the dataset before we can load the file:\n",
    "1. Copy the data file to working memory to run in this notebook\n",
    "2. Check that we have it available to us<br>\n",
    "\n",
    "Other options (backup if the above doesn't work):\n",
    "1. Mount our gdrive (connect to this notebook)\n",
    "2. Fetch the data file from my github repository\n",
    "3. Change into our directory where the file is located\n"
   ]
  },
  {
   "cell_type": "markdown",
   "metadata": {
    "id": "lngrKUrTWqLf"
   },
   "source": [
    "We will start by downloading the data file (`spotify-2023-clean.csv`) to access for today.\n",
    "\n",
    ">**Task:** Run the cell below. If it works, you should see text that looks like this:\n",
    "</br><br>\n",
    "<img src=\"https://github.com/tmckim/python-crash-course/blob/main/imgs/wget_filesuccess.png?raw=1\"/>\n"
   ]
  },
  {
   "cell_type": "code",
   "execution_count": null,
   "metadata": {
    "colab": {
     "base_uri": "https://localhost:8080/"
    },
    "id": "L41cvUd4_npw",
    "outputId": "d38bc59a-e501-44a1-aba6-8a35896a8966"
   },
   "outputs": [],
   "source": [
    "### RUN THIS CELL ###\n",
    "!wget --no-check-certificate 'https://docs.google.com/uc?export=download&id=1hv66NjJSa98UUVsbEppZjtOCInmbbRES' -O spotify-2023-clean.csv"
   ]
  },
  {
   "cell_type": "markdown",
   "metadata": {
    "id": "W2ausDL71uIr"
   },
   "source": [
    "> **Task:** On the left side of the Colab window, click the 📁 icon, and double click on your files to see what the raw data looks like. You should see a file called `spotify-2023-clean.csv`."
   ]
  },
  {
   "cell_type": "markdown",
   "metadata": {
    "id": "EoaaH4EBxGxM"
   },
   "source": [
    "## 📚 Python Libraries\n",
    "\n",
    "Python comes with many useful built in classes and functions - lists, dictionaries, counters, and their associated functions, are some examples. You can accomplish many simple tasks using native Python code.\n",
    "\n",
    "</br>\n",
    "<img src=\"https://cdn.pixabay.com/photo/2016/03/26/22/21/books-1281581_960_720.jpg\" width=600>\n",
    "</br>\n",
    "\n",
    "However, just like in many computer languages, the beauty of Python is that other people have spent much time developing useful code that they have tested robustly and wish to share with others. These are called libraries or packages.  We can import popular packages into the Python/Colab environment and if the package has not already been installed on our version of Python, we can easily install the package and use it.\n",
    "\n",
    "(In Colab, or in a linux environment if you run Python locally, we can easily install new packages using ```!pip install [PYTHON PACKAGE]```)\n",
    "\n",
    "For this Colab notebook we will be working with four packages that typically come pre-installed on most versions of Python. They are:\n",
    "\n",
    "- **numpy**: A library for working with numerical lists, called arrays\n",
    "- **pandas**: A library for working with two dimenional lists, called dataframes\n",
    "- **matplotlib**: A package for plotting, commonly used in tandem with numpy and pandas\n",
    "- **seaborn**: A package for plotting, commonly used in tandem with pandas\n",
    "\n",
    "</br><img src=\"https://miro.medium.com/max/765/1*cyXCE-JcBelTyrK-58w6_Q.png\" width=200> <img src=\"https://upload.wikimedia.org/wikipedia/commons/thumb/e/ed/Pandas_logo.svg/1200px-Pandas_logo.svg.png\" width=200> </br><img src=\"https://matplotlib.org/stable/_static/logo_dark.svg\" width=200> <img src=\"https://seaborn.pydata.org/_images/logo-wide-lightbg.svg\" width=200> </br></br>\n",
    "We can import these libraries (or certain classes/functions from these libraries) into our local runtime using the following code. The nicknames I used (np, plt, np, ans sns) are pretty standard nicknames that most Python programmers use, though you could use anything.\n",
    "\n",
    "\n",
    ">**Task:** Run the following cell to import the relevant libraries.\n"
   ]
  },
  {
   "cell_type": "code",
   "execution_count": null,
   "metadata": {
    "colab": {
     "base_uri": "https://localhost:8080/"
    },
    "id": "f1MikF1-rTDy",
    "outputId": "030c060c-47bd-4291-99f9-7aaf8078db6a"
   },
   "outputs": [],
   "source": [
    "### RUN THIS CELL ###\n",
    "# Import our plotting package from matplotlib and shorten it to plt\n",
    "import matplotlib.pyplot as plt\n",
    "\n",
    "# Specify that all plots will happen inline & in high resolution\n",
    "%matplotlib inline\n",
    "%config InlineBackend.figure_format = 'retina'\n",
    "\n",
    "# Import pandas for working with databases and shorten it to pd\n",
    "import pandas as pd\n",
    "\n",
    "# Import numpy and shorten it to np\n",
    "import numpy as np\n",
    "\n",
    "# Import plotting package seaborn and shorten to sns\n",
    "import seaborn as sns\n",
    "\n",
    "# Print statement to confirm\n",
    "print('Packages imported!')"
   ]
  },
  {
   "cell_type": "markdown",
   "metadata": {
    "id": "ASCfjnAtYMQM"
   },
   "source": [
    ">**Task:** Run this cell to set formating options. These can be changed according to your preferences."
   ]
  },
  {
   "cell_type": "code",
   "execution_count": null,
   "metadata": {
    "id": "yNJMOnN79OT3"
   },
   "outputs": [],
   "source": [
    "### RUN THIS CELL ###\n",
    "# We want to see all the columns/rows in the dataset\n",
    "pd.set_option('display.max_columns', None)\n",
    "pd.set_option('display.max_rows', None)\n",
    "pd.options.display.float_format = '{:.1f}'.format  # don't use scientific notation"
   ]
  },
  {
   "cell_type": "markdown",
   "metadata": {
    "id": "hWQCieaKxr56"
   },
   "source": [
    "## 📫 Importing Data\n",
    "\n",
    "Read the file from the colab files into your runtime. There are several options for reading a file in, but we will use the `pandas` package (which we imported as `pd`): <br>\n",
    "*   pandas ```read_table()``` or ```read_csv()``` function, which reads a file with multiple data types into a dataframe.\n"
   ]
  },
  {
   "cell_type": "code",
   "execution_count": null,
   "metadata": {
    "colab": {
     "base_uri": "https://localhost:8080/"
    },
    "id": "5IfF8kg1l_hk",
    "outputId": "0f61fec6-0be0-461a-b8a1-9091ddb720db"
   },
   "outputs": [],
   "source": [
    "### RUN THIS CELL ###\n",
    "## Import file (cleaned up)\n",
    "spotify = pd.read_csv('spotify-2023-clean.csv')\n",
    "print('data imported!')"
   ]
  },
  {
   "cell_type": "code",
   "execution_count": null,
   "metadata": {},
   "outputs": [],
   "source": [
    "### RUN THIS CELL ###\n",
    "## This is needed to prepare the dataframe for the workshop today. We ran these commands in the last session.\n",
    "from datetime import datetime\n",
    "\n",
    "# Get the current date and time\n",
    "current_datetime = datetime.now()\n",
    "\n",
    "# Extract the year attribute\n",
    "current_year = current_datetime.year\n",
    "\n",
    "spotify_year = spotify.released_year\n",
    "age = current_year - spotify_year\n",
    "\n",
    "spotify.loc[:, \"age\"] = age\n",
    "print(spotify.columns)"
   ]
  },
  {
   "cell_type": "markdown",
   "metadata": {},
   "source": [
    "## 📚 Pre 7.0 Dictionaries\n",
    "\n",
    "Here we have a new type of built-in data structure, dictionaries, which we will be using more later. <br>\n",
    "Dictionaries store data in key:value pairs. Also note that we have a new type of brackets or braces that are curly `{ }`\n",
    "\n",
    "<br>\n",
    "\n",
    "```\n",
    "new_type = {'Number of petals': [8, 34, 5], 'Name': ['lotus', 'sunflower', 'rose']}\n",
    "type(new_type)\n",
    "dict\n",
    "```\n",
    "\n",
    "For example, here are key: value pairs: <br>\n",
    "`'Number of petals': [8,34,5]` <br>\n",
    "`'Name': ['lotus','sunflower', 'rose']` <br>\n",
    "The keys 🔑 are the strings for the column names, and the values 🔟 are the data that go in the rows of the table. <br><br>\n",
    "\n",
    "Dictionaries are structures which can contain multiple data types. They contain key-value pairs. For each unique key, the dictionary has one value. Keys can be various data types: strings, numbers, or tuples, while the corresponding values can be any Python object.<br>\n",
    "\n",
    "You cannot access values of the dictionary by the indexes (like you can in lists or arrays). But you can access them by the key. Due to this feature dictionaries don't allow duplicated keys.\n",
    "\n",
    "You can also access just the keys or just the indexes by `.keys()` and `.values()` methods.\n",
    "<br><br>\n",
    "To find out even more, read the Python [documentation](https://docs.python.org/3/tutorial/datastructures.html#dictionaries). <br>\n",
    "\n",
    "Other examples and [tutorial](https://www.w3schools.com/python/python_dictionaries.asp)"
   ]
  },
  {
   "cell_type": "markdown",
   "metadata": {},
   "source": [
    "### Create and Read Dictionaries"
   ]
  },
  {
   "cell_type": "code",
   "execution_count": null,
   "metadata": {},
   "outputs": [],
   "source": [
    "# literal\n",
    "gene_len = {\"AT1G01010\": 429, \"AT1G01020\": 245, \"AT1G01030\": 358}\n",
    "\n",
    "# from pairs\n",
    "pairs = [(\"AT1G01010\", 429), (\"AT1G01020\", 245)]\n",
    "d = dict(pairs)\n",
    "\n",
    "# empty then fill\n",
    "meta = {}\n",
    "meta[\"sample\"] = \"S1\"\n",
    "meta[\"species\"] = \"Arabidopsis\"\n",
    "\n",
    "print(gene_len)\n",
    "print(d)\n",
    "print(meta)"
   ]
  },
  {
   "cell_type": "markdown",
   "metadata": {},
   "source": [
    "### Access Values"
   ]
  },
  {
   "cell_type": "code",
   "execution_count": null,
   "metadata": {},
   "outputs": [],
   "source": [
    "print(gene_len[\"AT1G01010\"])     \n",
    "print(gene_len.get(\"AT1G99999\")) \n",
    "print(gene_len.get(\"AT1G99999\", 0))"
   ]
  },
  {
   "cell_type": "markdown",
   "metadata": {},
   "source": [
    "### Add, Update, Delete, or Merge"
   ]
  },
  {
   "cell_type": "code",
   "execution_count": null,
   "metadata": {},
   "outputs": [],
   "source": [
    "print(gene_len)\n",
    "\n",
    "# add\n",
    "gene_len[\"AT1G01040\"] = 1910      \n",
    "print(gene_len)\n",
    "\n",
    "# update\n",
    "gene_len[\"AT1G01020\"] = 246       \n",
    "print(gene_len)\n",
    "\n",
    "# delete and return value\n",
    "removed = gene_len.pop(\"AT1G01030\")         \n",
    "print(gene_len)\n",
    "print(\"We removed: \", removed)\n",
    "\n",
    "# delete without return value\n",
    "del gene_len[\"AT1G01040\"]         \n",
    "print(gene_len)\n",
    "\n"
   ]
  },
  {
   "cell_type": "code",
   "execution_count": null,
   "metadata": {},
   "outputs": [],
   "source": [
    "##Merging - (right wins on conflicts)\n",
    "\n",
    "a = {\"A\": 1, \"B\": 2}\n",
    "b = {\"B\": 20, \"C\": 3}\n",
    "c = a | b   \n",
    "print(c)\n"
   ]
  },
  {
   "cell_type": "code",
   "execution_count": null,
   "metadata": {},
   "outputs": [],
   "source": [
    "##Membership and lengths\n",
    "print(\"AT1G01010\" in gene_len )\n",
    "print(len(gene_len))           \n"
   ]
  },
  {
   "cell_type": "markdown",
   "metadata": {},
   "source": [
    "### Sorting Dictionaries"
   ]
  },
  {
   "cell_type": "code",
   "execution_count": null,
   "metadata": {},
   "outputs": [],
   "source": [
    "# add data\n",
    "gene_len[\"AT1G02040\"] = 1910     \n",
    "gene_len[\"AT1G01080\"] = 1234    \n",
    "gene_len[\"AT1G01050\"] = 678\n",
    "print(gene_len)"
   ]
  },
  {
   "cell_type": "code",
   "execution_count": null,
   "metadata": {},
   "outputs": [],
   "source": [
    "# by key\n",
    "for gid in sorted(gene_len):\n",
    "    print(gid, gene_len[gid])"
   ]
  },
  {
   "cell_type": "code",
   "execution_count": null,
   "metadata": {},
   "outputs": [],
   "source": [
    "# by value (ascending)\n",
    "for gid, length in sorted(gene_len.items(), key=lambda kv: kv[1]):\n",
    "    print(gid, length)"
   ]
  },
  {
   "cell_type": "code",
   "execution_count": null,
   "metadata": {},
   "outputs": [],
   "source": [
    "# top-N by value\n",
    "top2 = sorted(gene_len.items(), key=lambda kv: kv[1], reverse=True)[:2]\n",
    "print(top2)"
   ]
  },
  {
   "cell_type": "markdown",
   "metadata": {},
   "source": [
    "### Defaults with `setdefault`"
   ]
  },
  {
   "cell_type": "code",
   "execution_count": null,
   "metadata": {},
   "outputs": [],
   "source": [
    "# group transcripts by gene prefix (drop isoform like .1/.2)\n",
    "rows = [\"AT1G01010.1\", \"AT1G01020.2\", \"AT1G01010.2\"]\n",
    "by_gene = {}\n",
    "for tid in rows:\n",
    "    gid = tid.split(\".\")[0]\n",
    "    by_gene.setdefault(gid, []).append(tid)\n",
    "\n",
    "print(by_gene)\n"
   ]
  },
  {
   "cell_type": "markdown",
   "metadata": {},
   "source": [
    "### Counting with a dict (and with `Counter`)"
   ]
  },
  {
   "cell_type": "code",
   "execution_count": null,
   "metadata": {},
   "outputs": [],
   "source": [
    "counts = {}\n",
    "hits = [\"A\",\"B\",\"A\",\"C\",\"A\",\"B\"]\n",
    "for h in hits:\n",
    "    counts[h] = counts.get(h, 0) + 1\n",
    "\n",
    "print(counts)"
   ]
  },
  {
   "cell_type": "code",
   "execution_count": null,
   "metadata": {},
   "outputs": [],
   "source": [
    "from collections import Counter\n",
    "Counter(hits).most_common()   # [('A', 3), ('B', 2), ('C', 1)]\n"
   ]
  },
  {
   "cell_type": "markdown",
   "metadata": {},
   "source": [
    "### Dictionary comprehensions"
   ]
  },
  {
   "cell_type": "code",
   "execution_count": null,
   "metadata": {},
   "outputs": [],
   "source": [
    "# transform values\n",
    "kb = {gid: length/1000 for gid, length in gene_len.items()}\n",
    "print(kb)\n",
    "\n",
    "# filter+transform\n",
    "long_genes = {gid: L for gid, L in gene_len.items() if L >= 500}\n",
    "print(long_genes)\n"
   ]
  },
  {
   "cell_type": "markdown",
   "metadata": {},
   "source": [
    "### Nested Dictionaries\n"
   ]
  },
  {
   "cell_type": "code",
   "execution_count": null,
   "metadata": {},
   "outputs": [],
   "source": [
    "samples = {\n",
    "    \"S1\": {\"reads\": 1200000, \"gc\": 0.41},\n",
    "    \"S2\": {\"reads\": 980000,  \"gc\": 0.43},\n",
    "}\n",
    "print(samples[\"S1\"][\"reads\"])\n"
   ]
  },
  {
   "cell_type": "markdown",
   "metadata": {},
   "source": [
    "## Pre 7.0 Coding Exercise\n",
    "\n",
    "Build a dictionary lookup for the following list so that `status[\"S2\"] == \"FAIL\"`\n"
   ]
  },
  {
   "cell_type": "code",
   "execution_count": null,
   "metadata": {},
   "outputs": [],
   "source": [
    "### YOUR CODE HERE ###\n",
    "rows = [(\"S1\", \"OK\"), (\"S2\", \"FAIL\"), (\"S3\", \"OK\")]"
   ]
  },
  {
   "cell_type": "code",
   "execution_count": null,
   "metadata": {
    "jupyter": {
     "source_hidden": true
    }
   },
   "outputs": [],
   "source": [
    "#@title Example Solution\n",
    "rows = [(\"S1\", \"OK\"), (\"S2\", \"FAIL\"), (\"S3\", \"OK\")]\n",
    "status = dict(rows)\n",
    "print(status)"
   ]
  },
  {
   "cell_type": "markdown",
   "metadata": {},
   "source": [
    "## Pre 7.1 Coding Exercise\n",
    "\n",
    "Inverse the following dictionary so that `gene_to_symbol` is `symbol_to_gene`"
   ]
  },
  {
   "cell_type": "code",
   "execution_count": null,
   "metadata": {},
   "outputs": [],
   "source": [
    "### YOUR CODE HERE ###\n",
    "gene_to_symbol = {\"AT1G01010\":\"NAC001\",\"AT1G01020\":\"ARV1\"}"
   ]
  },
  {
   "cell_type": "code",
   "execution_count": null,
   "metadata": {
    "jupyter": {
     "source_hidden": true
    }
   },
   "outputs": [],
   "source": [
    "#@title Example Solution\n",
    "gene_to_symbol = {\"AT1G01010\": \"NAC001\", \"AT1G01020\": \"ARV1\"}\n",
    "symbol_to_gene = {v: k for k, v in gene_to_symbol.items()}\n",
    "print(symbol_to_gene)"
   ]
  },
  {
   "cell_type": "markdown",
   "metadata": {},
   "source": [
    "## Pre 7.2 Coding Exercise\n",
    "\n",
    "Keep only entries in `gene_len` with length ≥ 300."
   ]
  },
  {
   "cell_type": "code",
   "execution_count": null,
   "metadata": {},
   "outputs": [],
   "source": [
    "### YOUR CODE HERE ###\n"
   ]
  },
  {
   "cell_type": "code",
   "execution_count": null,
   "metadata": {
    "jupyter": {
     "source_hidden": true
    }
   },
   "outputs": [],
   "source": [
    "#@title Example Solution\n",
    "filtered = {gid: L for gid, L in gene_len.items() if L >= 300}\n",
    "print(filtered)"
   ]
  },
  {
   "cell_type": "markdown",
   "metadata": {},
   "source": [
    "## Pre 7.3 Coding Exercise\n",
    "\n",
    "Print the top 3 longest genes (id and length) from `gene_len`"
   ]
  },
  {
   "cell_type": "code",
   "execution_count": null,
   "metadata": {},
   "outputs": [],
   "source": [
    "### YOUR CODE HERE ###\n"
   ]
  },
  {
   "cell_type": "code",
   "execution_count": null,
   "metadata": {
    "jupyter": {
     "source_hidden": true
    }
   },
   "outputs": [],
   "source": [
    "#@title Example Solution\n",
    "top3 = sorted(gene_len.items(), key=lambda kv: kv[1], reverse=True)[:3]\n",
    "for gid, L in top3:\n",
    "    print(gid, L)"
   ]
  },
  {
   "cell_type": "markdown",
   "metadata": {
    "id": "TIl3tj5ptQK2"
   },
   "source": [
    "## 🧘 7.0 Loops\n",
    "\n",
    "\n"
   ]
  },
  {
   "cell_type": "markdown",
   "metadata": {},
   "source": [
    "A **for loop** lets you repeat an action for each item in a collection (a list, string, file lines, etc.).\n",
    "Python’s for loops iterate over items, not over numeric indexes (unless you ask for indexes).\n",
    "\n",
    "`iterable` = something you can loop over (list, tuple, string, range, dict, generator…)\n",
    "`item` = each element from the iterable\n",
    "\n",
    "\n",
    "```python\n",
    "for item in iterable:\n",
    "    # do something with item\n"
   ]
  },
  {
   "cell_type": "code",
   "execution_count": null,
   "metadata": {},
   "outputs": [],
   "source": [
    "fruits = [\"apple\", \"banana\", \"cherry\"]\n",
    "for f in fruits:\n",
    "    print(f.upper())\n"
   ]
  },
  {
   "cell_type": "markdown",
   "metadata": {},
   "source": [
    "## Looping with `range()`\n",
    "\n",
    "Use `range()` to generate sequences of numbers."
   ]
  },
  {
   "cell_type": "code",
   "execution_count": null,
   "metadata": {},
   "outputs": [],
   "source": [
    "for i in range(5):\n",
    "    print(i)"
   ]
  },
  {
   "cell_type": "code",
   "execution_count": null,
   "metadata": {},
   "outputs": [],
   "source": [
    "# start, stop (exclusive), step\n",
    "for i in range(2, 10, 2):  # 2, 4, 6, 8\n",
    "    print(i)"
   ]
  },
  {
   "cell_type": "markdown",
   "metadata": {},
   "source": [
    "## Getting both index and value: `enumerate()`\n"
   ]
  },
  {
   "cell_type": "code",
   "execution_count": null,
   "metadata": {},
   "outputs": [],
   "source": [
    "letters = [\"a\", \"b\", \"c\"]\n",
    "for idx, val in enumerate(letters):         # default start=0\n",
    "    print(idx, val)\n",
    "\n"
   ]
  },
  {
   "cell_type": "code",
   "execution_count": null,
   "metadata": {},
   "outputs": [],
   "source": [
    "for idx, val in enumerate(letters, start=1):  # start index at 1\n",
    "    print(idx, val)"
   ]
  },
  {
   "cell_type": "markdown",
   "metadata": {},
   "source": [
    "## Looping over multiple lists: `zip()`\n",
    "\n",
    "If lists differ in length, `zip` stops at the shortest. Use `itertools.zip_longest` to keep going."
   ]
  },
  {
   "cell_type": "code",
   "execution_count": null,
   "metadata": {},
   "outputs": [],
   "source": [
    "genes   = [\"AT1G01010\", \"AT1G01020\", \"AT1G01030\"]\n",
    "symbols = [\"NAC001\",    \"ARV1\",      \"NGA3\"]\n",
    "\n",
    "for g, s in zip(genes, symbols):\n",
    "    print(f\"{g}\\t{s}\")"
   ]
  },
  {
   "cell_type": "markdown",
   "metadata": {},
   "source": [
    "## Looping over dictionaries"
   ]
  },
  {
   "cell_type": "code",
   "execution_count": null,
   "metadata": {},
   "outputs": [],
   "source": [
    "gene_lengths = {\"AT1G01010\": 429, \"AT1G01020\": 245, \"AT1G01030\": 358}\n",
    "\n",
    "# keys (default)\n",
    "for gid in gene_lengths:\n",
    "    print(gid, gene_lengths[gid])\n",
    "\n"
   ]
  },
  {
   "cell_type": "code",
   "execution_count": null,
   "metadata": {},
   "outputs": [],
   "source": [
    "# key/value pairs\n",
    "for gid, length in gene_lengths.items():\n",
    "    print(gid, length)"
   ]
  },
  {
   "cell_type": "markdown",
   "metadata": {},
   "source": [
    "## `break`, `continue`, and `pass`\n",
    "\n",
    "`break`: stop the loop early\n",
    "\n",
    "`continue`: skip to the next iteration\n",
    "\n",
    "`pass`: do nothing (placeholder)"
   ]
  },
  {
   "cell_type": "code",
   "execution_count": null,
   "metadata": {},
   "outputs": [],
   "source": [
    "nums = [3, 7, 11, 12, 18]\n",
    "for n in nums:\n",
    "    if n % 2 == 0:\n",
    "        print(\"first even:\", n)\n",
    "        break                       \n"
   ]
  },
  {
   "cell_type": "code",
   "execution_count": null,
   "metadata": {},
   "outputs": [],
   "source": [
    "for n in range(1, 8):\n",
    "    if n == 4:\n",
    "        continue                     \n",
    "    print(n)\n"
   ]
  },
  {
   "cell_type": "markdown",
   "metadata": {},
   "source": [
    "## The `for`/`else` pattern (search with a fallback)\n",
    "\n",
    "`else` runs only if the loop didn’t break."
   ]
  },
  {
   "cell_type": "code",
   "execution_count": null,
   "metadata": {},
   "outputs": [],
   "source": [
    "target = \"NGA3\"\n",
    "hits = [\"NAC001\", \"ARV1\", \"LHY\", \"NGA3\"]\n",
    "\n",
    "for h in hits:\n",
    "    if h == target:\n",
    "        print(\"found:\", h)\n",
    "        break\n",
    "else:\n",
    "    print(\"not found\")  \n"
   ]
  },
  {
   "cell_type": "markdown",
   "metadata": {},
   "source": [
    "## Building results incrementally (accumulation)"
   ]
  },
  {
   "cell_type": "code",
   "execution_count": null,
   "metadata": {},
   "outputs": [],
   "source": [
    "lengths = [429, 245, 358]\n",
    "total = 0\n",
    "for L in lengths:\n",
    "    total += L\n",
    "print(\"sum:\", total)\n"
   ]
  },
  {
   "cell_type": "markdown",
   "metadata": {},
   "source": [
    "## List comprehensions\n",
    "\n",
    "Everything you can do with a simple `for` that builds a list, you can usually do with a comprehension. Use comprehensions for simple transforms/filters; use full `for` loops for multi-step logic."
   ]
  },
  {
   "cell_type": "code",
   "execution_count": null,
   "metadata": {},
   "outputs": [],
   "source": [
    "# for-loop\n",
    "squares = []\n",
    "for n in range(5):\n",
    "    squares.append(n*n)\n",
    "\n",
    "print(squares)\n",
    "\n"
   ]
  },
  {
   "cell_type": "code",
   "execution_count": null,
   "metadata": {},
   "outputs": [],
   "source": [
    "# list comprehension (equivalent)\n",
    "squares = [n*n for n in range(5)]\n",
    "\n",
    "print(squares)"
   ]
  },
  {
   "cell_type": "code",
   "execution_count": null,
   "metadata": {},
   "outputs": [],
   "source": [
    "evens = [n for n in range(10) if n % 2 == 0]\n",
    "print(evens)"
   ]
  },
  {
   "cell_type": "markdown",
   "metadata": {},
   "source": [
    "## Coding Exercise 7.0"
   ]
  },
  {
   "cell_type": "markdown",
   "metadata": {
    "id": "VwLLnOu1rEBb"
   },
   "source": [
    "Review the code below that prints individual letters of the word `music`. <br>\n",
    "This is a bad (inefficient) approach. It doesn't scale ❌ - <br>\n",
    "It doesn't work for longer words and will error for smaller words (imagine if you had thousands of rows of data!)<br>\n",
    "\n",
    "A better approach to print each letter in the word would be to use a for loop.\n",
    "\n",
    ">**Task:** Write a for loop in the second cell to produce the same output from the first cell."
   ]
  },
  {
   "cell_type": "code",
   "execution_count": null,
   "metadata": {
    "colab": {
     "base_uri": "https://localhost:8080/"
    },
    "id": "69y4ZjnMA2kH",
    "outputId": "8468eb3b-05e7-448a-d989-02b57257a265"
   },
   "outputs": [],
   "source": [
    "### RUN THIS CELL ###\n",
    "word = 'music'\n",
    "print(word[0])\n",
    "print(word[1])\n",
    "print(word[2])\n",
    "print(word[3])\n",
    "print(word[4])"
   ]
  },
  {
   "cell_type": "code",
   "execution_count": null,
   "metadata": {
    "id": "zsAd6Sro2S2s"
   },
   "outputs": [],
   "source": [
    "### YOUR CODE HERE ###"
   ]
  },
  {
   "cell_type": "markdown",
   "metadata": {
    "id": "tQfB5bLNBEK2"
   },
   "source": [
    "\n",
    ">**Task:** Now test how flexible your for loop is. Try another word to see it in action!"
   ]
  },
  {
   "cell_type": "code",
   "execution_count": null,
   "metadata": {
    "id": "C3b_GlkhA_w_"
   },
   "outputs": [],
   "source": [
    "### YOUR CODE HERE ###"
   ]
  },
  {
   "cell_type": "code",
   "execution_count": null,
   "metadata": {
    "cellView": "form",
    "colab": {
     "base_uri": "https://localhost:8080/"
    },
    "id": "i9hDK_HpAFj3",
    "jupyter": {
     "source_hidden": true
    },
    "outputId": "43aa610f-c8d9-4a1b-aa2a-1b85ae7abff9"
   },
   "outputs": [],
   "source": [
    "#@title Example Solution\n",
    "word = 'music'\n",
    "for char in word:\n",
    "    print(char)"
   ]
  },
  {
   "cell_type": "markdown",
   "metadata": {
    "id": "Hff0X0yUBoiE"
   },
   "source": [
    "### **A Note on Naming** <br>\n",
    "In the above example, we used the name `char` which was short for `character`. This makes sense in our case, but see the example below. You have the freedom to choose any name that you want. In the case below, if we choose `dog` for the loop variable (counter variable), it will work as long as the same name is used when we start the loop and then within the loop. <br><br> However, when writing code, it's best to use a name that is meaningful, otherwise it could be difficult to figure out what the loop is doing. Do your future self a favor and use what makes sense (and leave yourself comments!) 🙃"
   ]
  },
  {
   "cell_type": "code",
   "execution_count": null,
   "metadata": {
    "colab": {
     "base_uri": "https://localhost:8080/"
    },
    "id": "G98N7yh5CfW3",
    "outputId": "5e1236e7-2b63-471b-e82d-61858a73f945"
   },
   "outputs": [],
   "source": [
    "### RUN THIS CELL ###\n",
    "word = 'bananas'\n",
    "for dog in word:\n",
    "    print(dog)"
   ]
  },
  {
   "cell_type": "markdown",
   "metadata": {
    "id": "nb5zqHN1tQK2"
   },
   "source": [
    "## 🏃 7.1 Coding Exercise\n",
    "\n"
   ]
  },
  {
   "cell_type": "markdown",
   "metadata": {
    "id": "RrwBMVbfC_0t"
   },
   "source": [
    "Use a for loop to convert the string “hello” into a list of letters:\n",
    "```[\"h\",\"e\",\"l\",\"l\",\"o\"]```\n",
    "<br>\n",
    "\n",
    "**Hint:** You can create an empty list like this:\n",
    "```my_list = []```.\n",
    "\n",
    "The solution also includes using our friend `.append` for working with lists (we practiced above).\n"
   ]
  },
  {
   "cell_type": "code",
   "execution_count": null,
   "metadata": {
    "id": "5ut97k2cGnm1"
   },
   "outputs": [],
   "source": [
    "### YOUR CODE HERE ###"
   ]
  },
  {
   "cell_type": "code",
   "execution_count": null,
   "metadata": {
    "cellView": "form",
    "colab": {
     "base_uri": "https://localhost:8080/"
    },
    "id": "hvctYX6Nk0Bl",
    "jupyter": {
     "source_hidden": true
    },
    "outputId": "1b590ce0-5da1-40ff-e61e-e54e5f9f1681"
   },
   "outputs": [],
   "source": [
    "#@title Example Solution\n",
    "my_list = []\n",
    "my_string = \"hello\"\n",
    "for char in my_string:\n",
    "    my_list.append(char)\n",
    "print(my_list)"
   ]
  },
  {
   "cell_type": "markdown",
   "metadata": {
    "id": "Zgmb6SbgtQK3"
   },
   "source": [
    "## 🏋 7.2 Coding Exercise\n",
    "\n"
   ]
  },
  {
   "cell_type": "markdown",
   "metadata": {
    "id": "PwkWUnq18-SU"
   },
   "source": [
    "Above we changed the `mode` column of data into a string. We need to do this for 3 other columns in our `spotify` dataset. They are:\n",
    "- `artist_name`\n",
    "- `track_name`\n",
    "- `key`\n",
    "\n",
    ">**Task:** Edit the skeleton code below to use a for loop to change the datatype from object to string. If you need to reference what we did above, it was the section on 💾 Data Types."
   ]
  },
  {
   "cell_type": "code",
   "execution_count": null,
   "metadata": {
    "id": "2tpTMZ-fF1M_"
   },
   "outputs": [],
   "source": [
    "### EDIT THIS CODE TO RUN ###\n",
    "col_names = [..., ..., ...]\n",
    "\n",
    "for ... in ...:\n",
    "  spotify[...] = spotify[...].astype('string')\n",
    "\n",
    "spotify.info() # use this to verify the cols are strings"
   ]
  },
  {
   "cell_type": "code",
   "execution_count": null,
   "metadata": {
    "cellView": "form",
    "colab": {
     "base_uri": "https://localhost:8080/"
    },
    "id": "kcCod0g3GEv2",
    "jupyter": {
     "source_hidden": true
    },
    "outputId": "fe26bbb5-4ed8-4cc4-fc3b-5af80e39d5bc"
   },
   "outputs": [],
   "source": [
    "#@title Example Solution\n",
    "col_names = ['artist_name', 'track_name', 'key']\n",
    "\n",
    "for c in col_names:\n",
    "  spotify[c] = spotify[c].astype('string')\n",
    "\n",
    "spotify.info()\n",
    "\n",
    "# What we previously used for reference:\n",
    "# spotify['mode'] = spotify['mode'].astype('string')"
   ]
  },
  {
   "cell_type": "markdown",
   "metadata": {
    "id": "Q26_u-WUm9-w"
   },
   "source": [
    "## ⭐ Bonus: for loops to count data\n",
    "\n",
    "We know that there are some artists that appear to be dominating this dataset. We can use a for loop to go through and count the songs per each unique artist. This for loop is a bit more complex and uses slightly different syntax than the ones we practiced above.\n",
    "\n",
    "This is one example of how we can write our own code to review the data manually. In a few sections, we will see we can similarly look at descriptives using methods like `groupby` instead. This is already built in with `pandas` and may be more efficient than writing this out by hand with a for loop. But, this is still good practice as we are learning! For example, you could try to produce this same output using multiple methods to compare."
   ]
  },
  {
   "cell_type": "code",
   "execution_count": null,
   "metadata": {
    "colab": {
     "base_uri": "https://localhost:8080/"
    },
    "id": "9slefAa8m7jZ",
    "outputId": "48351465-8574-4307-c2f5-42e8b510f9b1"
   },
   "outputs": [],
   "source": [
    "# For loop to find and print number of songs per artist\n",
    "nums = []                                                                         # This will allow us to do an overall count too\n",
    "\n",
    "for i, artist_name in enumerate(spotify.artist_name.unique()):                    # we go through one-by-one each unique artist name - remember, we can have up to 7 together!\n",
    "  artist_data = spotify[spotify.artist_name == artist_name]                       # we find all rows in our dataframe that are for the artist(s)\n",
    "  artist_count = len(artist_data)                                                 # we use `len` (short for length) to get the # of rows of data (each row in dataset is a song)\n",
    "  nums = np.append(nums, artist_count)                                            # we created an empty array called nums before our loop, and we can add the numbers to it for each artist\n",
    "  print(f'# of songs for {artist_name}: ' + str(artist_count))                    # this prints out text to tell us how many songs were counted for each artist\n",
    "\n",
    "print('Total # of songs in dataset: ' + str(sum(nums)))                           # this is to just double check we get out the number we expect!"
   ]
  },
  {
   "cell_type": "markdown",
   "metadata": {
    "id": "urvasBX4rhfE"
   },
   "source": [
    "\n",
    "\n",
    "---\n",
    "\n",
    "\n",
    "# Section 8: Conditional Statements 🔀"
   ]
  },
  {
   "cell_type": "markdown",
   "metadata": {
    "id": "vNlN06XxKQ1b"
   },
   "source": [
    "We've started working with the dataset, but so far you probably feel like you know very little about all of the data it contains. That's okay- we have tools we can use to write **robust** code to find information in our dataframe when we don't necessarily know specific information yet at the start.\n",
    "To do so, we can write code that uses the following logic:\n",
    "\n",
    " <font color='green'>If a certain condition is `True`, <font color='blue'>execute the code one way. </br><font color='orange'>If that condition is not true (`False`), <font color='magenta'>execute the code a different way.</font>\n",
    "\n",
    "We can implement this logic using a **conditional statement**. The syntax for a conditional statement in Python looks like the following:\n",
    "\n",
    "```\n",
    "if CONDITION:\n",
    "  DO SOMETHING\n",
    "elif ANOTHER_CONDITION:\n",
    "  DO ANOTHER THING\n",
    "else:\n",
    "  DO SOMETHING ELSE\n",
    "```\n",
    "\n",
    "\n",
    "*   **``if``**: a keyword that lets Python know you are implementing a conditional.\n",
    "\n",
    "*   **CONDITION(AL)**: A boolean function or variable that returns the value ```True``` or ```False```. The word **boolean** means exactly that - a function or variable can only return True or False.\n",
    "\n",
    "*   **DO SOMETHING**: The body of you code you wish to exectute if the CONDITION is True.\n",
    "\n",
    "*   **``elif``** (optional): A keyword that lets Python know that it should execute the following body of code if the condition is True. (and the previous condition was not true)\n",
    "\n",
    "*   **DO ANOTHER THING** (optional): The body of code you wish to execute if ANOTHER_CONDITION is True.\n",
    "\n",
    "*   **``else``** (optional): A keyword that lets Python know that it should execute the following body of code if the condition is not true.\n",
    "\n",
    "*   **DO SOMETHING ELSE** (optional): The body of code you wish to execute if the CONDITION or ANOTHER_CONDITION is False.\n",
    "\n",
    "\n",
    "\n",
    "We will explore how to use each of these different components of an if-then statement in the following exercises.\n"
   ]
  },
  {
   "cell_type": "markdown",
   "metadata": {
    "id": "svfdkik8qSNS"
   },
   "source": [
    "We already have some built in functions in `pandas` that return a **boolean** depending on the condition you are looking for in the dataset.\n",
    "\n",
    "[**```is_na()```**](https://pandas.pydata.org/docs/reference/api/pandas.DataFrame.isna.html): Returns `True` if there are missing values (NaNs), and `False` if there is not.\n",
    "\n",
    ">**Task:** What will the following block of code print? `True` or `False`? Run the code below to see if you are correct."
   ]
  },
  {
   "cell_type": "code",
   "execution_count": null,
   "metadata": {
    "colab": {
     "base_uri": "https://localhost:8080/"
    },
    "id": "XxX-hHWPqRtd",
    "outputId": "9b1f9c0a-b2ba-48f6-dfa2-e3e607491cef"
   },
   "outputs": [],
   "source": [
    "### RUN THIS CELL ###\n",
    "pd.isna('Python Crash Course')"
   ]
  },
  {
   "cell_type": "code",
   "execution_count": null,
   "metadata": {
    "colab": {
     "base_uri": "https://localhost:8080/"
    },
    "id": "NMq7n-NmQusg",
    "outputId": "0a2866b8-bb82-4887-c044-83878efc43cc"
   },
   "outputs": [],
   "source": [
    "### RUN THIS CELL ###\n",
    "pd.isna(np.nan)"
   ]
  },
  {
   "cell_type": "code",
   "execution_count": null,
   "metadata": {
    "colab": {
     "base_uri": "https://localhost:8080/"
    },
    "id": "PRzRYT9yIX5u",
    "outputId": "201f197d-d13e-40e4-bc4e-7445717d280a"
   },
   "outputs": [],
   "source": [
    "### RUN THIS CELL ###\n",
    "# Want to know what np.nan does? Try running just that part here\n",
    "np.nan"
   ]
  },
  {
   "cell_type": "markdown",
   "metadata": {
    "id": "QvG8nFFDRaXa"
   },
   "source": [
    "Here is a more interesting example to examine any (and all) missing data from our dataframe."
   ]
  },
  {
   "cell_type": "code",
   "execution_count": null,
   "metadata": {
    "colab": {
     "base_uri": "https://localhost:8080/"
    },
    "id": "Uw9l8Qc4Q-Fl",
    "outputId": "5a57f42c-cc36-4486-8741-cffd1af0f200"
   },
   "outputs": [],
   "source": [
    "### RUN THIS CELL ###\n",
    "spotify.isna().sum()"
   ]
  },
  {
   "cell_type": "markdown",
   "metadata": {
    "id": "IhOR5OnSItM5"
   },
   "source": [
    "Why did `sum` work with `True` and `False` values? <br>To count these, we use `True = 1` and `False = 0`. So the above `sum` is really a count of how many `True` (`nan`) values were found. <br><br>\n",
    "Note: Pandas supports **missing values**. If a value is missing it will be a \"nan\" value. Many functions (```mean```, ```sum```, etc.) have specific parameters you can choose for how to deal with missing values (do we ignore it, do we treat it as a zero, do we return a null?). This is a decision you will need to make based on your question of interest or purpose for running your code/analyses.\n",
    "\n"
   ]
  },
  {
   "cell_type": "markdown",
   "metadata": {
    "id": "AHfMMwJiVnhw"
   },
   "source": [
    "We can also use logical operators with our conditional statements:\n",
    "* \"is equal to\" `==`\n",
    "* \"is not equal to\" `!=`\n",
    "* \"is less than\" `<`\n",
    "* \"is greater than\" `>`\n",
    "\n",
    ">**Task:** Predict what Python will do with the following logical operator. Then run the cell to check your predictions. Try changing the value of ```age``` and ```day``` and see what happens."
   ]
  },
  {
   "cell_type": "code",
   "execution_count": null,
   "metadata": {
    "colab": {
     "base_uri": "https://localhost:8080/"
    },
    "id": "RAtT_Ep0T2AY",
    "outputId": "4f55b76d-07b9-40cd-a4c8-b946da88050c"
   },
   "outputs": [],
   "source": [
    "age = 65\n",
    "day = \"Tuesday\" # Tuesdays are senior nights!\n",
    "if (age >=65) and (day == 'Tuesday'):\n",
    "  print(\"You get a senior discount!\")\n",
    "else:\n",
    "  print(\"Sorry, you do not quality for a senior discount.\")"
   ]
  },
  {
   "cell_type": "markdown",
   "metadata": {
    "id": "_YQyFlI8R3-T"
   },
   "source": [
    "## ⛔ Using Conditional Statements to Select Dataframe rows\n",
    "\n",
    "We learned above how to pull out data from an entire column (or columns). Now, we want to pull out data from rows (across multiple columns) that meets a certain condition. The logic is similar, but we need to add a bit more to our code.<br> <br>\n",
    "Remember that our data is similar within a column, but each row contains a mix of data across the columns. For example, some values are text (strings) and some are numbers. <br><br>\n",
    "To filter a DataFrame based on the contents by rows in `pandas`, we need to use boolean (`True` or `False`) expressions in order to select the rows we want to keep. Conditional expressions (`>`,`<`, `==`, `!=`, `<=`, ...) enable us to test whether our conditions of interest would evaluate to `True` or `False`. Typically, we want to keep data in our rows that meets a certain criteria (`True`). Let's walk through an example."
   ]
  },
  {
   "cell_type": "markdown",
   "metadata": {
    "id": "w-ZAFeU4kqNb"
   },
   "source": [
    ">**Task:** Run this code. Predict what you think you will see once it runs."
   ]
  },
  {
   "cell_type": "code",
   "execution_count": null,
   "metadata": {
    "colab": {
     "base_uri": "https://localhost:8080/"
    },
    "id": "jToJP8nykkfN",
    "outputId": "67d82361-3b09-405b-9520-1531fc2a5b4b"
   },
   "outputs": [],
   "source": [
    "### RUN THIS CELL ###\n",
    "spotify['in_apple_playlists'] > 50"
   ]
  },
  {
   "cell_type": "markdown",
   "metadata": {
    "id": "T0QM7dmgkcHZ"
   },
   "source": [
    "We put in the name of our column `in_apple_playlists` and asked Python to find where this value is greater than > 50.<br>\n",
    "You can see from the output that sometimes values in this column are `True`, meaning this corresponds to a row that the song was in more than 50 apple playlists. If you see `False`, this indicates that the value in the row did *NOT* meet our condition (greater than 50).<br>\n",
    "This is helpful to illustrate the values we would see if we *only* look at the column we specified `in_apple_playlists`."
   ]
  },
  {
   "cell_type": "markdown",
   "metadata": {
    "id": "PQY-BKehkhzl"
   },
   "source": [
    "We want to take this a step further, because we don't want to work with just one column in our dataset! It's important to see what Python is doing and how it interprets the code, since this is an intermediate step in the code we will run below.<br>\n",
    "We want to use the code we've written above but now apply this filter across the entire dataset. So, we want to pull out **all rows** where data was in more than 50 apple playlists, and also keep all columns in our dataset. <br><br>\n",
    "To do this, we have to specify that we want to do this filtering in the context of our dataframe `spotify`. The line of code below will reference the dataframe first and then put the code we ran above inside brackets to subset the entire dataset. We will get out only rows that meet our condition `>50 apple playlists` and also still have all of the columns in our dataframe to work with."
   ]
  },
  {
   "cell_type": "markdown",
   "metadata": {
    "id": "qa2oSzo8lhZS"
   },
   "source": [
    ">**Task:** Review this code and compare it to above. Also review the output."
   ]
  },
  {
   "cell_type": "code",
   "execution_count": null,
   "metadata": {
    "colab": {
     "base_uri": "https://localhost:8080/",
     "height": 1000
    },
    "id": "VvxoS9aXlb8D",
    "outputId": "fbbb30ba-4f24-4b15-cdcf-7205c8cc8f8e"
   },
   "outputs": [],
   "source": [
    "### RUN THIS CELL ###\n",
    "apple_subset = spotify[spotify['in_apple_playlists'] > 50]\n",
    "apple_subset"
   ]
  },
  {
   "cell_type": "code",
   "execution_count": null,
   "metadata": {
    "colab": {
     "base_uri": "https://localhost:8080/"
    },
    "id": "ybK--_YIJ3P4",
    "outputId": "263033fa-6efa-44e3-de7d-a1762d6a50e7"
   },
   "outputs": [],
   "source": [
    "### RUN THIS CELL ###\n",
    "# How many rows met this condition?\n",
    "print(len(apple_subset))"
   ]
  },
  {
   "cell_type": "markdown",
   "metadata": {
    "id": "7ebZQ0QsaNEq"
   },
   "source": [
    "## 🧘 8.0 Coding Exercise"
   ]
  },
  {
   "cell_type": "markdown",
   "metadata": {
    "id": "gC8BMqaF_33P"
   },
   "source": [
    "Choose your own adventure! 🌄\n",
    "Pick something you would like to filter the dataset by and test out your code. If you need a reminder of all the columns, run the cells below to preview some more info about the data. Alternatively, type the name of the dataset so you can scroll through it to pick something you are interested in.\n",
    "\n",
    "If all else fails and you aren't feeling creative (or are stuck and don't know where to start), use the code above and adjust it so that you find the rows of data for Queen (`artist_name`)."
   ]
  },
  {
   "cell_type": "code",
   "execution_count": null,
   "metadata": {
    "id": "WBsVCFnJA-w0"
   },
   "outputs": [],
   "source": [
    "### YOUR CODE HERE ###"
   ]
  },
  {
   "cell_type": "code",
   "execution_count": null,
   "metadata": {
    "cellView": "form",
    "colab": {
     "base_uri": "https://localhost:8080/",
     "height": 153
    },
    "id": "HgW0q7y1aHuO",
    "jupyter": {
     "source_hidden": true
    },
    "outputId": "1716e29b-7965-4cc2-8ee4-db2f36b4b74f"
   },
   "outputs": [],
   "source": [
    "#@title Example Solution\n",
    "# try filtering by an artist name\n",
    "spotify[spotify['artist_name'] == 'Queen']"
   ]
  },
  {
   "cell_type": "markdown",
   "metadata": {
    "id": "yy7RqmWvtQfh"
   },
   "source": [
    "## 🏃 8.1 Coding Exercise\n",
    "\n",
    "\n",
    "Using a for loop and an if statement, in combination with the other concepts you have learned, build some code to count the number of songs in the dataframe that are over 20 years old.\n",
    "\n"
   ]
  },
  {
   "cell_type": "code",
   "execution_count": null,
   "metadata": {
    "id": "kH1ngFO5YNVk"
   },
   "outputs": [],
   "source": [
    "### YOUR CODE HERE ###"
   ]
  },
  {
   "cell_type": "code",
   "execution_count": null,
   "metadata": {
    "cellView": "form",
    "colab": {
     "base_uri": "https://localhost:8080/"
    },
    "id": "k6mCXqH0Ug1L",
    "jupyter": {
     "source_hidden": true
    },
    "outputId": "28986f3f-3549-43f2-855c-a386c15753c0"
   },
   "outputs": [],
   "source": [
    "#@title Example Solution\n",
    "songs_over_20_counter = []\n",
    "songs_under_20_counter = []\n",
    "\n",
    "for i in spotify.index:\n",
    "  if spotify.age[i] >= 20:\n",
    "    songs_over_20_counter.append(1)\n",
    "  else:\n",
    "    songs_under_20_counter.append(1)\n",
    "\n",
    "print('# of songs over 20:', sum(songs_over_20_counter))\n",
    "print('# of songs under 20:', sum(songs_under_20_counter))\n",
    "print('Check of total # of songs:', sum(songs_over_20_counter) + sum(songs_under_20_counter))"
   ]
  },
  {
   "cell_type": "markdown",
   "metadata": {
    "id": "WLT5gJ8yd0DG"
   },
   "source": [
    "\n",
    "---\n",
    "\n",
    "\n",
    "# Section 9: Reviewing the Dataset 👀\n",
    "\n",
    "So far we've learned about how to use Python and worked with parts of the dataset. Maybe you feel like you've started to know the dataset, but there's alot of data! Let's take stock of the data we have available to us. I will demonstrate some of my most commonly used functions and methods. These will help to get at what data we have and how find out the info we want to describe the data from our dataframe."
   ]
  },
  {
   "cell_type": "markdown",
   "metadata": {
    "id": "IwrteJD8iL82"
   },
   "source": [
    ">**Task:** Let's start by reviewing the dataframe like we already have above. We will use `.info()` to remind ourselves what info we have. Run this cell."
   ]
  },
  {
   "cell_type": "code",
   "execution_count": null,
   "metadata": {
    "colab": {
     "base_uri": "https://localhost:8080/"
    },
    "id": "mGsuMR_FfNNL",
    "outputId": "e41b8266-d058-402a-dd54-29d05c2bc782"
   },
   "outputs": [],
   "source": [
    "### RUN THIS CELL ###\n",
    "spotify.info()"
   ]
  },
  {
   "cell_type": "markdown",
   "metadata": {
    "id": "4JikV_S4i3U4"
   },
   "source": [
    "## `Unique` values 🦄"
   ]
  },
  {
   "cell_type": "markdown",
   "metadata": {
    "id": "jxU5l66hjBVe"
   },
   "source": [
    "Luckily, we don't have to do everything by eye 👀 and scroll the whole way through the table (although I do recommend doing this to get a feel for the data!). <br><br>\n",
    "We can use the function [`unique`](https://pandas.pydata.org/docs/reference/api/pandas.unique.html) in `pandas` to help us out. It will return the unique values from the column we specify based on the order of appearance (it does not sort them in any way).<br> <br>\n",
    "\n",
    "Helpful info can also be found [here](https://favtutor.com/blogs/pandas-unique-values-in-column). <br>\n",
    "\n",
    "Below, we will first call the name of our dataframe (`spotify`) then reference the column name (`.column_name`) and finally use `.unique()` to figure out the possible values in our column. <br><br>\n",
    "The code we will use looks like this: ```dataframe.column_name.unique()```"
   ]
  },
  {
   "cell_type": "markdown",
   "metadata": {
    "id": "QmJHxeVmjmfX"
   },
   "source": [
    "## 🧘 9.0 Coding Exercise\n",
    "\n",
    "Until now, we don't actually know what all the options are for `artist_count` in the dataset - did you manually count above 😉?\n",
    "\n",
    ">**Task:** Use the example syntax above to write code that will show the `unique` numbers contained in the `artist_count` column. This will give us more info about artist collaborations in the dataset."
   ]
  },
  {
   "cell_type": "code",
   "execution_count": null,
   "metadata": {
    "id": "PcdzcJcUi2zQ"
   },
   "outputs": [],
   "source": [
    "### YOUR CODE HERE ###"
   ]
  },
  {
   "cell_type": "code",
   "execution_count": null,
   "metadata": {
    "cellView": "form",
    "colab": {
     "base_uri": "https://localhost:8080/"
    },
    "id": "Gepn1nN3j6LU",
    "jupyter": {
     "source_hidden": true
    },
    "outputId": "69a2f3db-d066-4011-80af-57e7fb5d6788"
   },
   "outputs": [],
   "source": [
    "#@title Example Solution\n",
    "print('Counts of artists:', spotify.artist_count.unique())"
   ]
  },
  {
   "cell_type": "markdown",
   "metadata": {
    "id": "pOOAv7zMsnOx"
   },
   "source": [
    "## Sorting 🔽\n",
    "\n",
    "As you can see, this isn't sorted in order, but the numbers appear based on how they appeared in the dataset. Many times it helps us to arrange our data in logical way that makes sense for our brain 🧠. Sorting is particulary helpful for this!\n",
    "\n",
    "If you want to `sort` them, can you find a way to do so?\n",
    "\n",
    "**Hint:** There are many ways to do so! If you are ever stuck, you can try googling the combination of the package you are using ([`numpy`](https://numpy.org/doc/stable/reference/generated/numpy.sort.html)) and what you'd like to do with the data (`sort`)."
   ]
  },
  {
   "cell_type": "code",
   "execution_count": null,
   "metadata": {
    "id": "CRB5dNzEnGWv"
   },
   "outputs": [],
   "source": [
    "### YOUR CODE HERE ###"
   ]
  },
  {
   "cell_type": "code",
   "execution_count": null,
   "metadata": {
    "colab": {
     "base_uri": "https://localhost:8080/"
    },
    "id": "O_Qmc-3eocG9",
    "jupyter": {
     "source_hidden": true
    },
    "outputId": "45e0b0bf-393b-4391-fb12-522fb7ae4bc7"
   },
   "outputs": [],
   "source": [
    "#@title Example Solution\n",
    "print('Counts of artists using np.sort:', np.sort(spotify.artist_count.unique()))"
   ]
  },
  {
   "cell_type": "code",
   "execution_count": null,
   "metadata": {
    "colab": {
     "base_uri": "https://localhost:8080/"
    },
    "id": "5Q1UHrvxLXu0",
    "jupyter": {
     "source_hidden": true
    },
    "outputId": "f9f0ff3a-1fcc-4ae3-98d3-d2bdb69a0e46"
   },
   "outputs": [],
   "source": [
    "#@title Example Solution- Another Way\n",
    "print('Counts of artists using sorted:', sorted(spotify.artist_count.unique()))"
   ]
  },
  {
   "cell_type": "markdown",
   "metadata": {
    "id": "tAhNjzxTxFPM"
   },
   "source": [
    "## 9.1 🏃 Coding Exercise\n",
    "\n",
    "It's also possible to sort the entire dataframe. `pandas` uses [`sort_values`](https://pandas.pydata.org/docs/reference/api/pandas.DataFrame.sort_values.html) to arrange the dataframe depending on what you'd like to sort by.\n",
    "\n",
    "Let's take a look at the dataframe sorted by `released_year`. Just how old are the oldest songs in our dataset?\n",
    "\n",
    ">**Task:** Use the skeleton code here and add it to a cell below. Sort based on `released_year`. <br>\n",
    "`sorted_df = dataframe.sort_values(by=['...'])`\n",
    "\n",
    "Note: `sort_values` defaults to the order of sorting as `ascending = True`. If you want to change this, add this parameter and set it to false to sort from most recent to oldest instead."
   ]
  },
  {
   "cell_type": "code",
   "execution_count": null,
   "metadata": {
    "id": "6B8lDaljymsO"
   },
   "outputs": [],
   "source": [
    "### YOUR CODE HERE ###"
   ]
  },
  {
   "cell_type": "code",
   "execution_count": null,
   "metadata": {
    "cellView": "form",
    "colab": {
     "base_uri": "https://localhost:8080/",
     "height": 1000
    },
    "id": "V6mZ6co-zHXT",
    "jupyter": {
     "source_hidden": true
    },
    "outputId": "898262b3-7f02-4ab4-e91c-192e692563a4"
   },
   "outputs": [],
   "source": [
    "#@title Example Solution\n",
    "# Surpring insight- christmas songs in our list?\n",
    "sorted_year = spotify.sort_values(by=['released_year']) # default is ascending = True\n",
    "sorted_year"
   ]
  },
  {
   "cell_type": "markdown",
   "metadata": {
    "id": "xYP5WSyQ_Bsf"
   },
   "source": [
    "Interesting! Just scrolling through the top of the list, there are some Christmas classic songs in there that still seem to be widely streamed! ❄ 🎄 ⛄"
   ]
  },
  {
   "cell_type": "markdown",
   "metadata": {
    "id": "EOFMoB3ko_VQ"
   },
   "source": [
    "## Descriptive Statistics 🔎\n",
    "\n"
   ]
  },
  {
   "cell_type": "markdown",
   "metadata": {
    "id": "rMOGR6oiO_z7"
   },
   "source": [
    "## 🏋 9.2 Coding Exercise\n",
    "We will now examine descriptive statistics of our different variables. We are typically interested in different parameters, such as: counts, means, and standard deviation. This will tell us more about our sample -- it will describe the data we have available to work with.<br>\n",
    "\n",
    "There is a built in method to do just this with `pandas` called [`describe`](https://pandas.pydata.org/pandas-docs/stable/reference/api/pandas.DataFrame.describe.html). <br>\n",
    "\n",
    "The code looks like this: ```dataframe.describe()``` <br>\n",
    "\n",
    ">**Task:** Write code below using our dataframe name to describe the data."
   ]
  },
  {
   "cell_type": "code",
   "execution_count": null,
   "metadata": {
    "id": "0BBebDH4qAKW"
   },
   "outputs": [],
   "source": [
    "### YOUR CODE HERE ###"
   ]
  },
  {
   "cell_type": "code",
   "execution_count": null,
   "metadata": {
    "cellView": "form",
    "colab": {
     "base_uri": "https://localhost:8080/",
     "height": 320
    },
    "id": "ZyjnRK83pCgv",
    "jupyter": {
     "source_hidden": true
    },
    "outputId": "7f3ea154-cc90-4790-d84e-d26d59a1ba35"
   },
   "outputs": [],
   "source": [
    "#@title Example Solution\n",
    "spotify.describe()"
   ]
  },
  {
   "cell_type": "markdown",
   "metadata": {
    "id": "vKOZHfuQqNOQ"
   },
   "source": [
    "Notice that by default, the information is calculated for only the columns that contain **numerical** data. It is possible to specify additional parameters for the `describe` method that will ask for **categorical** info to be displayed as well.\n",
    "\n",
    ">**Task:** Run the cell below to see the output that includes `all` datatypes. Notice how we will see NaNs for our numerical columns where the descriptives don't apply."
   ]
  },
  {
   "cell_type": "code",
   "execution_count": null,
   "metadata": {
    "colab": {
     "base_uri": "https://localhost:8080/",
     "height": 414
    },
    "id": "SMim7P5gqEp_",
    "outputId": "fee021e6-f4f7-4610-d541-5d55118fc9aa"
   },
   "outputs": [],
   "source": [
    "### RUN THIS CELL ###\n",
    "spotify.describe(include = 'all')"
   ]
  },
  {
   "cell_type": "markdown",
   "metadata": {
    "id": "DEhVoZcqsq05"
   },
   "source": [
    "## Groupby  👭"
   ]
  },
  {
   "cell_type": "markdown",
   "metadata": {
    "id": "pyrYeZh8stHI"
   },
   "source": [
    "We could instead create our own descriptive table based on a subset of information we are interested in.\n",
    "Grouping allows us to arrange our data in a way we want to review it. You can think of grouping as splitting the dataset data into buckets 🪣. Then you can call \"aggregate\" functions (`mean`, `sum`, `max`, `min`, etc) on these buckets to find these values per bucket (which can lead to interesting analysis 📊)!\n",
    "\n",
    "We will use [`groupby`](https://pandas.pydata.org/pandas-docs/stable/user_guide/groupby.html) in `pandas` to help us out. <br>\n",
    "\n",
    "A group by operation consists of two parts:\n",
    "1. We use ```.groupby``` to group rows together that have the same value for the column(s) we are interested in. Typically, you would always group by categorical columns, not number columns. E.g. If you are interested in analyzing the major versus minor mode of songs, we might do: ```spotify.groupby('mode')```\n",
    "\n",
    "2. An aggregation function. This is the computation you want to perform across the sets of rows that were grouped together during step 1. ```.count()```, ```.mean()```, and ```.sum()``` are common aggregation functions, but you can also pass your own as an argument to ```.aggregate()```.\n",
    "\n",
    "\n",
    "Here are examples of using `groupby` to examine our data further 🔬"
   ]
  },
  {
   "cell_type": "code",
   "execution_count": null,
   "metadata": {
    "colab": {
     "base_uri": "https://localhost:8080/",
     "height": 1000
    },
    "id": "3zDLHsxwtZF6",
    "outputId": "6d683ebb-3aed-4cdc-d47b-866718670909"
   },
   "outputs": [],
   "source": [
    "# Calculate summary statistics\n",
    "print(\"Summary statistics:\")\n",
    "\n",
    "# group and aggregate the values\n",
    "summary_stats = spotify.groupby(by=['artist_name']).agg(\n",
    "    {'artist_name': 'count', 'bpm': ['mean', 'std']}).round(2)\n",
    "\n",
    "# display\n",
    "display(summary_stats)"
   ]
  },
  {
   "cell_type": "markdown",
   "metadata": {
    "id": "k-zOpi16uwhf"
   },
   "source": [
    "Reviewing the above code:\n",
    "\n",
    "In this example, we wanted to see the **count** of `artist_name` and **mean** and **standard deviation** of `bpm` for each artist `artist_name`.<br>\n",
    "\n",
    "What we did with the code was:\n",
    "\n",
    "1. `groupby` one column name. We only used one column above, but you can add more than one.\n",
    "2. After we use `groupby`, we apply the aggregation method `.agg()` and specify a dictionary 📙 in a following way: `{column_name: aggregation function}`. We applied multiple functions at once on different columns.\n",
    "\n",
    "**Notice**:  We also applied multiple functions on the same column `bpm` by specifying a list that contained multiple functions in brackets like `[\"mean\", \"std\"]`.\n",
    "Also, we have NaNs in our standard deviation column. This is why I also included the count column. It makes sense that if we only have 1 song (1 row of data), then we cannot calculate any deviation. This is a good way to check that the values you get from your data make sense!\n"
   ]
  },
  {
   "cell_type": "markdown",
   "metadata": {
    "id": "DdvWn_bRuhWo"
   },
   "source": [
    "## 🏋 9.3 Coding Exercise\n",
    "\n",
    "Now it's your turn to practice using `groupby`. You can start by copy and pasting the code from above. Here we will `groupby` `artist_name` and then aggregate using both `count` (same as above), but instead finding the `min` and `max` of `released_year`. Adjust your code and test it out to review which artists have been releasing songs across multiple years, or to determine if some were one hit wonders! 🎯"
   ]
  },
  {
   "cell_type": "code",
   "execution_count": null,
   "metadata": {
    "id": "SQ38TjM4N30P"
   },
   "outputs": [],
   "source": [
    "### YOUR CODE HERE ###"
   ]
  },
  {
   "cell_type": "code",
   "execution_count": null,
   "metadata": {
    "cellView": "form",
    "colab": {
     "base_uri": "https://localhost:8080/",
     "height": 1000
    },
    "id": "dhvp-7lsuYOR",
    "jupyter": {
     "source_hidden": true
    },
    "outputId": "ddda41a8-d812-4147-960e-077aa22ca11c"
   },
   "outputs": [],
   "source": [
    "#@title Example Solution\n",
    "# Calculate summary statistics\n",
    "print(\"Summary statistics:\")\n",
    "\n",
    "# group and aggregate the values\n",
    "summary_stats = spotify.groupby(by=['artist_name']).agg(\n",
    "    {'artist_name': 'count', 'released_year': ['min', 'max']})\n",
    "\n",
    "# display\n",
    "display(summary_stats)"
   ]
  },
  {
   "cell_type": "markdown",
   "metadata": {
    "id": "B0_02o-nzrc0"
   },
   "source": [
    "-----\n",
    "\n",
    "# Section 10: Plotting with Seaborn (and Matplotlib) 📈 📊"
   ]
  },
  {
   "cell_type": "markdown",
   "metadata": {
    "id": "BXPQDhiPz3bo"
   },
   "source": [
    "<img src=\"https://upload.wikimedia.org/wikipedia/commons/8/87/Beauty_in_magic_square.png\" width=1000>\n",
    "\n",
    "[Seaborn](https://seaborn.pydata.org/) is a library for data visualization and figure making. Seaborn works very well with `pandas` dataframes, and you can modify the appearances of your plots using similar settings to how we did it in `numpy`. It can also work together with `matplotlib`. <br> In `seaborn`, we:<br>\n",
    "(1) decide what plotting function to use, <br>\n",
    "(2) pass the function a **full dataframe**, <br>\n",
    "(3) specify which columns in our dataframe we want to use as our x-axis, y-axis, colors, etc. and <br>\n",
    "(4) specify any additional parameters specific to the plotting function. <br>\n",
    "\n",
    "\n",
    "```\n",
    "sns.PLOT_FUNCTION(\n",
    "    data=YOUR_DATA,\n",
    "    x='COL TO USE FOR X',\n",
    "    y='COL TO USE FOR Y',\n",
    "    hue = 'COL YOU WANT TO SET COLOR ACCORDING TO',\n",
    "    additional params=...)\n",
    "```\n",
    "\n",
    "\n",
    ">**Task:** Review and run the cells below to see examples.\n"
   ]
  },
  {
   "cell_type": "markdown",
   "metadata": {
    "id": "vDm0oWgc5kSH"
   },
   "source": [
    "Let's create a plot to examine if there is a relationship between `bpm` and `energy %`? Does this vary by `mode`?"
   ]
  },
  {
   "cell_type": "code",
   "execution_count": null,
   "metadata": {
    "colab": {
     "base_uri": "https://localhost:8080/",
     "height": 483
    },
    "id": "IGRYITG65dTD",
    "outputId": "4b49942f-e280-458b-bf45-5573f5e4869a"
   },
   "outputs": [],
   "source": [
    "### RUN THIS CELL ###\n",
    "\n",
    "# Set this text for the plot- easiest to edit here as needed\n",
    "x_label_name = 'Beats per minute (bpm)'                                       # x-axis label text\n",
    "y_label_name = 'Energy %'                                                     # y-axis label text\n",
    "leg_title = 'Mode'                                                            # legend title - column name for hue\n",
    "plot_title = 'Relationship between BPM and Energy % by Mode'                  # plot title text\n",
    "fig_name_scatter1 = \"Scatter_BPM_Energy_Mode.png\"                             # text to name figure for saving\n",
    "\n",
    "# Example of a scatter plot\n",
    "sp = sns.scatterplot(                                                         # plotting option to use in seaborn\n",
    "    data=spotify,                                                             # dataframe\n",
    "    x='bpm',                                                                  # column name to use values for x-axis\n",
    "    y='energy_percent',                                                       # column name to use values for y-axis\n",
    "    hue='mode')                                                               # color code our dots by mode column values\n",
    "\n",
    "# Adjustment + aesthetics of plot\n",
    "sp.figure.set_size_inches(6.5, 4.5)                                           # this sets the size and we will use to be consistent across all plots below\n",
    "sns.despine()                                                                 # remove top and right axes (w/o this, full box border)\n",
    "plt.xlabel(x_label_name)                                                      # use matplotlib (plt) to adjust the x axis on this one\n",
    "plt.ylabel(y_label_name)                                                      # use matplotlib (plt) to adjust the y axis on this one\n",
    "plt.title(plot_title, y=1.05)                                                 # add a title so we know what we plotted!\n",
    "plt.ylim(0,100)                                                               # use matplotlib (plt) to adjust the y axis limits\n",
    "plt.legend(bbox_to_anchor=(1.1, 0.05), loc='lower right', title=leg_title);   # use matplotlib (plt) to adjust the legend location and label\n",
    "\n",
    "# Save our figure\n",
    "plt.savefig(fig_name_scatter1, dpi=300, bbox_inches='tight')                  # save w/figure name"
   ]
  },
  {
   "cell_type": "markdown",
   "metadata": {
    "id": "k3ZaohzR5vBP"
   },
   "source": [
    "Let's create a boxplot to examine if there are differences between number of `streams` depending on `release_month` and by `mode`."
   ]
  },
  {
   "cell_type": "code",
   "execution_count": null,
   "metadata": {
    "colab": {
     "base_uri": "https://localhost:8080/",
     "height": 500
    },
    "id": "rq8dWXyzQwYQ",
    "outputId": "5f692f81-c68f-440e-8a39-9f8894128047"
   },
   "outputs": [],
   "source": [
    "### RUN THIS CELL ###\n",
    "\n",
    "# Set this text for the plot- easiest to edit here as needed\n",
    "x_label_name = 'Release Month'                                                # x-axis label text\n",
    "y_label_name = 'Streams'                                                      # y-axis label text\n",
    "leg_title = 'Mode'                                                            # legend title - column name for hue\n",
    "plot_title = 'Streams of Songs Released Over Month by Mode'                   # plot title text\n",
    "fig_name_box = \"Boxplot_ReleaseMonth_Streams_Mode.png\"                        # text to name figure for saving\n",
    "\n",
    "# Example of a scatter plot\n",
    "bp = sns.boxplot(                                                             # plotting option to use in seaborn\n",
    "    data=spotify,                                                             # dataframe\n",
    "    x='released_month',                                                       # column name to use values for x-axis\n",
    "    y='streams',                                                              # column name to use values for y-axis\n",
    "    hue='mode')                                                               # color code our dots by mode column values\n",
    "\n",
    "# Adjustment + aesthetics of plot\n",
    "bp.figure.set_size_inches(6.5, 4.5)                                           # this sets the size and we will use to be consistent across all plots below\n",
    "sns.despine()                                                                 # remove top and right axes (w/o this, full box border)\n",
    "plt.xlabel(x_label_name)                                                      # use matplotlib (plt) to adjust the x axis on this one\n",
    "plt.ylabel(y_label_name)                                                      # use matplotlib (plt) to adjust the y axis on this one\n",
    "plt.title(plot_title, y=1.1)                                                  # add a title so we know what we plotted!\n",
    "plt.ylim(0,4000000000)                                                        # use matplotlib (plt) to adjust the y axis limits\n",
    "plt.legend(bbox_to_anchor=(1.2, 1.05), loc='upper right', title=leg_title);   # use matplotlib (plt) to adjust the legend location and label\n",
    "\n",
    "# Save our figure\n",
    "plt.savefig(fig_name_box, dpi=300, bbox_inches='tight')                       # save w/figure name"
   ]
  },
  {
   "cell_type": "markdown",
   "metadata": {
    "id": "okItEN0lbzyF"
   },
   "source": [
    "## 💁 A Few Tips on Data Visualization\n",
    "\n",
    "Although there are many reviews and studies discussing [best practices for figures](https://journals.plos.org/ploscompbiol/article?id=10.1371/journal.pcbi.1003833), we will list a couple of `pandas` plots you can utilize when you wish to visualize various relationships:\n",
    "\n",
    "**Visualizing a single variable**\n",
    "- Histogram (```sns.hist()```)\n",
    "- Barplot, i.e. for counts of a single variable (```sns.bar()```)\n",
    "\n",
    "**Visualizing multiple numeric variables**\n",
    "- Scatter plot/line graph (```sns.scatter```)\n",
    "- 2d histogram plot (```sns.jointplot()```)\n",
    "\n",
    "**Visualizing categorial & numerical variable**\n",
    "- Violinplot/Boxplot (```sns.violinplot()```, ```sns.boxplot()```)\n",
    "- Stripplot or swarm plot (```sns.stripplot()```, ```sns.swarmplot()```)\n",
    "- Barplot (```sns.barplot()```, ```sns.boxplot()```)\n",
    "\n",
    "**Visualizing two categorical variables**\n",
    "- Heatmap (```sns.heatmap()```)<br><br>\n",
    "\n",
    "\n",
    "To visualize 3 variables, consider encoding one variable as the color. To visualize 4+ variables, consider using [facetgrid](https://seaborn.pydata.org/generated/seaborn.FacetGrid.html)."
   ]
  },
  {
   "cell_type": "markdown",
   "metadata": {
    "id": "9IS30cBW1NtB"
   },
   "source": [
    "## 10.1 🧘 Coding Exercise"
   ]
  },
  {
   "cell_type": "markdown",
   "metadata": {
    "id": "8mtXacXX1T8c"
   },
   "source": [
    "Let's look at the top 15 artists with the most songs. We will create a barplot to do this. In this example, we are going to create a smaller subset of the data and reference that instead of the entire dataframe.\n",
    "\n",
    ">**Task:** Run the first 3 cells to get a feel for the data and then to create an initial plot. Notice that the plot is missing lots of details! Skeleton code is provided to adjust the labels and aesthetics. Adjust the provided code below to create the plot and see which artists fall within the top 15!"
   ]
  },
  {
   "cell_type": "code",
   "execution_count": null,
   "metadata": {
    "colab": {
     "base_uri": "https://localhost:8080/"
    },
    "id": "kCmCvpz0BQZD",
    "outputId": "915b0cc6-7c4a-4419-de62-4beb0d37a531"
   },
   "outputs": [],
   "source": [
    "### RUN THIS CELL ###\n",
    "artist_counts = spotify['artist_name'].value_counts()\n",
    "artist_counts.head(50)"
   ]
  },
  {
   "cell_type": "code",
   "execution_count": null,
   "metadata": {
    "colab": {
     "base_uri": "https://localhost:8080/"
    },
    "id": "6RLc81mDXbXV",
    "outputId": "33b12f3d-1aee-4de4-d7b5-1288281de2b9"
   },
   "outputs": [],
   "source": [
    "### RUN THIS CELL - THIS IS THE DATA OF THE TOP 15 TO USE ###\n",
    "artist_plot = artist_counts.head(15)\n",
    "artist_plot"
   ]
  },
  {
   "cell_type": "code",
   "execution_count": null,
   "metadata": {
    "colab": {
     "base_uri": "https://localhost:8080/",
     "height": 464
    },
    "id": "m2pJEwCqZ55s",
    "outputId": "3e89dcf1-3db2-4250-9d63-3f0cbd1a04e2"
   },
   "outputs": [],
   "source": [
    "### RUN THIS CELL ###\n",
    "ax = sns.barplot(                                              # plotting option to use in seaborn\n",
    "    x = artist_plot.index,                                     # column name to use values for x-axis\n",
    "    y = artist_plot,                                           # column name to use values for y-axis\n",
    "    palette = 'flare')                                         # set the color palette we want to use"
   ]
  },
  {
   "cell_type": "markdown",
   "metadata": {
    "id": "cC7unOysaZki"
   },
   "source": [
    "Blah! 😏 That doesn't look very nice. Who are the artists? 🎨\n",
    "\n",
    ">**Task:** In the code cell below, add all of the labels at the beginning and then adjust the aesthetics. Use the code examples for the initial plots to see what you should do."
   ]
  },
  {
   "cell_type": "code",
   "execution_count": null,
   "metadata": {
    "id": "F3MkNVX9kXV-"
   },
   "outputs": [],
   "source": [
    "### EDIT THIS CELL ###\n",
    "# Set this text for the plot- easiest to edit here as needed\n",
    "# My solution included 4 lines here\n",
    "...\n",
    "\n",
    "# Barplot\n",
    "ax = sns.barplot(                                              # plotting option to use in seaborn\n",
    "    x = artist_plot.index,                                     # column name to use values for x-axis\n",
    "    y = artist_plot,                                           # column name to use values for y-axis\n",
    "    hue = artist_plot,                                         # color code our dots by mode column values\n",
    "    palette = 'flare')                                         # set the color palette we want to use\n",
    "\n",
    "# Adjustment + aesthetics of plot\n",
    "# My solution included 6 lines here\n",
    "....\n",
    "plt.xticks(rotation=45,ha='right')                             # Rotate x-axis labels for better readability\n",
    "\n",
    "# My solution included code to save the plot\n",
    "..."
   ]
  },
  {
   "cell_type": "code",
   "execution_count": null,
   "metadata": {
    "cellView": "form",
    "colab": {
     "base_uri": "https://localhost:8080/",
     "height": 611
    },
    "id": "vWkyMx1Za7hm",
    "jupyter": {
     "source_hidden": true
    },
    "outputId": "46c3980d-b92a-445b-e95a-208aeefdc7d6"
   },
   "outputs": [],
   "source": [
    "#@title Solution\n",
    "# Set this text for the plot- easiest to edit here as needed\n",
    "x_label_name = 'Artist Name'                                             # x-axis label text\n",
    "y_label_name = 'Number of Songs'                                         # y-axis label text\n",
    "plot_title = 'Top 15 Artists With Most Songs'                            # plot title text\n",
    "fig_name_bar = 'Top15_artists_bar.png'                                   # text to name figure for saving\n",
    "\n",
    "# Example of barplot\n",
    "ax = sns.barplot(                                              # plotting option to use in seaborn\n",
    "    x = artist_plot.index,                                     # column name to use values for x-axis\n",
    "    y = artist_plot,                                           # column name to use values for y-axis\n",
    "    palette = 'flare')                                         # set the color palette we want to use\n",
    "\n",
    "# Adjustment + aesthetics of plot\n",
    "ax.figure.set_size_inches(6.5, 4.5)                            # this sets the size and we will use to be consistent across all plots below\n",
    "sns.despine()                                                  # remove top and right axes (w/o this, full box border)\n",
    "plt.xlabel(x_label_name)                                       # use matplotlib (plt) to adjust the x axis on this one\n",
    "plt.ylabel(y_label_name)                                       # use matplotlib (plt) to adjust the y axis on this one\n",
    "plt.xticks(rotation=45,ha='right')                             # Rotate x-axis labels for better readability\n",
    "plt.title(plot_title, y=1.1)                                   # add a title so we know what we plotted!\n",
    "plt.ylim(0,40);                                                # use matplotlib (plt) to adjust the y axis limits\n",
    "\n",
    "# Save our figure\n",
    "plt.savefig(fig_name_bar, dpi=300, bbox_inches='tight')                       # save w/figure name\n"
   ]
  },
  {
   "cell_type": "markdown",
   "metadata": {
    "id": "Vs-gOo0P3J89"
   },
   "source": [
    "## 🏃 10.2 Coding Exercise\n",
    "\n",
    "Let's look at the number of songs released per month. We will create a barplot to do this. In this example, we are going to create a smaller dataframe first.\n",
    "\n",
    ">**Task:** Run the first cell to get the data we want to work with and then create an initial plot. Notice that the plot is missing lots of details! Skeleton code is provided to adjust the labels and aesthetics. Adjust the provided code below to create the plot and see which months have the most songs released."
   ]
  },
  {
   "cell_type": "code",
   "execution_count": null,
   "metadata": {
    "colab": {
     "base_uri": "https://localhost:8080/",
     "height": 426
    },
    "id": "XiP19TNoeG1I",
    "outputId": "16110508-4cbf-4200-8a61-81da4635ae8f"
   },
   "outputs": [],
   "source": [
    "### RUN THIS CELL ###\n",
    "songs_over_time = spotify['released_month'].value_counts().reset_index()\n",
    "songs_over_time.columns = ['released_month', 'count']\n",
    "songs_over_time"
   ]
  },
  {
   "cell_type": "code",
   "execution_count": null,
   "metadata": {
    "colab": {
     "base_uri": "https://localhost:8080/",
     "height": 470
    },
    "id": "vpJfBekyeV_v",
    "outputId": "5db49f32-c94f-4b97-a288-20142c805d27"
   },
   "outputs": [],
   "source": [
    "### RUN THIS CELL ###\n",
    "b2 = sns.barplot(                                          # plotting option to use in seaborn\n",
    "    data = songs_over_time,                                # dataframe\n",
    "    x = 'released_month',                                  # column name to use values for x-axis\n",
    "    y = 'count',                                           # column name to use values for y-axis\n",
    "    hue = 'released_month',                                # color code our bars\n",
    "    palette = 'viridis')                                   # set the color palette we want to use"
   ]
  },
  {
   "cell_type": "markdown",
   "metadata": {
    "id": "nzSezgUNexU0"
   },
   "source": [
    "Again we've generated an initial plot that looks okay, but we can improve! We also need to move (remove) that legend.\n",
    "\n",
    ">**Task:** Edit the code below to beautify the plot ✨ <br>\n",
    "Hint: To remove the legend, set `legend = False` in the part where `b2` is defined within seaborn."
   ]
  },
  {
   "cell_type": "code",
   "execution_count": null,
   "metadata": {
    "id": "G2VHLZunf9gU"
   },
   "outputs": [],
   "source": [
    "### EDIT THIS CELL ###\n",
    "# My solution included 4 lines here\n",
    "...\n",
    "\n",
    "\n",
    "b2 = sns.barplot(                                          # plotting option to use in seaborn\n",
    "    data = songs_over_time,                                # dataframe\n",
    "    x = 'released_month',                                  # column name to use values for x-axis\n",
    "    y = 'count',                                           # column name to use values for y-axis\n",
    "    hue = 'released_month',                                # color code our bars\n",
    "    palette = 'viridis')                                   # set the color palette we want to use\n",
    "# My solution added a line here to remove the legend\n",
    "\n",
    "\n",
    "# My solution included 6 lines here\n",
    "....\n",
    "\n",
    "# My solution included code to save the plot\n",
    "...\n"
   ]
  },
  {
   "cell_type": "code",
   "execution_count": null,
   "metadata": {
    "cellView": "form",
    "colab": {
     "base_uri": "https://localhost:8080/",
     "height": 500
    },
    "id": "_FpPsWegew4F",
    "jupyter": {
     "source_hidden": true
    },
    "outputId": "5708846e-3860-4655-bba4-7ada1dddb302"
   },
   "outputs": [],
   "source": [
    "#@title Example Solution\n",
    "x_label_name = 'Release Month'                                             # x-axis label text\n",
    "y_label_name = 'Number of Songs'                                            # y-axis label text\n",
    "plot_title = 'Number of Songs by Release Month'                             # plot title text\n",
    "fig_name_bar2 = 'NumSongs_ReleaseMonth.png'                                 # text to name figure for saving\n",
    "\n",
    "\n",
    "b2 = sns.barplot(                                          # plotting option to use in seaborn\n",
    "    data = songs_over_time,                                # dataframe\n",
    "    x = 'released_month',                                  # column name to use values for x-axis\n",
    "    y = 'count',                                           # column name to use values for y-axis\n",
    "    hue = 'released_month',                                # color code our bars\n",
    "    palette = 'viridis',                                   # set the color palette we want to use\n",
    "    legend = False)                                        # remove the legend\n",
    "\n",
    "\n",
    "# Adjustment + aesthetics of plot\n",
    "b2.figure.set_size_inches(6.5, 4.5)                            # this sets the size and we will use to be consistent across all plots below\n",
    "sns.despine()                                                  # remove top and right axes (w/o this, full box border)\n",
    "plt.xlabel(x_label_name)                                       # use matplotlib (plt) to adjust the x axis on this one\n",
    "plt.ylabel(y_label_name)                                       # use matplotlib (plt) to adjust the y axis on this one\n",
    "plt.title(plot_title, y=1.1)                                   # add a title so we know what we plotted!\n",
    "plt.ylim(0,140);                                               # use matplotlib (plt) to adjust the y axis limits\n",
    "\n",
    "# Save our figure\n",
    "plt.savefig(fig_name_bar2, dpi=300, bbox_inches='tight')       # save w/figure name\n"
   ]
  },
  {
   "cell_type": "markdown",
   "metadata": {
    "id": "dt2emRy421KA"
   },
   "source": [
    "## 🏋 10.3 Coding Exercise\n",
    "\n",
    "Now let's look at another type of plot to examine correlation values. We will use a `heatmap` to correlate the following variables:<br>\n",
    "`streams`<br>\n",
    "`bpm`<br>\n",
    "`danceability_percent`<br>\n",
    "`valence_percent`<br>\n",
    "`energy_percent`<br>\n",
    "`acousticness_percent`<br>\n",
    "`instrumentalness_percent`<br>\n",
    "`liveness_percent`<br>\n",
    "`speechiness_percent`<br>\n",
    "\n",
    "First we will create a list of the column names we want to correlate. Then we will use [`.corr()`](https://pandas.pydata.org/docs/reference/api/pandas.DataFrame.corr.html)to get the correlation matrix. Example call: <br>\n",
    "`corr_matrix = dataframe[columns_to_corr].corr()`\n",
    "\n",
    "\n",
    "Once we have these values, we can create our plot in `seaborn`.\n",
    "\n",
    ">**Task:** Edit the code below to create our heatmap."
   ]
  },
  {
   "cell_type": "code",
   "execution_count": null,
   "metadata": {
    "id": "L9VPdNKihxnY"
   },
   "outputs": [],
   "source": [
    "### EDIT THIS CELL ###\n",
    "# Setup dataframe\n",
    "columns_to_correlate = ...\n",
    "corr_matrix = ...\n",
    "\n",
    "# Title and saving name\n",
    "# My solution had 2 lines here\n",
    "....\n",
    "\n",
    "# Plotting code\n",
    "hm = sns.heatmap(corr_matrix,        # corr matrix as df\n",
    "            annot=True,         # include values on map\n",
    "            #cmap='crest',      # change the color if you want\n",
    "            fmt=\".2f\")          # 2 decimals for displayed values\n",
    "\n",
    "# Adjustment + aesthetics of plot (size and title only)\n",
    "# My solution had 2 lines here\n",
    "\n",
    "# Save the fig\n",
    "# My solution had one line to save the fig\n"
   ]
  },
  {
   "cell_type": "code",
   "execution_count": null,
   "metadata": {
    "cellView": "form",
    "colab": {
     "base_uri": "https://localhost:8080/",
     "height": 1000
    },
    "id": "YeBl4mRTjr5d",
    "jupyter": {
     "source_hidden": true
    },
    "outputId": "0284f4f1-a0fe-41f3-8d74-5dfa09c4daff"
   },
   "outputs": [],
   "source": [
    "#@title Example Solution\n",
    "\n",
    "# Setup dataframe\n",
    "columns_to_correlate = ['streams', 'bpm', 'danceability_percent', 'valence_percent', 'energy_percent', 'acousticness_percent', 'instrumentalness_percent', 'liveness_percent', 'speechiness_percent']\n",
    "corr_matrix = spotify[columns_to_correlate].corr()\n",
    "\n",
    "# Labels and title\n",
    "plot_title = 'Correlation Heatmap'                            # plot title text\n",
    "fig_name_hmp = 'Corr_heatmap.png'                             # text to name figure for saving\n",
    "\n",
    "\n",
    "# Plotting code\n",
    "hm = sns.heatmap(corr_matrix,                                 # corr matrix as df\n",
    "            annot=True,                                       # include values on map\n",
    "            #cmap='crest',                                    # change the color if you want\n",
    "            fmt=\".2f\")                                        # 2 decimals for displayed values\n",
    "\n",
    "# Adjustment + aesthetics of plot (size and title only)\n",
    "hm.figure.set_size_inches(10, 8)                              # this sets the size and we will use to be consistent across all plots below\n",
    "plt.title(plot_title, y=1.1)                                  # add a title so we know what we plotted\n",
    "\n",
    "# Save our figure\n",
    "plt.savefig(fig_name_hmp, dpi=300, bbox_inches='tight')       # save w/figure name"
   ]
  },
  {
   "cell_type": "markdown",
   "metadata": {
    "id": "YvSpYkk53Ezv"
   },
   "source": [
    "## Bonus: Plotting a Relationship 🤝\n",
    "\n",
    "Do you think `acousticness` and `energy` have a relationship with each other? If you think so, what direction would you expect (positive or negative)? If you wanted to visualize this relationship, which plot would you use?\n",
    "\n",
    ">**Task:** Create your plot below"
   ]
  },
  {
   "cell_type": "code",
   "execution_count": null,
   "metadata": {
    "id": "WhGTEUYBlGnb"
   },
   "outputs": [],
   "source": [
    "### YOUR CODE HERE ###"
   ]
  },
  {
   "cell_type": "code",
   "execution_count": null,
   "metadata": {
    "cellView": "form",
    "colab": {
     "base_uri": "https://localhost:8080/",
     "height": 483
    },
    "id": "hiVhCANIEOqM",
    "jupyter": {
     "source_hidden": true
    },
    "outputId": "19955d85-154f-44d5-fe93-c64d545dba0d"
   },
   "outputs": [],
   "source": [
    "#@title Example Solution\n",
    "# Set this text for the plot- easiest to edit here as needed\n",
    "x_label_name = 'Acousticness %'\n",
    "y_label_name = 'Energy %'\n",
    "leg_title = 'Mode'\n",
    "plot_title = 'Relationship between Acousticness % and Energy %'\n",
    "fig_name_scatter2 = 'Scatter_Acoustic_Energy_.png'\n",
    "\n",
    "# Example of a scatter plot\n",
    "sp2 = sns.scatterplot(\n",
    "    data=spotify,\n",
    "    x='acousticness_percent',\n",
    "    y='energy_percent')\n",
    "\n",
    "# Adjustment + aesthetics of plot\n",
    "sp2.figure.set_size_inches(6.5, 4.5)\n",
    "sns.despine()\n",
    "plt.xlabel(x_label_name)\n",
    "plt.ylabel(y_label_name)\n",
    "plt.title(plot_title, y=1.05)\n",
    "plt.ylim(0,100)\n",
    "\n",
    "# Save our figure\n",
    "plt.savefig(fig_name_scatter2, dpi=300, bbox_inches='tight')  # save"
   ]
  },
  {
   "cell_type": "markdown",
   "metadata": {},
   "source": [
    "---\n",
    "\n",
    "## ⏩ 11.0 Functions\n",
    "\n",
    "\n",
    "The \"commands\" or \"instructions\" we have been using have a name in Python: they are called **functions**.\n",
    "\n",
    "\n",
    "A function is a block of code which only runs when it is called. The commands we were using that typically involved `()` were actually functions! Example: `np.random.choice()`\n",
    "\n",
    "You can pass data, known as arguments or parameters, into a function. A function can return nothing at all. A function can also return data as a result."
   ]
  },
  {
   "cell_type": "markdown",
   "metadata": {},
   "source": [
    "### 🖊 Writing a function\n",
    "\n",
    "Not only can you use functions included in the Python libraries you imported, or native to Python, you can also write your own functions.\n",
    "\n",
    "\n",
    "Defining, or creating a function, always uses the following syntax.\n",
    "\n",
    "```\n",
    "def FunctionName(parameter_name1, parametername2, ...):\n",
    "  FUNCTION BODY\n",
    "  return ReturnValues\n",
    "```\n",
    "  \n",
    "\n",
    "*   **```def```**: This keyword tells Python that you are about to define a function. Don't forget to also have parentheses and a colon.\n",
    "*   **Function name**: The name of your function that you are going to use to call it whenever you need it to run!\n",
    "*   **Function body**: The set of commands or operations you want your function to execute whenever it is called. <font color='red'> Note that the function body (which can be multiple lines) and return statement need to be indented relative to the ```def``` line!</font>\n",
    "*   **Arguments** (optional): The variable names for optional input values you give the funciton. When writing your function body you can reference the argument variable name to refer to the value of the corresponding input.\n",
    "*   **```return```** and Return values (optional): The keyword `return`, followed by any data or values you want your function to return when called.\n",
    "\n",
    "Note that you will need to run the code that defines a function before you are able to call it.\n",
    "\n",
    "\n",
    "\n"
   ]
  },
  {
   "cell_type": "markdown",
   "metadata": {},
   "source": [
    "### 🧗 11.1 Coding Exercise\n",
    "\n",
    "This exercise combines what you've learned about functions, for loops and if statements.\n",
    "Use a for loop to go through the rows of our dataset. On every iteration of the loop, use the function defined below called ```roll_the_dice()``` 🎲 .\n",
    "- If the roll of the dice is even, store the `bpm` data for the current row in `evens`.\n",
    "- If the roll of the dice is odd, store the `bpm` data for the current row in `odds`.\n",
    "\n",
    "After the loop is complete, take the average of the evens, as well as the odds. Print the two means.\n"
   ]
  },
  {
   "cell_type": "code",
   "execution_count": null,
   "metadata": {},
   "outputs": [],
   "source": [
    "### RUN THIS CELL ###\n",
    "def roll_the_dice():\n",
    "  return np.random.choice([1,2,3,4,5,6])"
   ]
  },
  {
   "cell_type": "code",
   "execution_count": null,
   "metadata": {},
   "outputs": [],
   "source": [
    "### YOUR CODE HERE ###"
   ]
  },
  {
   "cell_type": "code",
   "execution_count": null,
   "metadata": {
    "jupyter": {
     "source_hidden": true
    }
   },
   "outputs": [],
   "source": [
    "#@title Example Solution\n",
    "evens = []\n",
    "odds = []\n",
    "\n",
    "for i in range(len(spotify)):\n",
    "  dice_roll = roll_the_dice()\n",
    "  #print('dice_roll: ', dice_roll)\n",
    "  if (dice_roll==1) or (dice_roll==3) or (dice_roll==5):\n",
    "     odds.append(spotify.bpm[i])\n",
    "  else:\n",
    "     evens.append(spotify.bpm[i])\n",
    "\n",
    "print('Average of evens:', np.average(evens).round(2))\n",
    "print('Average of odds:', np.average(odds).round(2))"
   ]
  },
  {
   "cell_type": "markdown",
   "metadata": {},
   "source": [
    "---\n",
    "\n",
    "\n",
    "## 12.0 Plotting with Matplotlib\n",
    "\n",
    "<img src=\"https://upload.wikimedia.org/wikipedia/commons/d/d9/Julia_set%2C_plotted_with_Matplotlib.svg\" width=400>\n",
    "\n",
    "**Matplotlib** is a graphics library built to play nicely with numpy. Matplotlib was also concieved as an alternative to using matlab's plotting tools, so those familiar with matlab may notice some syntax overlap. Nowadays, there are certainly more advanced plotting libraries than Matplotlib with various beautifying features, but Matplotlib remains popular because of its simplicity and ability to work with nearly every graphics engine.\n",
    "\n",
    "Recall that previously, we imported matplot library pyplot as plt (See \"[Imports & Libraries](https://colab.research.google.com/drive/1mJXrW_IvUCnsQh_vqzjJalsUuF9mJww7#scrollTo=Si-MZ10nODDZ)\"). Optionally, we can also set a default style for our matplotlib plots. Some available styles are \"ggplot\", \"classic\", \"fivethirtyeight\", and \"tableau-colorblind10\". We'll just use the \"classic\" style for now, but feel free to experiment with different styles by running the following code."
   ]
  },
  {
   "cell_type": "code",
   "execution_count": null,
   "metadata": {},
   "outputs": [],
   "source": [
    "# Run this to set the default matplotlib style (optional)\n",
    "plt.style.use('fivethirtyeight')\n",
    "\n",
    "# Example plot\n",
    "plt.figure(figsize=(3,3))\n",
    "plt.plot([1,2,3,4], [2,3,4,5], '-x')\n",
    "plt.show()"
   ]
  },
  {
   "cell_type": "markdown",
   "metadata": {},
   "source": [
    "### 🖌 Plotting, Rendering, and Saving Figures\n",
    "\n",
    "The cleanest way to save a figure is:\n",
    "\n",
    "(1) Initialize a figure object. If you are combining multiple plots onto one figure object you may want to initialize \"ax\" (axis) objects for each plot as well, so that you can have more control over the settings of each graph later.\n",
    "\n",
    "(2) Plot your data on your figure. Matplotlib lets you do this directly from the pyplot module (```plt.plot(x,y)```), or you can apply the plot function to the specific axes (subplot) you wish to graph to. (```ax[0].plot(x,y)```).\n",
    "\n",
    "(3) Save your figure to a filename.\n",
    "\n",
    "(4) Use ```plt.show()``` to render your figure.\n",
    "\n",
    "\n",
    "This strategy should work in colab, jupyter notebook, or within a Python script.\n",
    "\n",
    "</br>\n",
    "\n",
    "Here are a two different example workflows for creating images. Feel free to look in your Colab files for the saved figure. This same workflow should work in a jupyter notebook, a Python script, or a Python command line as well."
   ]
  },
  {
   "cell_type": "code",
   "execution_count": null,
   "metadata": {},
   "outputs": [],
   "source": [
    "### EXAMPLE 1 ####\n",
    "print(\"Example 1...\")\n",
    "x = np.array([1,2,3,4,5,6])\n",
    "y = np.array([1,4,5,6,7,19])\n",
    "\n",
    "# Initialize figure\n",
    "# Note that we can set a figsize parameter\n",
    "# to specify the window size.\n",
    "fig = plt.figure(figsize=(4,3))\n",
    "\n",
    "# Simple scatter plot\n",
    "plt.plot(x,y, 'x')\n",
    "plt.xlabel('x')\n",
    "plt.ylabel('y')\n",
    "\n",
    "# Save figure\n",
    "plt.savefig('example1.png')\n",
    "\n",
    "# Render figure in colab window\n",
    "plt.show()\n",
    "\n",
    "print('Example 2...')\n",
    "\n",
    "### EXAMPLE 2 ###\n",
    "\n",
    "# Initialize figure\n",
    "# This time we will initialize a figure with subplots,\n",
    "# consisting of 3 graphs, each next to the other.\n",
    "fig, ax = plt.subplots(figsize=(12,3), ncols=3)\n",
    "\n",
    "# One scatter plot and one line plot.\n",
    "ax[0].plot(x,y, 'x')\n",
    "ax[1].plot(x,y, '-')\n",
    "ax[2].plot(x,y, 'o')\n",
    "\n",
    "\n",
    "for i in range(3):\n",
    "  ax[i].set_xlabel('x')\n",
    "  ax[i].set_ylabel('y')\n",
    "\n",
    "# Save figure\n",
    "plt.savefig('example2.png')\n",
    "\n",
    "# Render figure in colab window\n",
    "plt.show()"
   ]
  },
  {
   "cell_type": "markdown",
   "metadata": {},
   "source": [
    "### 🌈 Multiple Lines on a graph\n",
    "\n",
    "There are many cases where we may want to show 3 or more dimensions on a graph, using color or shape as the third dimensions. There are two strategies for doing this.\n",
    "\n",
    "(1) Plot each line/distribution on the graph at a time, specifying the label and color for each line\n",
    "\n",
    "or\n",
    "\n",
    "(2) Plot a multidimensional numpy array, specifiying which axis should be the x, y, color, or shape axes.\n",
    "\n",
    "\n",
    "Here is an example, build a histogram of different candy costs in 50 states (randomly generated)."
   ]
  },
  {
   "cell_type": "code",
   "execution_count": null,
   "metadata": {},
   "outputs": [],
   "source": [
    "sour_patch_kids_cost = np.random.rand(50)+.5\n",
    "hershey_bar_cost = np.random.rand(50)+.25\n",
    "reeses_cost = np.random.rand(50)+1\n",
    "\n",
    "\n",
    "# We will use 10 cent incrememnts from 0-3$\n",
    "# for our histogram buckets (optional argument).\n",
    "cost_bins = [i*.1 for i in range(30)]\n",
    "\n",
    "\n",
    "##### Approach 1 ######\n",
    "f = plt.figure(figsize=(5,4))\n",
    "\n",
    "# The alpha parameter refers to how opaque each color is.\n",
    "print(\"Example 1...\")\n",
    "plt.hist(sour_patch_kids_cost, color='green', label='sour patch', alpha=.7, bins=cost_bins, histtype='stepfilled')\n",
    "plt.hist(hershey_bar_cost, color='brown', label='hershey', alpha=.7, bins=cost_bins, histtype='stepfilled')\n",
    "plt.hist(reeses_cost, color='orange', label='reeses', alpha=.7, bins=cost_bins, histtype='stepfilled')\n",
    "plt.legend()\n",
    "plt.xlabel('cost per bar')\n",
    "plt.ylabel('# of stores')\n",
    "plt.show()\n",
    "\n",
    "\n",
    "##### Approach 2 ####\n",
    "print(\"Example 2...\")\n",
    "f = plt.figure(figsize=(5,4))\n",
    "all_candy_bars = np.array([sour_patch_kids_cost,\n",
    "                           hershey_bar_cost,\n",
    "                           reeses_cost]).transpose()\n",
    "plt.hist(all_candy_bars, alpha=.8,\n",
    "         color=['green', 'brown', 'orange'],\n",
    "         label=['sour patch', 'hershey', 'reeses'],\n",
    "         histtype='stepfilled', bins=cost_bins)\n",
    "plt.xlabel('cost per bar')\n",
    "plt.ylabel('# of stores')\n",
    "plt.legend()\n",
    "plt.show()\n"
   ]
  },
  {
   "cell_type": "markdown",
   "metadata": {},
   "source": [
    "### 💄 Beautifying your plots\n",
    "\n",
    "\n",
    "A complaint many have about Matplotlib is that the plots are not very aesthetically appealing by default. However, Matplotlib offeres numerous settings you can control in order to have precise control over what your plots look like. Here are a few examples of what you can control and how to go about changing these settings.\n",
    "\n",
    "Let's start with the following plots, and experiment with changing some of the parameters.\n",
    "\n",
    "\n",
    "**Colors and Shapes**\n",
    "\n",
    "Typically, we pass in arguments for what we want the colors and shapes of a plot to look like, when we call the plotting function (```.plot()```, ```.hist()```, etc.).  You can also set a specific color palette for Matplotlib to select colors from.\n",
    "\n"
   ]
  },
  {
   "cell_type": "code",
   "execution_count": null,
   "metadata": {},
   "outputs": [],
   "source": [
    "f, ax = plt.subplots(ncols=2, nrows=2, figsize=(10,10))\n",
    "\n",
    "# Some random distributions for variables.\n",
    "x = np.random.random(500)\n",
    "y = x + .2*np.random.randn(500)\n",
    "i = np.random.randn(500)\n",
    "j = np.random.randn(500)\n",
    "\n",
    "# Plotting different types of plots.\n",
    "# Sometimes if you want to edit a figure,\n",
    "# it can be helpful to return an object from the plotting function\n",
    "# and then you can mess around with properties of that object.\n",
    "# (See plt3 for an example)\n",
    "plt1 = ax[0,0].plot(x,y,\n",
    "             marker='x', linestyle='none',\n",
    "             markersize=15, color='red', label='dist1')\n",
    "plt11 = ax[0,0].plot(x,i,\n",
    "             marker='.', linestyle='none',\n",
    "             markersize=8, color='blue', label='dist2')\n",
    "\n",
    "# We can also specify our colors in hexcode.\n",
    "plt2 = ax[0,1].hist(x, color='#a032a8')\n",
    "\n",
    "\n",
    "# patch_artist=True lets us color in the boxes.\n",
    "plt3 = ax[1,0].boxplot([x,y,i,j], patch_artist=True)\n",
    "# We can reference the object output by our plotting function\n",
    "# in order to change various parameters.\n",
    "plt3['boxes'][0].set_color('red')\n",
    "plt3['boxes'][1].set_color('orange')\n",
    "plt3['boxes'][2].set_color('yellow')\n",
    "plt3['boxes'][3].set_color('pink')\n",
    "\n",
    "# See matlab documentation for different color maps\n",
    "plt4 = ax[1,1].hist2d(i,j, bins=20, cmap='spring')\n",
    "\n",
    "plt.show()"
   ]
  },
  {
   "cell_type": "markdown",
   "metadata": {},
   "source": [
    "### Plot Background\n",
    "\n",
    "We can also edit the backgrounds of the plots - this might mean adding/removing gridlines, changing the background color, or even adding additional text or figures to the plots.  Here are some examples for how we might edit the background attributes of our figures."
   ]
  },
  {
   "cell_type": "code",
   "execution_count": null,
   "metadata": {},
   "outputs": [],
   "source": [
    "# We can turn on/off legends, colorbars, etc.\n",
    "ax[0,0].legend()\n",
    "\n",
    "# We can add text, and shapes to plots.\n",
    "ax[1,0].text(s='this is \\na boxplot', x=1, y=-2, fontsize=20)\n",
    "\n",
    "\n",
    "# We can turn gridlines on / off.\n",
    "ax[1,1].grid(visible=True, axis='both', color='black')\n",
    "\n",
    "# We can set the background color.\n",
    "ax[0,1].set_facecolor('grey')\n",
    "\n",
    "# Show updated figure.\n",
    "f\n"
   ]
  },
  {
   "cell_type": "markdown",
   "metadata": {},
   "source": [
    "### Axes\n",
    "\n",
    "We can also edit the x- and y-axes, ticks, and labels.\n",
    "\n",
    "(Note: in python we unfortunately often refer to subplots as \"axes\". These are **different** from the x- and y- axes, which each subplot contains.)\n",
    "\n",
    "Here are a few examples for how you might want to modify your x and y axes.\n"
   ]
  },
  {
   "cell_type": "code",
   "execution_count": null,
   "metadata": {},
   "outputs": [],
   "source": [
    "# We can set the labels for our axes.\n",
    "ax[0,0].set_xlabel('x', fontsize=20)\n",
    "ax[0,0].set_ylabel('y', fontsize=20)\n",
    "\n",
    "# We can remove ticks, or change the scale of the ticks.\n",
    "ax[0,1].set_xticks([])\n",
    "ax[0,1].set_yscale('log')\n",
    "\n",
    "# We can set different tick labels.\n",
    "ax[1,0].set_xticklabels(['x', 'y', 'i', 'j'], fontsize=14)\n",
    "\n",
    "# We can rotate the labels,\n",
    "# while keeping the tick labels the same.\n",
    "ax[1,1].set_xticklabels(ax[1,1].get_xticks(), rotation=45)\n",
    "\n",
    "# Show updated figure.\n",
    "f"
   ]
  },
  {
   "cell_type": "markdown",
   "metadata": {},
   "source": [
    "---\n",
    "\n",
    "## 13.0 Reading and Writing Files\n",
    "\n",
    "### ✍️ Writing to a File\n",
    "\n",
    "When you write to a file, you can either create a new file or completely overwrite an existing one. This is done using the `'w'` mode.\n",
    "\n",
    "The best way to work with files is using the `with` statement. It automatically handles closing the file for you, even if errors occur.\n",
    "\n",
    "After running this code, a file named `my_file.txt` will be created with two lines of text. The `\\n` is a special character that represents a newline."
   ]
  },
  {
   "cell_type": "code",
   "execution_count": null,
   "metadata": {},
   "outputs": [],
   "source": [
    "# The 'w' opens the file in write mode. If the file doesn't exist, it's created.\n",
    "# If it does exist, its contents are erased.\n",
    "with open('my_file.txt', 'w') as f:\n",
    "    f.write(\"Hello, Python!\\n\")\n",
    "    f.write(\"This is the second line.\\n\")"
   ]
  },
  {
   "cell_type": "markdown",
   "metadata": {},
   "source": [
    "You can also use `writelines()` to write a list to a file"
   ]
  },
  {
   "cell_type": "code",
   "execution_count": null,
   "metadata": {},
   "outputs": [],
   "source": [
    "my_text = [\"Hello, Python!\", \"This is the second line.\"]\n",
    "\n",
    "# If it does exist, its contents are erased.\n",
    "with open('my_file.txt', 'w') as f:\n",
    "    f.writelines(\"\\n\".join(my_text))"
   ]
  },
  {
   "cell_type": "markdown",
   "metadata": {},
   "source": [
    "### appending to a File\n",
    "\n",
    "If you want to add content to the end of an existing file without deleting its current content, you should open it in append mode using 'a'."
   ]
  },
  {
   "cell_type": "code",
   "execution_count": null,
   "metadata": {},
   "outputs": [],
   "source": [
    "# The 'a' opens the file in append mode.\n",
    "# New content is added to the end of the file.\n",
    "with open('my_file.txt', 'a') as f:\n",
    "    f.write(\"This line was appended.\\n\")"
   ]
  },
  {
   "cell_type": "markdown",
   "metadata": {},
   "source": [
    "### Reading the Entire File into Memory\n",
    "\n",
    "This method is simple and useful for small files. It reads the entire file content into a single string variable. Be careful, as this can consume a lot of memory if the file is very large! - `read()`"
   ]
  },
  {
   "cell_type": "code",
   "execution_count": null,
   "metadata": {},
   "outputs": [],
   "source": [
    "# The 'r' opens the file in read mode.\n",
    "with open('my_file.txt', 'r') as f:\n",
    "    content = f.read()\n",
    "    print(content)"
   ]
  },
  {
   "cell_type": "markdown",
   "metadata": {},
   "source": [
    "### Reading Line by Line (Memory Efficient)\n",
    "\n",
    "This is the recommended way to read files, especially large ones. It reads the file one line at a time, which is very memory-efficient. You can process each line as it's read using a for loop."
   ]
  },
  {
   "cell_type": "code",
   "execution_count": null,
   "metadata": {},
   "outputs": [],
   "source": [
    "with open('my_file.txt', 'r') as f:\n",
    "    for line in f:\n",
    "        # The .strip() method removes leading/trailing whitespace, including the newline character.\n",
    "        print(line.strip())"
   ]
  },
  {
   "cell_type": "markdown",
   "metadata": {},
   "source": [
    "### Reading All Lines into a List\n",
    "\n",
    "You can also read all the lines of a file into a list of strings. Each item in the list corresponds to a line in the file. Like `read()`, this method loads the entire file into memory, so it's best for smaller files. - `readlines()`"
   ]
  },
  {
   "cell_type": "code",
   "execution_count": null,
   "metadata": {},
   "outputs": [],
   "source": [
    "with open('my_file.txt', 'r') as f:\n",
    "    lines_list = f.readlines()\n",
    "    print(lines_list)\n"
   ]
  },
  {
   "cell_type": "markdown",
   "metadata": {},
   "source": [
    "### Using `csv` package for reading and writing"
   ]
  },
  {
   "cell_type": "code",
   "execution_count": null,
   "metadata": {},
   "outputs": [],
   "source": [
    "import csv\n",
    "\n",
    "# write\n",
    "rows = [[\"id\",\"value\"], [\"A\",10], [\"B\",20]]\n",
    "with open(\"table.csv\", \"w\", newline=\"\", encoding=\"utf-8\") as f:\n",
    "    w = csv.writer(f)\n",
    "    w.writerows(rows)\n",
    "\n",
    "# read\n",
    "with open(\"table.csv\", \"r\", encoding=\"utf-8\") as f:\n",
    "    for row in csv.reader(f):\n",
    "        print(row)"
   ]
  },
  {
   "cell_type": "markdown",
   "metadata": {},
   "source": [
    "### Using `json` package for reading and writing\n",
    "\n",
    "The `json` package is a built-in Python library that allows you to work with JSON (JavaScript Object Notation) data. JSON is a lightweight, text-based format that is easy for humans to read and for machines to parse. It's commonly used for storing configuration data and for exchanging information between a web server and a client.\n",
    "\n",
    "The `json` package primarily helps you convert Python objects (like dictionaries and lists) into JSON formatted strings, and vice-versa.\n",
    "\n",
    "To write a Python object (like a dictionary) to a file in the JSON format, you use the `json.dump()` function. This function takes the Python data and the file object you want to write to.\n",
    "\n",
    "A very useful argument is indent, which formats the JSON file with indentation, making it much more readable."
   ]
  },
  {
   "cell_type": "code",
   "execution_count": null,
   "metadata": {},
   "outputs": [],
   "source": [
    "import json\n",
    "\n",
    "user_data = {\n",
    "    \"name\": \"Alex\",\n",
    "    \"id\": 12345,\n",
    "    \"is_active\": True,\n",
    "    \"courses\": [\"History\", \"Math\", \"Science\"]\n",
    "}\n",
    "\n",
    "# 'w' opens the file in write mode\n",
    "with open('user_data.json', 'w') as f:\n",
    "    # json.dump() writes the dictionary to the file in JSON format\n",
    "    # indent=4 makes the file human-readable\n",
    "    json.dump(user_data, f, indent=4)\n"
   ]
  },
  {
   "cell_type": "markdown",
   "metadata": {},
   "source": [
    "To read a JSON file and convert it back into a Python object, you use the `json.load()` function. This function takes the file object as an argument and returns a Python dictionary or list."
   ]
  },
  {
   "cell_type": "code",
   "execution_count": null,
   "metadata": {},
   "outputs": [],
   "source": [
    "import json\n",
    "\n",
    "# 'r' opens the file in read mode\n",
    "with open('user_data.json', 'r') as f:\n",
    "    # json.load() reads the file and parses the JSON data into a Python object\n",
    "    data = json.load(f)\n",
    "\n",
    "# Now 'data' is a Python dictionary\n",
    "print(f\"User's name: {data['name']}\")\n",
    "print(f\"Courses: {data['courses']}\")\n"
   ]
  },
  {
   "cell_type": "markdown",
   "metadata": {},
   "source": [
    "### 13.1 Coding Exercise 1: Create and Read a To-Do List 📝\n",
    "\n",
    "Write a Python script that creates a file named todo.txt. Write three tasks to the file, each on a new line. After writing, read the entire file and print its contents to the console."
   ]
  },
  {
   "cell_type": "code",
   "execution_count": null,
   "metadata": {},
   "outputs": [],
   "source": [
    "### YOUR CODE HERE ###"
   ]
  },
  {
   "cell_type": "code",
   "execution_count": null,
   "metadata": {
    "jupyter": {
     "source_hidden": true
    }
   },
   "outputs": [],
   "source": [
    "#@title Example Solution\n",
    "tasks = [\"Finish homework\\n\", \"Go grocery shopping\\n\", \"Call mom\\n\"]\n",
    "\n",
    "with open('todo.txt', 'w') as f:\n",
    "    f.writelines(tasks)\n",
    "\n",
    "with open('todo.txt', 'r') as f:\n",
    "    print(f.read())"
   ]
  },
  {
   "cell_type": "markdown",
   "metadata": {},
   "source": [
    "### 13.2 Coding Exercise : Update and Count Log Entries 🔢\n",
    "\n",
    "Imagine you have a file named app.log that already contains some entries. Write a script that appends a new entry, `\"Application restarted.\"`, to the end of the file. Then, read the file and print the total number of log entries (lines)."
   ]
  },
  {
   "cell_type": "code",
   "execution_count": null,
   "metadata": {},
   "outputs": [],
   "source": [
    "### YOUR CODE HERE ###\n",
    "with open('app.log', 'w') as f:\n",
    "    f.write(\"System initialized.\\n\")\n",
    "    f.write(\"User authenticated.\\n\")\n"
   ]
  },
  {
   "cell_type": "code",
   "execution_count": null,
   "metadata": {
    "jupyter": {
     "source_hidden": true
    }
   },
   "outputs": [],
   "source": [
    "#@title Example Solution\n",
    "# First, create a dummy log file for the exercise\n",
    "with open('app.log', 'w') as f:\n",
    "    f.write(\"System initialized.\\n\")\n",
    "    f.write(\"User authenticated.\\n\")\n",
    "\n",
    "# Now, append and count the lines\n",
    "with open('app.log', 'a') as f:\n",
    "    f.write(\"Application restarted.\\n\")\n",
    "\n",
    "with open('app.log', 'r') as f:\n",
    "    print(f\"Total log entries: {len(f.readlines())}\")"
   ]
  },
  {
   "cell_type": "markdown",
   "metadata": {},
   "source": [
    "### 13.3 Coding Exercise : JSON Weather Data\n",
    "\n",
    "We are going to download weather data from `wttr.in` which provides weather data in `json` format. After downloading, let's open the file up and look at the structure."
   ]
  },
  {
   "cell_type": "code",
   "execution_count": null,
   "metadata": {},
   "outputs": [],
   "source": [
    "!curl wttr.in/Reno+NV?format=j1 > reno.json"
   ]
  },
  {
   "cell_type": "markdown",
   "metadata": {},
   "source": [
    "Let's open the file and look at the possible fields.\n",
    "\n",
    "We are going to write a human-readable summary output from this input JSON file."
   ]
  },
  {
   "cell_type": "code",
   "execution_count": null,
   "metadata": {},
   "outputs": [],
   "source": [
    "import json\n",
    "import datetime\n",
    "\n",
    "# Load the JSON data\n",
    "with open('reno.json', 'r') as f:\n",
    "    data = json.load(f)\n",
    "\n",
    "def get_day_with_suffix(d):\n",
    "    return str(d) + (\"th\" if 11 <= d <= 13 else {1: \"st\", 2: \"nd\", 3: \"rd\"}.get(d % 10, \"th\"))\n",
    "\n",
    "now = datetime.datetime.now()\n",
    "\n",
    "# Parse the city name from the JSON\n",
    "city_name = data['nearest_area'][0]['areaName'][0]['value']\n",
    "\n",
    "# Calculate all date/time values\n",
    "current_day = now.strftime(\"%A\")\n",
    "current_time = now.strftime(\"%I:%M %p\") # e.g., 04:49 PM\n",
    "month_name = now.strftime(\"%B\") # e.g., September\n",
    "day_number = get_day_with_suffix(now.day) # e.g., 19th\n",
    "\n",
    "# Extract the specific data points into variables for easier access\n",
    "current = data['current_condition'][0]\n",
    "weather = data['weather'][0]\n",
    "astronomy = weather['astronomy'][0]\n",
    "\n",
    "# Build the final report using an f-string\n",
    "report = f\"\"\"\n",
    "### {city_name} Weather Report\n",
    "\n",
    "Good afternoon, {city_name}! It's {current_time} on a beautiful {current_day}, {month_name} {day_number}.\n",
    "\n",
    "\n",
    "\n",
    "Right now, we're enjoying conditions under {current['weatherDesc'][0]['value'].lower()} skies.\n",
    "The current temperature is {current['temp_F']}°F, though with the sun out it feels a little warmer at {current['FeelsLikeF']}°F.\n",
    "The humidity is sitting at a dry {current['humidity']}%,  with precipitation at {current['precipInches']} inches.\n",
    "The UV index is currently a moderate {current['uvIndex']}.\n",
    "\n",
    "Looking at the full picture for today, we'll see a high of {weather['maxtempF']}°F and a low tonight of {weather['mintempF']}°F.\n",
    "The sun will be setting this evening at {astronomy['sunset']}.\n",
    "\n",
    "For you stargazers, the moon is currently in its {astronomy['moon_phase']} phase and will rise early tomorrow morning at {astronomy['moonrise']}.\n",
    "\n",
    "Enjoy the rest of your {current_day}!\n",
    "\"\"\"\n",
    "\n",
    "# Print the final, formatted report\n",
    "print(report)"
   ]
  },
  {
   "cell_type": "markdown",
   "metadata": {},
   "source": [
    "---\n",
    "\n",
    "## 14.0 Writing our own Parser\n",
    "\n",
    "We will be writing our own data parser. A parser is a program designed to read a particular file with specific formats. From the data it reads, it stores significant results in a data structure (like `dict`), in order to summarize or work with the data later in the program.\n",
    "\n",
    "We will be working with a typical annotation format within Bioinformatics called a GFF3 file.  Specifications about this format can be found <a href=\"https://useast.ensembl.org/info/website/upload/gff3.html\">here</a>, but I'll summarize below.\n",
    "\n",
    "- 9 tab seperated columns\n",
    "  - `seqid source type start end score strand phase attributes`\n",
    "  - Attributes are `key=value` pairs separated by `;`, e.g. `ID=gene1;Name=Foo;Parent=trans1.`\n",
    "\n",
    "Let's create a minimal example before we work with a larger file."
   ]
  },
  {
   "cell_type": "code",
   "execution_count": null,
   "metadata": {},
   "outputs": [],
   "source": [
    "sample_gff = \"\"\"##gff-version 3\n",
    "chr1\\tdemo\\tgene\\t1000\\t1800\\t.\\t+\\t.\\tID=g1;Name=Gene1\n",
    "chr1\\tdemo\\tmRNA\\t1000\\t1800\\t.\\t+\\t.\\tID=g1.t1;Parent=g1\n",
    "chr1\\tdemo\\texon\\t1000\\t1200\\t.\\t+\\t.\\tID=g1.t1.ex1;Parent=g1.t1\n",
    "chr1\\tdemo\\texon\\t1500\\t1800\\t.\\t+\\t.\\tID=g1.t1.ex2;Parent=g1.t1\n",
    "\n",
    "chr1\\tdemo\\tgene\\t3000\\t4200\\t.\\t-\\t.\\tID=g2;Name=Gene2\n",
    "chr1\\tdemo\\tmRNA\\t3000\\t4200\\t.\\t-\\t.\\tID=g2.t1;Parent=g2\n",
    "chr1\\tdemo\\texon\\t3000\\t3200\\t.\\t-\\t.\\tID=g2.t1.ex1;Parent=g2.t1\n",
    "chr1\\tdemo\\texon\\t3400\\t3600\\t.\\t-\\t.\\tID=g2.t1.ex2;Parent=g2.t1\n",
    "chr1\\tdemo\\texon\\t4000\\t4200\\t.\\t-\\t.\\tID=g2.t1.ex3;Parent=g2.t1\n",
    "\n",
    "chr2\\tdemo\\tgene\\t500\\t1300\\t.\\t+\\t.\\tID=g3;Name=Gene3\n",
    "chr2\\tdemo\\tmRNA\\t500\\t1300\\t.\\t+\\t.\\tID=g3.t1;Parent=g3\n",
    "chr2\\tdemo\\texon\\t500\\t800\\t.\\t+\\t.\\tID=g3.t1.ex1;Parent=g3.t1\n",
    "chr2\\tdemo\\texon\\t1000\\t1300\\t.\\t+\\t.\\tID=g3.t1.ex2;Parent=g3.t1\n",
    "\"\"\"\n",
    "\n",
    "with open(\"mini.gff3\", \"w\") as f:\n",
    "    f.write(sample_gff)\n",
    "\n",
    "print(\"Wrote mini.gff3\")"
   ]
  },
  {
   "cell_type": "markdown",
   "metadata": {},
   "source": [
    "### Plan the data structures\n",
    "\n",
    "We’ll collect:\n",
    "\n",
    "`feature_counts`: counts by type (`gene`, `mRNA`, `exon`, …)\n",
    "\n",
    "`genes`: `gene_id -> {seqid, start, end, strand}`\n",
    "\n",
    "`transcripts`: `mrna_id -> {gene_id, seqid, start, end, strand}`\n",
    "\n",
    "`exons_by_tx`: `mrna_id -> list of (start, end)`\n",
    "\n",
    "`genes_by_seqid`: `seqid -> list of gene_ids (for per-contig stats)`"
   ]
  },
  {
   "cell_type": "markdown",
   "metadata": {},
   "source": [
    "### Write a helper function to parse the attributes column"
   ]
  },
  {
   "cell_type": "code",
   "execution_count": null,
   "metadata": {},
   "outputs": [],
   "source": [
    "def parse_attrs(attr_field: str) -> dict:\n",
    "    \"\"\"\n",
    "    Parse a GFF3 attributes string like 'ID=g1;Parent=g0;Name=Foo'\n",
    "    into a dict. Handles empty fields '.'.\n",
    "    \"\"\"\n",
    "    out = {}\n",
    "    attr_field = attr_field.strip()\n",
    "    if attr_field == \".\" or not attr_field:\n",
    "        return out\n",
    "    for chunk in attr_field.split(\";\"):\n",
    "        if not chunk:\n",
    "            continue\n",
    "        if \"=\" in chunk:\n",
    "            k, v = chunk.split(\"=\", 1)\n",
    "            out[k] = v\n",
    "        else:\n",
    "            # Some files have flag-like attributes without '='\n",
    "            out[chunk] = True\n",
    "    return out\n",
    "\n",
    "# quick test\n",
    "parse_attrs(\"ID=g1;Parent=g0;Note=hello\")"
   ]
  },
  {
   "cell_type": "markdown",
   "metadata": {},
   "source": [
    "### Read the GFF3 file and store data"
   ]
  },
  {
   "cell_type": "code",
   "execution_count": null,
   "metadata": {},
   "outputs": [],
   "source": [
    "from collections import defaultdict, Counter\n",
    "\n",
    "feature_counts = Counter()\n",
    "genes         = {}                          # gene_id -> dict\n",
    "transcripts   = {}                          # mrna_id -> dict\n",
    "exons_by_tx   = defaultdict(list)           # mrna_id -> list[(start,end)]\n",
    "genes_by_seqid = defaultdict(list)          # seqid -> [gene_ids]\n",
    "\n",
    "with open(\"mini.gff3\") as fh:\n",
    "    for line in fh:\n",
    "        line = line.rstrip(\"\\n\")\n",
    "        if not line or line.startswith(\"#\"):\n",
    "            continue  # skip comments\n",
    "\n",
    "        parts = line.split(\"\\t\")\n",
    "        if len(parts) != 9:\n",
    "            # not a valid GFF3 data line; skip or raise\n",
    "            continue\n",
    "\n",
    "        seqid, source, ftype, start, end, score, strand, phase, attrs = parts\n",
    "        start, end = int(start), int(end)  # GFF3 uses 1-based inclusive coords\n",
    "        a = parse_attrs(attrs)\n",
    "\n",
    "        feature_counts[ftype] += 1\n",
    "\n",
    "        if ftype == \"gene\":\n",
    "            gid = a.get(\"ID\")\n",
    "            if gid:\n",
    "                genes[gid] = {\n",
    "                    \"seqid\": seqid, \"start\": start, \"end\": end, \"strand\": strand\n",
    "                }\n",
    "                genes_by_seqid[seqid].append(gid)\n",
    "\n",
    "        elif ftype in (\"mRNA\",\"transcript\"):\n",
    "            tid = a.get(\"ID\")\n",
    "            parent_gene = a.get(\"Parent\")\n",
    "            if tid and parent_gene:\n",
    "                transcripts[tid] = {\n",
    "                    \"gene_id\": parent_gene, \"seqid\": seqid,\n",
    "                    \"start\": start, \"end\": end, \"strand\": strand\n",
    "                }\n",
    "\n",
    "        elif ftype == \"exon\":\n",
    "            parent_tx = a.get(\"Parent\")\n",
    "            if parent_tx:\n",
    "                exons_by_tx[parent_tx].append((start, end))\n",
    "\n",
    "# quick peek\n",
    "feature_counts, list(genes.keys()), list(transcripts.keys())\n"
   ]
  },
  {
   "cell_type": "markdown",
   "metadata": {},
   "source": [
    "### Calculate Summary Statistics"
   ]
  },
  {
   "cell_type": "code",
   "execution_count": null,
   "metadata": {},
   "outputs": [],
   "source": [
    "print(\"Feature counts:\", dict(feature_counts))\n",
    "print(\"Genes:\", len(genes))\n",
    "print(\"Transcripts:\", len(transcripts))\n",
    "print(\"Total exons:\", sum(len(v) for v in exons_by_tx.values()))\n"
   ]
  },
  {
   "cell_type": "code",
   "execution_count": null,
   "metadata": {},
   "outputs": [],
   "source": [
    "#GFF3 coordinates are inclusive; length = end - start + 1\n",
    "gene_lengths = {gid: (g[\"end\"] - g[\"start\"] + 1) for gid, g in genes.items()}\n",
    "\n",
    "n = len(gene_lengths)\n",
    "avg = sum(gene_lengths.values()) / n\n",
    "mn_gid = min(gene_lengths, key=gene_lengths.get)\n",
    "mx_gid = max(gene_lengths, key=gene_lengths.get)\n",
    "\n",
    "print(f\"Average gene length: {avg:.1f} bp\")\n",
    "print(f\"Shortest gene: {mn_gid} ({gene_lengths[mn_gid]} bp)\")\n",
    "print(f\"Longest gene:  {mx_gid} ({gene_lengths[mx_gid]} bp)\")\n"
   ]
  },
  {
   "cell_type": "code",
   "execution_count": null,
   "metadata": {},
   "outputs": [],
   "source": [
    "# Genes per contig and per strand\n",
    "print(\"Genes per contig:\")\n",
    "for seqid, gids in genes_by_seqid.items():\n",
    "    print(f\"  {seqid}: {len(gids)}\")\n",
    "\n",
    "strand_counts = Counter( g[\"strand\"] for g in genes.values() )\n",
    "print(\"Genes by strand:\", dict(strand_counts))\n"
   ]
  },
  {
   "cell_type": "code",
   "execution_count": null,
   "metadata": {},
   "outputs": [],
   "source": [
    "# Exons per transcript and per gene\n",
    "exons_per_tx = {tid: len(exons_by_tx.get(tid, [])) for tid in transcripts}\n",
    "avg_exons = sum(exons_per_tx.values()) / max(1, len(exons_per_tx))\n",
    "print(\"Exons per transcript:\", exons_per_tx)\n",
    "print(f\"Average exons/transcript: {avg_exons:.2f}\")\n",
    "\n",
    "# If you had multiple transcripts per gene, aggregate:\n",
    "exons_per_gene = defaultdict(int)\n",
    "for tid, exs in exons_by_tx.items():\n",
    "    gid = transcripts.get(tid, {}).get(\"gene_id\")\n",
    "    if gid:\n",
    "        exons_per_gene[gid] += len(exs)\n",
    "\n",
    "print(\"Exons per gene:\", dict(exons_per_gene))\n"
   ]
  },
  {
   "cell_type": "markdown",
   "metadata": {},
   "source": [
    "### Make this into a program so that it can be ran with different input files\n",
    "\n",
    "Copy the following code and create a new file called `parse_gff3.py` in a text editor like Notepad or Sublime Text. Then upload this file to google collab"
   ]
  },
  {
   "cell_type": "code",
   "execution_count": null,
   "metadata": {},
   "outputs": [],
   "source": [
    "from collections import defaultdict, Counter\n",
    "import argparse\n",
    "\n",
    "feature_counts = Counter()\n",
    "genes         = {}                          # gene_id -> dict\n",
    "transcripts   = {}                          # mrna_id -> dict\n",
    "exons_by_tx   = defaultdict(list)           # mrna_id -> list[(start,end)]\n",
    "genes_by_seqid = defaultdict(list)          # seqid -> [gene_ids]\n",
    "\n",
    "def parse_attrs(attr_field: str) -> dict:\n",
    "    \"\"\"\n",
    "    Parse a GFF3 attributes string like 'ID=g1;Parent=g0;Name=Foo'\n",
    "    into a dict. Handles empty fields '.'.\n",
    "    \"\"\"\n",
    "    out = {}\n",
    "    attr_field = attr_field.strip()\n",
    "    if attr_field == \".\" or not attr_field:\n",
    "        return out\n",
    "    for chunk in attr_field.split(\";\"):\n",
    "        if not chunk:\n",
    "            continue\n",
    "        if \"=\" in chunk:\n",
    "            k, v = chunk.split(\"=\", 1)\n",
    "            out[k] = v\n",
    "        else:\n",
    "            out[chunk] = True\n",
    "    return out\n",
    "\n",
    "# --- argparse: get the input file path ---\n",
    "parser = argparse.ArgumentParser(description=\"Summarize a GFF3 file (simple parser).\")\n",
    "parser.add_argument(\"gff3\", help=\"Path to input GFF3 file\")\n",
    "args = parser.parse_args()\n",
    "\n",
    "with open(args.gff3, \"r\") as fh:\n",
    "    for line in fh:\n",
    "        line = line.rstrip(\"\\n\")\n",
    "        if not line or line.startswith(\"#\"):\n",
    "            continue  # skip comments\n",
    "\n",
    "        parts = line.split(\"\\t\")\n",
    "        if len(parts) != 9:\n",
    "            # not a valid GFF3 data line; skip or raise\n",
    "            continue\n",
    "\n",
    "        seqid, source, ftype, start, end, score, strand, phase, attrs = parts\n",
    "        start, end = int(start), int(end)  # GFF3 uses 1-based inclusive coords\n",
    "        a = parse_attrs(attrs)\n",
    "\n",
    "        feature_counts[ftype] += 1\n",
    "\n",
    "        if ftype == \"gene\":\n",
    "            gid = a.get(\"ID\")\n",
    "            if gid:\n",
    "                genes[gid] = {\n",
    "                    \"seqid\": seqid, \"start\": start, \"end\": end, \"strand\": strand\n",
    "                }\n",
    "                genes_by_seqid[seqid].append(gid)\n",
    "\n",
    "        elif ftype in (\"mRNA\",\"transcript\"):\n",
    "            tid = a.get(\"ID\")\n",
    "            parent_gene = a.get(\"Parent\")\n",
    "            if tid and parent_gene:\n",
    "                transcripts[tid] = {\n",
    "                    \"gene_id\": parent_gene, \"seqid\": seqid,\n",
    "                    \"start\": start, \"end\": end, \"strand\": strand\n",
    "                }\n",
    "\n",
    "        elif ftype == \"exon\":\n",
    "            parent_tx = a.get(\"Parent\")\n",
    "            if parent_tx:\n",
    "                exons_by_tx[parent_tx].append((start, end))\n",
    "\n",
    "print(\"Feature counts:\", dict(feature_counts))\n",
    "print(\"Genes:\", len(genes))\n",
    "print(\"Transcripts:\", len(transcripts))\n",
    "print(\"Total exons:\", sum(len(v) for v in exons_by_tx.values()))\n",
    "\n",
    "#GFF3 coordinates are inclusive; length = end - start + 1\n",
    "gene_lengths = {gid: (g[\"end\"] - g[\"start\"] + 1) for gid, g in genes.items()}\n",
    "\n",
    "n = len(gene_lengths)\n",
    "avg = sum(gene_lengths.values()) / n\n",
    "mn_gid = min(gene_lengths, key=gene_lengths.get)\n",
    "mx_gid = max(gene_lengths, key=gene_lengths.get)\n",
    "\n",
    "print(f\"Average gene length: {avg:.1f} bp\")\n",
    "print(f\"Shortest gene: {mn_gid} ({gene_lengths[mn_gid]} bp)\")\n",
    "print(f\"Longest gene:  {mx_gid} ({gene_lengths[mx_gid]} bp)\")\n",
    "\n",
    "# Genes per contig and per strand\n",
    "print(\"Genes per contig:\")\n",
    "for seqid, gids in genes_by_seqid.items():\n",
    "    print(f\"  {seqid}: {len(gids)}\")\n",
    "\n",
    "strand_counts = Counter( g[\"strand\"] for g in genes.values() )\n",
    "print(\"Genes by strand:\", dict(strand_counts))\n",
    "\n",
    "\n",
    "# Exons per transcript and per gene\n",
    "exons_per_tx = {tid: len(exons_by_tx.get(tid, [])) for tid in transcripts}\n",
    "avg_exons = sum(exons_per_tx.values()) / max(1, len(exons_per_tx))\n",
    "print(\"Exons per transcript:\", exons_per_tx)\n",
    "print(f\"Average exons/transcript: {avg_exons:.2f}\")\n",
    "\n",
    "# If you had multiple transcripts per gene, aggregate:\n",
    "exons_per_gene = defaultdict(int)\n",
    "for tid, exs in exons_by_tx.items():\n",
    "    gid = transcripts.get(tid, {}).get(\"gene_id\")\n",
    "    if gid:\n",
    "        exons_per_gene[gid] += len(exs)\n",
    "\n",
    "print(\"Exons per gene:\", dict(exons_per_gene))\n"
   ]
  },
  {
   "cell_type": "markdown",
   "metadata": {},
   "source": [
    "Now we will test running our python script on our `mini.gff3` file on the commandline. Notice, the input file is *not* hard coded into the analysis script so this will work with any provided filename"
   ]
  },
  {
   "cell_type": "code",
   "execution_count": null,
   "metadata": {},
   "outputs": [],
   "source": [
    "!python parse_gff3.py mini.gff3"
   ]
  },
  {
   "cell_type": "markdown",
   "metadata": {},
   "source": [
    "Let's download another GFF3 file and test our script on this file.  We will download the E. Coli GFF3 file for this test then uncompress the data. Then we will run our python program."
   ]
  },
  {
   "cell_type": "code",
   "execution_count": null,
   "metadata": {},
   "outputs": [],
   "source": [
    "!wget --no-check-certificate https://ftp.ncbi.nlm.nih.gov/genomes/all/GCF/000/005/845/GCF_000005845.2_ASM584v2/GCF_000005845.2_ASM584v2_genomic.gff.gz\n",
    "!gunzip GCF_000005845.2_ASM584v2_genomic.gff.gz"
   ]
  },
  {
   "cell_type": "code",
   "execution_count": null,
   "metadata": {},
   "outputs": [],
   "source": [
    "!python parse_gff3.py GCF_000005845.2_ASM584v2_genomic.gff"
   ]
  },
  {
   "cell_type": "markdown",
   "metadata": {
    "id": "Erx0ERmecP6g"
   },
   "source": [
    "\n",
    "---\n",
    "\n",
    "\n",
    "\n",
    "# Extras"
   ]
  },
  {
   "cell_type": "markdown",
   "metadata": {
    "id": "6gEl6G5up70N"
   },
   "source": [
    "\n",
    "## 🔊 Broadcasting\n",
    "\n",
    "Broadcasting involves performing a computation using two or more arrays that share **one** dimension. Perhaps you want to divide every row of array A element-by-element by array B. Here is a plausible real life example where we might want to broadcast. Many numpy functions will be able to figure it out"
   ]
  },
  {
   "cell_type": "code",
   "execution_count": null,
   "metadata": {
    "colab": {
     "base_uri": "https://localhost:8080/"
    },
    "id": "ccA6YZycLZV_",
    "outputId": "0ec25e7c-3d8b-42b9-bd83-f4c3b8c5e5f7"
   },
   "outputs": [],
   "source": [
    "# An array with the number of hours we worked on\n",
    "# three different projects throughout the workweek.\n",
    "hours_on_each_project = np.array([[2,4,2],[1,7,0],[5,2,1],[8,0,0],[3,3,2]])\n",
    "billing_rate_per_project = np.array([50,60,25]) # $/hour\n",
    "\n",
    "# Money billed to each project for each day of the workweek.\n",
    "money_on_each_project = hours_on_each_project*billing_rate_per_project\n",
    "print(\"money billed to each project:\\n\", money_on_each_project)\n"
   ]
  },
  {
   "cell_type": "markdown",
   "metadata": {
    "id": "7BG3xNhap8j1"
   },
   "source": [
    "\n",
    "## 🔽 \t▶️  Aggregating Across an Axis\n",
    "\n",
    "We may want to peform an operation across one dimension of an array (row, column, or a third/fourth dimension). Here we can use ```np.apply_along_axis()``` function to specify the array, function, and axis we want to apply a function on.\n",
    "Here is an example. Notice how ```axis=0``` and ```axis=1``` perform the function on different dimensions of the array."
   ]
  },
  {
   "cell_type": "code",
   "execution_count": null,
   "metadata": {
    "colab": {
     "base_uri": "https://localhost:8080/"
    },
    "id": "QYHZ29dNP5GU",
    "outputId": "6a05f621-f53d-4702-80dd-a85b7d74125b"
   },
   "outputs": [],
   "source": [
    "price_per_meal = np.array([[8,12,23],  # Bfast, lunch, dinner - day 1\n",
    "                           [6,12,32],  # Bfast, lunch, dinner - day 2\n",
    "                           [8,15,19],  # Bfast, lunch, dinner - day 3...\n",
    "                           [3,9,40],\n",
    "                           [4,18,22]])\n",
    "\n",
    "average_meal_cost = np.apply_along_axis(arr=price_per_meal, func1d = np.mean, axis=0)\n",
    "print('average_meal_cost:\\n', average_meal_cost) # Avg meal cost for bfast, lunch, and dinner.\n",
    "\n",
    "\n",
    "total_cost_each_day= np.apply_along_axis(arr=price_per_meal, func1d = sum, axis=1) # python comes with a native sum function.\n",
    "print('\\ntotal_cost_each_day:\\n', total_cost_each_day) # Total meal cost per each day.\n",
    "\n"
   ]
  },
  {
   "cell_type": "markdown",
   "metadata": {
    "id": "eQwEU-fxzKci"
   },
   "source": [
    "</br>\n",
    "<img src=\"https://edcarp.github.io/2018-11-06-edinburgh-igmm-python/fig/python-operations-across-axes.png\" width=600>\n",
    "</br>\n",
    "\n",
    "Here is an example (from a different dataset), but I like this image to illustrate how the axes work.\n",
    "\n",
    "What if we need the maximum inflammation for each patient over all days (as in the  diagram on the left) or the average for each day (as in the diagram on the right)? As the diagram below shows, we want to perform the operation across an axis.\n",
    "\n",
    "\n",
    "Image [source](https://edcarp.github.io/2018-11-06-edinburgh-igmm-python/01-numpy/index.html)"
   ]
  },
  {
   "cell_type": "markdown",
   "metadata": {
    "id": "LhuWWeq1wZui"
   },
   "source": [
    "-----\n",
    "\n",
    "# Just for fun 🎧\n",
    "Read about some of the top [trends from 2023 on Spotify](https://newsroom.spotify.com/2023-11-29/top-songs-artists-podcasts-albums-trends-2023/). Do you recognize any of these names from our dataset?\n"
   ]
  },
  {
   "cell_type": "markdown",
   "metadata": {
    "id": "gCQnX4WrnJrx"
   },
   "source": [
    "---\n",
    "# Technical Notes and Credits 👏 🙏\n",
    "\n",
    "The exercises for this notebook were adapted from resources available from the [Python for Supervised Machine Learning Bootcamp](https://nevadainbre.github.io/bootcamp-supervised-ml-2023-01.html) and Dr. Brianna Chrisman.\n",
    "Exercises were also adapted from [Programming in Python Data Carpentry Resources](https://edcarp.github.io/2018-11-06-edinburgh-igmm-python/).\n",
    "\n",
    "Thanks to the Data Science Initiative at UNR, supported by a Nevada INBRE supplemental award for Building Data Science Capacity, along with Research & Innovation for supporting this workshop during the first [Data Science Conference](https://www.unr.edu/bioinformatics/training-events/data-science-conference). Shout out and special thanks to Dr. Juli Petereit (Director of Nevada Bioinformatics Center) for her support with the Data Science Initiative. Another special thanks to Dr. Theresa McKim for creating this workshop and allowing extension of it.\n"
   ]
  }
 ],
 "metadata": {
  "colab": {
   "collapsed_sections": [
    "ar7z_pZpYjz4",
    "0o3VDCJpvKz6",
    "6gEl6G5up70N",
    "7BG3xNhap8j1",
    "ytbXBuL1ZAaj",
    "lGhaf6SiXSho",
    "RKNbf4cgU602",
    "asSImR0XnaHn",
    "3mPTMR5t9MCK"
   ],
   "provenance": [],
   "toc_visible": true
  },
  "kernelspec": {
   "display_name": "Python 3 (ipykernel)",
   "language": "python",
   "name": "python3"
  },
  "language_info": {
   "codemirror_mode": {
    "name": "ipython",
    "version": 3
   },
   "file_extension": ".py",
   "mimetype": "text/x-python",
   "name": "python",
   "nbconvert_exporter": "python",
   "pygments_lexer": "ipython3",
   "version": "3.10.18"
  }
 },
 "nbformat": 4,
 "nbformat_minor": 4
}
