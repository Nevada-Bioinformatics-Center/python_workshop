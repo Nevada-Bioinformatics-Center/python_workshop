{
  "cells": [
    {
      "cell_type": "markdown",
      "metadata": {
        "id": "C-oOGXSTqesb"
      },
      "source": [
        "<a href=\"https://colab.research.google.com/github/tmckim/python-crash-course/blob/main/PythonCrashCourse_Notebook.ipynb\" target=\"_parent\"><img src=\"https://colab.research.google.com/assets/colab-badge.svg\" alt=\"Open In Colab\"/></a>"
      ]
    },
    {
      "cell_type": "markdown",
      "metadata": {
        "id": "f2iDThVbrZOK"
      },
      "source": [
        "<img src=\"https://upload.wikimedia.org/wikipedia/commons/thumb/f/f8/Python_logo_and_wordmark.svg/2560px-Python_logo_and_wordmark.svg.png\" width=300><br>\n",
        "<font color='#4B8BBE' size=20 >Crash Course  </font>\n",
        "\n",
        "\n",
        "In this notebook, we'll be learning the fundamentals of Python (all of which apply to programming in general!). We'll be working through a dataset of the most streamed Spotify songs compiled in 2023 <img src=\"https://upload.wikimedia.org/wikipedia/commons/8/84/Spotify_icon.svg\" width=20>.\n",
        "\n",
        "\n",
        "____\n",
        "# Learning Objectives 🙋\n",
        "## At the end of today, you'll be able to:\n",
        "* Understand the basic components of a Jupyter notebook 📓\n",
        "* Write and debug basic Python code 🐍\n",
        "* Use functions, loops, conditional statements, and apply programming fundamentals applicable across computing languages 💻\n",
        "* Analyze a dataset using Python libraries built for data science 💭 🧠\n",
        "* Learn and discuss best practices for data visualization to communicate your results 📢 📈\n",
        "\n",
        "**<font color=\"red\" size=4> IMPORTANT: This notebook is READ-ONLY. To edit and run this notebook, follow the steps in the next section.</font>**"
      ]
    },
    {
      "cell_type": "markdown",
      "metadata": {
        "id": "jlouEmW6qmE6"
      },
      "source": [
        "____\n",
        "## 💾 Before you start - Save this notebook!\n",
        "\n",
        "When you open a new Colab notebook from the WebCampus (like you hopefully did for this one), you cannot save changes. So it's  best to store the Colab notebook in your personal drive `\"File > Save a copy in drive...\"` **before** you do anything else.\n",
        "\n",
        "The file will open in a new tab in your web browser, and it is automatically named something like: \"**CopyofPythonCrashCourse_Notebook_beginner.ipynb**\". You can rename this to just the title of the assignment \"**PythonCrashCourse_Notebook_beginner.ipynb**\". Make sure you do keep an informative name (like the name of the assignment) to help you be able to come back to this after you complete this part of the assignment.\n",
        "\n",
        "**Where does the notebook get saved in Google Drive?**\n",
        "\n",
        "By default, the notebook will be copied to a folder called “Colab Notebooks” at the root (home) directory of your Google Drive.\n",
        "\n",
        "___"
      ]
    },
    {
      "cell_type": "markdown",
      "metadata": {
        "id": "jQEuFdlWSgaS"
      },
      "source": [
        "---\n",
        "# Pre-Workshop Survey on Coding Background & Attitudes\n",
        "\n",
        "Survey [link](https://forms.gle/wjgqJFrBehxLm8YT9\n",
        ")\n",
        "\n",
        "Please complete this short survey prior to the start of the session. All responses are anonymous.\n",
        "_____"
      ]
    },
    {
      "cell_type": "markdown",
      "metadata": {
        "id": "USjEuLQxl3Ym"
      },
      "source": [
        "# Section 0: Python 🐍  & Colab 📓\n",
        "\n",
        "Welcome to Google Colab! We'll be working in Colab for this introductory Python course.\n",
        "\n",
        "</br>\n",
        "</br>\n",
        "<img src=\"https://miro.medium.com/max/986/1*pimj8lXWwZnqLs2xVCV2Aw.png\" width=500>\n",
        "</br>\n",
        "</br>\n",
        "\n",
        "\n",
        "## What is Colab?\n",
        "Colab is a browser-based environment - you can develop, run, and share code directly on your browser without having to install any software or libraries on your computer. Additionally, code written and run from colab runs on google's cloud computers, so you aren't limited by your laptop's speed or compute power. 📶\n",
        "\n",
        "</br>\n",
        "\n",
        "**<font color='red'>Note: One downside of Colab is that if you turn off your computer, are idle, or refresh the page, your current runtime is lost. You will need to run the notebook from the beginning in order to redo any variables, functions, or operations you have performed.</br></br> You can more easily rerun your notebook by clicking Runtime>>Run all, or Runtime>>Run before at the top of the page. This will attempt to run all of your current cells (until one gets an error) or  all of the cells above the current cell your cursor is on. </font>**\n",
        "\n",
        "</br>\n",
        "\n",
        "\n",
        "Colab can be especially helpful for data science tasks, because it gives you a space to write code, generate/view graphs, and organize your thought process.  For those of you who have used jupyter before, colab acts a simple browser-based jupyter notebook. We'll be using colab with Python, but colab can be used with a variety of different coding languages.\n",
        "\n",
        "</br>\n",
        "\n",
        "A Colab notebook (a file like this one) consists of cells, snippets of code or text that you can create, edit, and move around to keep things organized. These cells can be:\n",
        "\n",
        "*   **text cells** 🔠\n",
        "<br>or<br>\n",
        "*   **code cells** 💻\n",
        "\n",
        "You can **double click** <img src='https://miro.medium.com/v2/resize:fit:280/0*oa0XcvM99Y5clDsj.png' alt='mouse cursor images' height='25px'>\n",
        "on a cell in order\n",
        "to edit it.\n",
        "\n",
        "</br>\n",
        "\n",
        "\n"
      ]
    },
    {
      "cell_type": "markdown",
      "metadata": {
        "id": "AX06W4dFhklf"
      },
      "source": [
        "## Text Cells"
      ]
    },
    {
      "cell_type": "markdown",
      "metadata": {
        "id": "0aH6mtO-hYxr"
      },
      "source": [
        "\n",
        "\n",
        "This is a **text cell**. You can **double-click** to edit this cell. Text cells\n",
        "use markdown syntax. To learn more, see the [markdown\n",
        "guide](/notebooks/markdown_guide.ipynb).\n",
        "\n",
        "You can format text cells by **changing** `the` *font*,  adding:\n",
        "1.   Numbered lists, or\n",
        "*   Bullet points\n",
        "\n",
        "\n",
        "You can even add HTML to your text cells to embed images or add other fun effects.\n",
        "\n",
        "\n",
        "<img src = \"https://freesvg.org/img/icon-html.png\" width=100>\n",
        "\n",
        "\n",
        "You can also add math to text cells using [LaTeX](http://www.latex-project.org/)\n",
        "to be rendered by [MathJax](https://www.mathjax.org). Just place the statement\n",
        "within a pair of **\\$** signs. For example `$\\sqrt{3x-1}+(1+x)^2$` becomes\n",
        "$\\sqrt{3x-1}+(1+x)^2.$ <br><br>\n",
        "To insert a text cell, click on a cell on the page and then click the \"+ Text\" button at the top. Or scroll to the middle of the notebook page before/after a cell and you should see these options appear: <br>\n",
        "<img src=\"https://github.com/tmckim/python-crash-course/blob/main/imgs/ColabAddCodeTextImg.png?raw=1\"/>\n",
        "\n",
        "\n",
        "This will make a text cell directly above or below the cell you are on.\n"
      ]
    },
    {
      "cell_type": "markdown",
      "metadata": {
        "id": "i37UP8ARtIP_"
      },
      "source": [
        "## 🧘  0.0 Exercise\n"
      ]
    },
    {
      "cell_type": "markdown",
      "metadata": {
        "id": "HGz3Q0WYXNiV"
      },
      "source": [
        "\n",
        "Make a text cell below this one.\n",
        "\n",
        "In your text cell:\n",
        "\n",
        "1.   Write a one sentence description about yourself, and why you chose to take this workshop.\n",
        "2.   Write a list of 3 small tasks you would like to be able to accomplish with Python/colab after today.\n",
        "3. Using the HTML syntax ```<img src=\"INSERT IMAGE HTML\"> ```, embed the image hosted at:\n",
        "\n",
        "  ```  https://imgs.xkcd.com/comics/future_self.png ```\n",
        "\n",
        "\n"
      ]
    },
    {
      "cell_type": "markdown",
      "metadata": {
        "id": "c0ShD0KDEV5R"
      },
      "source": [
        "<mark>## Solution <mark>\n",
        "\n",
        "1. I'm Dr. Theresa McKim and I'm the instructor running this workshop =) I'm a Teaching Assistant Professor in Biology and my background and training is as a neuroscientist. <br>\n",
        "\n",
        "2. 3 tasks:\n",
        "* Demonstrate and convey the importance of coding across disciplines\n",
        "* Share my knowledge and passion for teaching this topic with you\n",
        "* Diversify and gain experience teaching this topic as a workshop (as opposed to within the context of my current course) <br><br>\n",
        "3. <img src=\"https://imgs.xkcd.com/comics/future_self.png\">\n"
      ]
    },
    {
      "cell_type": "markdown",
      "metadata": {
        "id": "x7T9TH_6hTaH"
      },
      "source": [
        "## Code Cells\n"
      ]
    },
    {
      "cell_type": "markdown",
      "metadata": {
        "id": "r4HBK2Xqk7PR"
      },
      "source": [
        "Colab notebooks also consist of **coding cells**, cells that have executable code written in them.\n",
        "\n",
        "To run a coding cell, either:\n",
        "1. hover over the cell and click the \"play\" ▶ arrow that appears on the left upper corner\n",
        "2. Or click into the cell and then press Ctrl+Enter (or Shift+Return).\n",
        "\n",
        "You should see a check mark if the cell runs successfully ✔.\n",
        "\n",
        "Coding cells can look like the following, where you can see raw code and comments (anything after the #hashtag). <br>\n",
        "\n",
        ">**Task:** Run this cell!"
      ]
    },
    {
      "cell_type": "code",
      "execution_count": null,
      "metadata": {
        "colab": {
          "base_uri": "https://localhost:8080/"
        },
        "id": "g3od8zM4oO-j",
        "outputId": "6411d07f-b210-486e-bb23-241ae5707aaa"
      },
      "outputs": [],
      "source": [
        "n_sections = 10\n",
        "# This is a comment! When there is a # before a line in a coding cell,\n",
        "# python will ignore that line of code, rather than trying to run it.\n",
        "n_exercises_per_section = 3\n",
        "\n",
        "'''\n",
        "You can also\n",
        "write longer\n",
        "comments\n",
        "by using\n",
        "this syntax.\n",
        "'''\n",
        "\n",
        "print(\"Number of exercises in this notebook:\", n_sections*n_exercises_per_section)"
      ]
    },
    {
      "cell_type": "markdown",
      "metadata": {
        "id": "9nyrRkr7k-Ml"
      },
      "source": [
        "Cells can also look like the following where you can hide code by adding the following line to the top of your page.\n",
        "\n",
        "`# @title TITLE GOES HERE `.<br>\n",
        "\n",
        "You can click on the arrow **>** at the top left to show the code or on <font color='blue'>`Show code`</font>. You can still run hidden code cells by pushing \"play\" ▶, or clicking into the cell and typing Ctrl+Enter. To hide the code once more, double click on the text part of the cell."
      ]
    },
    {
      "cell_type": "code",
      "execution_count": null,
      "metadata": {
        "cellView": "form",
        "colab": {
          "base_uri": "https://localhost:8080/"
        },
        "id": "eawADZpUlMbk",
        "outputId": "18dce2bd-54e8-449a-df1d-6aef7690bb44"
      },
      "outputs": [],
      "source": [
        "#@title Hidden Code Example\n",
        "\n",
        "n_sections = 10\n",
        "n_exercises_per_section = 3\n",
        "print(\"Number of exercises in this notebook:\", n_sections*n_exercises_per_section)"
      ]
    },
    {
      "cell_type": "markdown",
      "metadata": {
        "id": "xB6dwu2VtJUu"
      },
      "source": [
        "## 🏃 0.1 Coding Exercise\n",
        "\n"
      ]
    },
    {
      "cell_type": "markdown",
      "metadata": {
        "id": "v-rvWsuGXQbm"
      },
      "source": [
        "Fill in the following code cell and run it.\n",
        "\n"
      ]
    },
    {
      "cell_type": "code",
      "execution_count": null,
      "metadata": {
        "colab": {
          "base_uri": "https://localhost:8080/"
        },
        "id": "x-R7toMPoqfy",
        "outputId": "f9e48201-970d-41f8-8dab-e5d47a55eadf"
      },
      "outputs": [],
      "source": [
        "breakfast_yesterday = \"coffee\" ### REPLACE WITH YOUR CODE HERE ###\n",
        "lunch_yesterday = \"chicken salad\" ### REPLACE WITH YOUR CODE HERE ###\n",
        "print(\"I had \", breakfast_yesterday, \" for breakfast\",\n",
        "      \"and \", lunch_yesterday, \" for lunch.\")"
      ]
    },
    {
      "cell_type": "markdown",
      "metadata": {
        "id": "xNDrYyTbtLb1"
      },
      "source": [
        "## 🏋 0.2 Coding Exercise"
      ]
    },
    {
      "cell_type": "markdown",
      "metadata": {
        "id": "GTPJqG6IXd4r"
      },
      "source": [
        "Delete the text cell below, and replace it with a code cell that prints [every programmer's first words](https://slate.com/technology/2019/10/hello-world-history-programming.html):\n",
        "\n",
        "\"Hello, world!\""
      ]
    },
    {
      "cell_type": "markdown",
      "metadata": {
        "id": "1oMnCy_VXotp"
      },
      "source": [
        "**DELETE ME!**"
      ]
    },
    {
      "cell_type": "code",
      "execution_count": null,
      "metadata": {
        "cellView": "form",
        "colab": {
          "base_uri": "https://localhost:8080/"
        },
        "id": "0ddYyG3Uv2ka",
        "outputId": "f3bb4dc5-b3af-4f46-c942-a135e3cd90c4"
      },
      "outputs": [],
      "source": [
        "#@title Solution\n",
        "print('Hello, World!')"
      ]
    },
    {
      "cell_type": "markdown",
      "metadata": {
        "id": "MWdqpy3CQmAz"
      },
      "source": [
        "______"
      ]
    },
    {
      "cell_type": "markdown",
      "metadata": {
        "id": "ouCqGc10ZbFu"
      },
      "source": [
        "# Section 1: Setup and import files 🧰 🛠\n",
        "\n",
        "There are several steps we need to do to access the dataset before we can load the file:\n",
        "1. Copy the data file to working memory to run in this notebook\n",
        "2. Check that we have it available to us<br>\n",
        "\n",
        "Other options (backup if the above doesn't work):\n",
        "1. Mount our gdrive (connect to this notebook)\n",
        "2. Fetch the data file from my github repository\n",
        "3. Change into our directory where the file is located\n"
      ]
    },
    {
      "cell_type": "markdown",
      "metadata": {
        "id": "lngrKUrTWqLf"
      },
      "source": [
        "We will start by downloading the data file (`spotify-2023-clean.csv`) to access for today.\n",
        "\n",
        ">**Task:** Run the cell below. If it works, you should see text that looks like this:\n",
        "</br><br>\n",
        "<img src=\"https://github.com/tmckim/python-crash-course/blob/main/imgs/wget_filesuccess.png?raw=1\"/>\n"
      ]
    },
    {
      "cell_type": "code",
      "execution_count": null,
      "metadata": {
        "colab": {
          "base_uri": "https://localhost:8080/"
        },
        "id": "L41cvUd4_npw",
        "outputId": "d38bc59a-e501-44a1-aba6-8a35896a8966"
      },
      "outputs": [],
      "source": [
        "### RUN THIS CELL ###\n",
        "!wget --no-check-certificate 'https://docs.google.com/uc?export=download&id=1hv66NjJSa98UUVsbEppZjtOCInmbbRES' -O spotify-2023-clean.csv"
      ]
    },
    {
      "cell_type": "markdown",
      "metadata": {
        "id": "W2ausDL71uIr"
      },
      "source": [
        "> **Task:** On the left side of the Colab window, click the 📁 icon, and double click on your files to see what the raw data looks like. You should see a file called `spotify-2023-clean.csv`."
      ]
    },
    {
      "cell_type": "markdown",
      "metadata": {
        "id": "TB-EoM2jXu0r"
      },
      "source": [
        "**^ If this was not successful for you, please let us know and we will help troubleshoot!**"
      ]
    },
    {
      "cell_type": "markdown",
      "metadata": {
        "id": "ar7z_pZpYjz4"
      },
      "source": [
        "## Backup- Only needed if the above didn't work ^^ 😅"
      ]
    },
    {
      "cell_type": "markdown",
      "metadata": {
        "id": "Ivta_-lLZC6n"
      },
      "source": [
        "If all of the above fails, please follow this [link](https://drive.google.com/file/d/1hv66NjJSa98UUVsbEppZjtOCInmbbRES/view?usp=sharing) to download the data file locally to your computer. You can then navigate to the 📁 icon on the left and drag and drop the file there for access.\n"
      ]
    },
    {
      "cell_type": "markdown",
      "metadata": {
        "id": "EoaaH4EBxGxM"
      },
      "source": [
        "## 📚 Python Libraries\n",
        "\n",
        "Python comes with many useful built in classes and functions - lists, dictionaries, counters, and their associated functions, are some examples. You can accomplish many simple tasks using native Python code.\n",
        "\n",
        "</br>\n",
        "<img src=\"https://cdn.pixabay.com/photo/2016/03/26/22/21/books-1281581_960_720.jpg\" width=600>\n",
        "</br>\n",
        "\n",
        "However, just like in many computer languages, the beauty of Python is that other people have spent much time developing useful code that they have tested robustly and wish to share with others. These are called libraries or packages.  We can import popular packages into the Python/Colab environment and if the package has not already been installed on our version of Python, we can easily install the package and use it.\n",
        "\n",
        "(In Colab, or in a linux environment if you run Python locally, we can easily install new packages using ```!pip install [PYTHON PACKAGE]```)\n",
        "\n",
        "For this Colab notebook we will be working with four packages that typically come pre-installed on most versions of Python. They are:\n",
        "\n",
        "- **numpy**: A library for working with numerical lists, called arrays\n",
        "- **pandas**: A library for working with two dimenional lists, called dataframes\n",
        "- **matplotlib**: A package for plotting, commonly used in tandem with numpy and pandas\n",
        "- **seaborn**: A package for plotting, commonly used in tandem with pandas\n",
        "\n",
        "</br><img src=\"https://miro.medium.com/max/765/1*cyXCE-JcBelTyrK-58w6_Q.png\" width=200> <img src=\"https://upload.wikimedia.org/wikipedia/commons/thumb/e/ed/Pandas_logo.svg/1200px-Pandas_logo.svg.png\" width=200> </br><img src=\"https://matplotlib.org/stable/_static/logo_dark.svg\" width=200> <img src=\"https://seaborn.pydata.org/_images/logo-wide-lightbg.svg\" width=200> </br></br>\n",
        "We can import these libraries (or certain classes/functions from these libraries) into our local runtime using the following code. The nicknames I used (np, plt, np, ans sns) are pretty standard nicknames that most Python programmers use, though you could use anything.\n",
        "\n",
        "\n",
        ">**Task:** Run the following cell to import the relevant libraries.\n"
      ]
    },
    {
      "cell_type": "code",
      "execution_count": null,
      "metadata": {
        "colab": {
          "base_uri": "https://localhost:8080/"
        },
        "id": "f1MikF1-rTDy",
        "outputId": "030c060c-47bd-4291-99f9-7aaf8078db6a"
      },
      "outputs": [],
      "source": [
        "### RUN THIS CELL ###\n",
        "# Import our plotting package from matplotlib and shorten it to plt\n",
        "import matplotlib.pyplot as plt\n",
        "\n",
        "# Specify that all plots will happen inline & in high resolution\n",
        "%matplotlib inline\n",
        "%config InlineBackend.figure_format = 'retina'\n",
        "\n",
        "# Import pandas for working with databases and shorten it to pd\n",
        "import pandas as pd\n",
        "\n",
        "# Import numpy and shorten it to np\n",
        "import numpy as np\n",
        "\n",
        "# Import plotting package seaborn and shorten to sns\n",
        "import seaborn as sns\n",
        "\n",
        "# Print statement to confirm\n",
        "print('Packages imported!')"
      ]
    },
    {
      "cell_type": "markdown",
      "metadata": {
        "id": "ASCfjnAtYMQM"
      },
      "source": [
        ">**Task:** Run this cell to set formating options. These can be changed according to your preferences."
      ]
    },
    {
      "cell_type": "code",
      "execution_count": null,
      "metadata": {
        "id": "yNJMOnN79OT3"
      },
      "outputs": [],
      "source": [
        "### RUN THIS CELL ###\n",
        "# We want to see all the columns/rows in the dataset\n",
        "pd.set_option('display.max_columns', None)\n",
        "pd.set_option('display.max_rows', None)\n",
        "pd.options.display.float_format = '{:.1f}'.format  # don't use scientific notation"
      ]
    },
    {
      "cell_type": "markdown",
      "metadata": {
        "id": "hWQCieaKxr56"
      },
      "source": [
        "## 📫 Importing Data\n",
        "\n",
        "Read the file from the colab files into your runtime. There are several options for reading a file in, but we will use the `pandas` package (which we imported as `pd`): <br>\n",
        "*   pandas ```read_table()``` or ```read_csv()``` function, which reads a file with multiple data types into a dataframe.\n"
      ]
    },
    {
      "cell_type": "code",
      "execution_count": null,
      "metadata": {
        "colab": {
          "base_uri": "https://localhost:8080/"
        },
        "id": "5IfF8kg1l_hk",
        "outputId": "0f61fec6-0be0-461a-b8a1-9091ddb720db"
      },
      "outputs": [],
      "source": [
        "### RUN THIS CELL ###\n",
        "## Import file (cleaned up)\n",
        "spotify = pd.read_csv('spotify-2023-clean.csv')\n",
        "print('data imported!')"
      ]
    },
    {
      "cell_type": "code",
      "execution_count": null,
      "metadata": {
        "colab": {
          "base_uri": "https://localhost:8080/",
          "height": 1000
        },
        "id": "XymDzzg00BhH",
        "outputId": "efacbbf3-f3ef-4534-80c9-1498425fb583"
      },
      "outputs": [],
      "source": [
        "### RUN THIS CELL ###\n",
        "## Type the name of the dataframe to view it\n",
        "spotify"
      ]
    },
    {
      "cell_type": "code",
      "execution_count": null,
      "metadata": {
        "colab": {
          "base_uri": "https://localhost:8080/"
        },
        "id": "y55rI2ErvzMr",
        "outputId": "8d329671-f3d6-45f9-8b26-034d9b0960cc"
      },
      "outputs": [],
      "source": [
        "### RUN THIS CELL ###\n",
        "## Another quick preview of variables\n",
        "spotify.info()"
      ]
    },
    {
      "cell_type": "markdown",
      "metadata": {
        "id": "KsdhPClsfkss"
      },
      "source": [
        "We have 953 rows (observations) and 24 columns. In the column labeled `Column`, the names of each column are listed and it shows how many non-null values are present, meaning how much data there is. Any difference between this number and the total number of entries (953 shown at the top) indicates there is missing data. <br><br>\n",
        "The last column `Dtype` tells us what type of data you have in each column. You can see here that many are numbers and have no decimals (`int64`) or have decimal values (`float64`). Note that some of our columns that have strings or text values are right now labeled as `object` (first entry). We will adjust this along the way to make sure they are strings."
      ]
    },
    {
      "cell_type": "markdown",
      "metadata": {
        "id": "BHjOwnuWMGdJ"
      },
      "source": [
        "We can see that we do have missing data here. Particularly note these 3 columns: `streams`, `in_shazam_charts`, and `key`.  If you go back up and review the table, you will see that missing values are labeled with `NaN`, which stands for `Not a Number`. This is typically a common naming convention to use, and you will see it across datasets. We will discuss this more as we go, and ultimately, when working datasets that have NaNs, you will need to make some decisions on what you do with this data."
      ]
    },
    {
      "cell_type": "markdown",
      "metadata": {
        "id": "XRlwDn3WyD8z"
      },
      "source": [
        "##  📉 Show me the data\n",
        "\n",
        "I know that you don't know much yet about the data, but let's see if you can make some predictions. Who do you think might be among the top artists as of 2023? Let's see if you were right!\n",
        "\n",
        ">**Task:** Run the cell below to see the answer. Notice that it only takes 13 lines of code to produce our plot. By the end of today, you will be able to understand what this all means- woot! 🙌\n",
        "<br><br>\n",
        "\n",
        "And the award 🏆 for the most songs in our dataset goes to 🥁🥁🥁🥁 ....."
      ]
    },
    {
      "cell_type": "code",
      "execution_count": null,
      "metadata": {
        "colab": {
          "base_uri": "https://localhost:8080/",
          "height": 611
        },
        "id": "8gJsziHVyw0N",
        "outputId": "545cd481-647d-41c6-ff4e-0ab46f577529"
      },
      "outputs": [],
      "source": [
        "### RUN THIS CELL ###\n",
        "\n",
        "# set a theme for consistency and format\n",
        "sns.set_theme(style=\"ticks\", font_scale=1.25)                  # set the theme we want in seaborn (sns) - always start with this- only need to do once\n",
        "\n",
        "# This takes the data out of the larger dataset that we need\n",
        "artist_counts = spotify['artist_name'].value_counts()\n",
        "artist_plot = artist_counts.head(15)\n",
        "\n",
        "# Set this text for the plot- easiest to edit here as needed\n",
        "x_label_name = 'Artist Name'                                   # x-axis label text\n",
        "y_label_name = 'Number of Songs'                               # y-axis label text\n",
        "plot_title = 'Top 15 Artists With Most Songs'                  # plot title text\n",
        "\n",
        "# Example of barplot\n",
        "ax = sns.barplot(x = artist_plot.index, y = artist_plot, hue = artist_plot, palette = 'flare')    # this is the main plotting code\n",
        "\n",
        "# Adjustment + aesthetics of plot\n",
        "ax.figure.set_size_inches(6.5, 4.5)                            # this sets the size and we will use to be consistent across all plots below\n",
        "sns.despine()                                                  # remove top and right axes (w/o this, full box border)\n",
        "plt.xlabel(x_label_name)                                       # use matplotlib (plt) to adjust the x axis on this one\n",
        "plt.ylabel(y_label_name)                                       # use matplotlib (plt) to adjust the y axis on this one\n",
        "plt.xticks(rotation=45,ha='right')                             # Rotate x-axis labels for better readability\n",
        "plt.title(plot_title, y=1.1)                                   # add a title so we know what we plotted!\n",
        "plt.ylim(0,40);                                                # use matplotlib (plt) to adjust the y axis limits"
      ]
    },
    {
      "cell_type": "markdown",
      "metadata": {
        "id": "4y8H5PMSjZIx"
      },
      "source": [
        "Did you guess it would be Taylor Swift?\n",
        "\n",
        "<img src=\"https://images.seattletimes.com/wp-content/uploads/2023/07/07222023_swift_210501.jpg?d=768x546\" width=600>\n",
        "</br>"
      ]
    },
    {
      "cell_type": "markdown",
      "metadata": {
        "id": "V2ufx-F01Q6Z"
      },
      "source": [
        "## 🎶 Most Streamed Spotify Songs from 2023 Dataset 🎹\n",
        "\n",
        "The data was downloaded from [kaggle](https://www.kaggle.com/datasets/nelgiriyewithana/top-spotify-songs-2023) and has\n",
        "24 columns: <br><br>\n",
        "`track_name`: string, the title or name of the song <br>\n",
        "`artist(s)_name`: string, the name of the artist or group responsible for creating the song\n",
        "<br>\n",
        "`artist_count`: int, number of artists contributing to the song\n",
        "<br>\n",
        "`released_year`: int, the year when the song was released\n",
        "<br>\n",
        "`released_month`: int, the month when the song was released\n",
        "<br>\n",
        "`released_day`: int, the day of the month when the song was released\n",
        "<br>\n",
        "`in_spotify_playlists`: int, the number of Spotify playlists the song is included in\n",
        "<br>\n",
        "`in_spotify_charts`: int, the number to indicate presence and rank of the song on Spotify charts\n",
        "<br>\n",
        "`streams`: int, total number of streams on Spotify (ranges from thousands to billions)\n",
        "<br>\n",
        "`in_apple_playlists`: int, the number of Apple Music playlists the song is included in\n",
        "<br>\n",
        "`in_apple_charts`: int, the number to indicate presence and rank of the song on Apple Music charts\n",
        "<br>\n",
        "`in_deezer_playlists`: int, the number of Deezer  playlists the song is included in\n",
        "<br>\n",
        "`in_deezer_charts`: int, the number to indicate presence and rank of the song on Deezer charts\n",
        "<br>\n",
        "`in_shazam_charts`: int, the number to indicate presence and rank of the song on Shazam charts\n",
        "<br>\n",
        "`bpm`: int, beats per minute (bpm); a measure to indicate song tempo\n",
        "<br>\n",
        "`key`: string, key of the song\n",
        "<br>\n",
        "`mode`: string, mode of the song (major or minor)\n",
        "<br>\n",
        "`danceability_%`: int, percentage indicating how suitable the song is for dancing\n",
        "<br>\n",
        "`valence_%`: int, percentage indicating positivity of the song's musical content\n",
        "<br>\n",
        "`energy_%`: int, percentage indicating the perceived energy level of the song\n",
        "<br>\n",
        "`acousticness_%`: int, percentage indicating the amount of acoustic sound in the song\n",
        "<br>\n",
        "`instrumentalness_%`: int, percentage indicating the amount of instrumental content in the song\n",
        "<br>\n",
        "`liveness_%`: int, percentage indicating the prescence of live performance elements\n",
        "<br>\n",
        "`speechiness_%`: int, percentage indicating the amount of spoken words in the song"
      ]
    },
    {
      "cell_type": "markdown",
      "metadata": {
        "id": "Ams_S4N22Uw7"
      },
      "source": [
        "Explore the first and last 5 rows using `head` and `tail`"
      ]
    },
    {
      "cell_type": "code",
      "execution_count": null,
      "metadata": {
        "colab": {
          "base_uri": "https://localhost:8080/",
          "height": 295
        },
        "id": "iKxsseV80B4U",
        "outputId": "1fbf9aac-ac35-4ee5-a16c-89698b797f2e"
      },
      "outputs": [],
      "source": [
        "### RUN THIS CELL ###\n",
        "spotify.head()"
      ]
    },
    {
      "cell_type": "code",
      "execution_count": null,
      "metadata": {
        "colab": {
          "base_uri": "https://localhost:8080/",
          "height": 313
        },
        "id": "-NlE3Jqw2BEd",
        "outputId": "97cd8d9f-1883-428c-da1f-828ad4d7221e"
      },
      "outputs": [],
      "source": [
        "### RUN THIS CELL ###\n",
        "spotify.tail()"
      ]
    },
    {
      "cell_type": "markdown",
      "metadata": {
        "id": "PXb2DdWLms0V"
      },
      "source": [
        "---\n",
        "# Section 2: Variables and Data Types 🔠 🔢\n",
        "\n",
        "<img src=\"https://github.com/tmckim/python-crash-course/blob/main/imgs/PythonDataTypes.png?raw=1\"/>\n",
        "<br>\n",
        "\n",
        "Image [source](https://www.linkedin.com/pulse/data-types-variables-expressions-python-anubhav-kumar/)"
      ]
    },
    {
      "cell_type": "markdown",
      "metadata": {
        "id": "vN8c8_RRq3HL"
      },
      "source": [
        "Sometimes we might want to keep track of a how a value is changing over time, or refer to a value over and over again. A **variable** is a container for values or data. Variables can be referenced later on, or changed over time.\n",
        "\n",
        "\n",
        "In Python, a variable is created the moment we *assign* a value to it.  In the following code, we are creating a **variable** ```my_favorite_number``` that holds the value ```42```.\n",
        "\n",
        ">**Task:** Review the code below as we walk through it, and run each cell."
      ]
    },
    {
      "cell_type": "code",
      "execution_count": null,
      "metadata": {
        "id": "mHUo7FH7dIUU"
      },
      "outputs": [],
      "source": [
        "# assignment statement: assign the value 42 to my_favorite_number\n",
        "my_favorite_number = 42"
      ]
    },
    {
      "cell_type": "markdown",
      "metadata": {
        "id": "C0x4z_ggdLOE"
      },
      "source": [
        "We can then reference the variable later on:"
      ]
    },
    {
      "cell_type": "code",
      "execution_count": null,
      "metadata": {
        "colab": {
          "base_uri": "https://localhost:8080/"
        },
        "id": "Zadu2FqOdKzU",
        "outputId": "3f5a7dae-944f-49cb-f49e-59dc6621a1d7"
      },
      "outputs": [],
      "source": [
        "# Show me the number\n",
        "print(my_favorite_number)"
      ]
    },
    {
      "cell_type": "markdown",
      "metadata": {
        "id": "vIfHwiLldQD7"
      },
      "source": [
        "Use the current value of the data in another variable:"
      ]
    },
    {
      "cell_type": "code",
      "execution_count": null,
      "metadata": {
        "id": "Mx2qqs1bdPes"
      },
      "outputs": [],
      "source": [
        "# Arithmetic operations\n",
        "another_fun_number = my_favorite_number/2"
      ]
    },
    {
      "cell_type": "code",
      "execution_count": null,
      "metadata": {
        "colab": {
          "base_uri": "https://localhost:8080/"
        },
        "id": "j8xqvjLAdbGj",
        "outputId": "943b2de3-32b2-4e4e-acbe-cab60d1f8e36"
      },
      "outputs": [],
      "source": [
        "# What should this value be?\n",
        "another_fun_number"
      ]
    },
    {
      "cell_type": "markdown",
      "metadata": {
        "id": "H4zoWTACdeWK"
      },
      "source": [
        "Or change the value of the variable:"
      ]
    },
    {
      "cell_type": "code",
      "execution_count": null,
      "metadata": {
        "colab": {
          "base_uri": "https://localhost:8080/"
        },
        "id": "8v9q7ekmddCJ",
        "outputId": "aa1b923f-df27-4bb1-8609-2b16b59ed212"
      },
      "outputs": [],
      "source": [
        "# Re-assign the original value\n",
        "my_favorite_number = my_favorite_number/6\n",
        "my_favorite_number"
      ]
    },
    {
      "cell_type": "markdown",
      "metadata": {
        "id": "zISGJ5e9eRyU"
      },
      "source": [
        "From now on, if we use `my_favorite_number`, Python will substitute the value we assigned to it. The variable is just a name for a value. Naming it hopefully helps us remember what we did so we can use it again in the future! <br>\n",
        "In Python, variable names:\n",
        "*   can include letters, digits, and underscores\n",
        "*   cannot start with a digit\n",
        "*   are case sensitive (upper vs. lower case) <br>\n",
        "    Example: `hours_sleep` and `Hours_sleep` are two **different** variables!\n",
        "\n",
        "\n"
      ]
    },
    {
      "cell_type": "markdown",
      "metadata": {
        "id": "1ilMNa-FtPnx"
      },
      "source": [
        "## 🧘 2.0  Coding Exercise\n",
        "\n"
      ]
    },
    {
      "cell_type": "markdown",
      "metadata": {
        "id": "3VBbhruLfxZd"
      },
      "source": [
        ">**Task**: Run the code below to see our first error! Before you run the cell, think about why this will error based on what we just reviewed."
      ]
    },
    {
      "cell_type": "code",
      "execution_count": null,
      "metadata": {
        "colab": {
          "base_uri": "https://localhost:8080/",
          "height": 106
        },
        "id": "dMl5Lmjmf-rj",
        "outputId": "db31f606-23a0-4389-b40e-d7a4f06f7dd2"
      },
      "outputs": [],
      "source": [
        "# This should error- why?\n",
        "42_fav_number = 42"
      ]
    },
    {
      "cell_type": "markdown",
      "metadata": {
        "id": "NHmJDnwqgrPf"
      },
      "source": [
        ">**Task**: Edit the code above to fix the variable name so that it works and does not error. Put your code in the cell below."
      ]
    },
    {
      "cell_type": "code",
      "execution_count": null,
      "metadata": {
        "id": "9VopOe9gm7JH"
      },
      "outputs": [],
      "source": [
        "### YOUR CODE HERE ###"
      ]
    },
    {
      "cell_type": "code",
      "execution_count": null,
      "metadata": {
        "cellView": "form",
        "colab": {
          "base_uri": "https://localhost:8080/"
        },
        "id": "JuzY8OF2gKPr",
        "outputId": "2fc443dd-b08d-4f51-e308-d84b127bddb9"
      },
      "outputs": [],
      "source": [
        "#@title Example Solution\n",
        "fav_number_42 = 42\n",
        "fav_number_42"
      ]
    },
    {
      "cell_type": "markdown",
      "metadata": {
        "id": "mJg3c1TPhv5H"
      },
      "source": [
        "As you've just seen, Python can be used as a calculator and you can easily perform many mathematical operations.\n",
        "Numbers fall into two categories, and additionally there are several other **data types**:\n",
        "\n",
        "* **Integers**: These are values like 1, 2, 200, 0, -1, etc. Data of this type in Python are called ```int```.\n",
        "\n",
        "* **Floats**: Floats are numerical values that can take on decimal values as well. Data of this type in Python are called ```float```.\n",
        "\n",
        "* **Strings**: Strings are collections of numbers or letters that make up a word, name or sentence. They are usually declared using quotation marks. ```\"banana\"```, ```\"42\"```, and ```\"42 bananas\"``` are all strings. Data of this type in Python are abbreviated ```str```.\n",
        "\n",
        "* **Booleans**: True or False. In Python, this type is called ```bool```.\n",
        "\n",
        "* **Lists**: Collections of elements that have a distinct order. Python's data type for this is ```list```. (We will get to this in the next section!)\n"
      ]
    },
    {
      "cell_type": "markdown",
      "metadata": {
        "id": "EtujDapKnJV0"
      },
      "source": [
        ">**Task**: Run this cell."
      ]
    },
    {
      "cell_type": "code",
      "execution_count": null,
      "metadata": {
        "colab": {
          "base_uri": "https://localhost:8080/"
        },
        "id": "3jmRkrd7RHjA",
        "outputId": "28d2df59-8a47-4562-c9d4-f5424085dd43"
      },
      "outputs": [],
      "source": [
        "### RUN THIS CELL ###\n",
        "an_int = 5\n",
        "a_float = 9.99\n",
        "a_string = 'Hello World!'\n",
        "a_new_string = \"Python Crash Course\"\n",
        "a_bool = True\n",
        "another_bool = 10<7\n",
        "\n",
        "print(an_int)\n",
        "print(a_float)\n",
        "print(a_string)\n",
        "print(a_new_string)\n",
        "print(a_bool)\n",
        "print(another_bool)"
      ]
    },
    {
      "cell_type": "code",
      "execution_count": null,
      "metadata": {
        "cellView": "form",
        "colab": {
          "base_uri": "https://localhost:8080/",
          "height": 36
        },
        "id": "iYsSaEopw1UK",
        "outputId": "97f0c53f-0590-4bc6-f4ce-4595e56aa4a5"
      },
      "outputs": [],
      "source": [
        "#@title Example Solution\n",
        "a_new_string"
      ]
    },
    {
      "cell_type": "markdown",
      "metadata": {
        "id": "7-w-v9KjfDDp"
      },
      "source": [
        "## 🏃 2.1 Coding Exercise\n"
      ]
    },
    {
      "cell_type": "markdown",
      "metadata": {
        "id": "FGCV60xyUzPy"
      },
      "source": [
        "What will be the values of ```number_a```, ```number_b```, ```string_a``` after the following code is run?\n",
        "\n",
        "\n",
        "```\n",
        "number_a = 42\n",
        "string_a = \"forty two\"\n",
        "number_b = number_a/2\n",
        "number_a = number_a/6\n",
        "```"
      ]
    },
    {
      "cell_type": "markdown",
      "metadata": {
        "id": "xfDo-uKThkmy"
      },
      "source": [
        ">**Task**: Now type this out into a code cell and check if you were correct!"
      ]
    },
    {
      "cell_type": "code",
      "execution_count": null,
      "metadata": {
        "id": "ukAlX2pTnDqk"
      },
      "outputs": [],
      "source": [
        "### YOUR CODE HERE ###"
      ]
    },
    {
      "cell_type": "code",
      "execution_count": null,
      "metadata": {
        "cellView": "form",
        "colab": {
          "base_uri": "https://localhost:8080/"
        },
        "id": "Rj_t9yQxVTtI",
        "outputId": "d400d027-87f7-4d37-af03-ba99217ab699"
      },
      "outputs": [],
      "source": [
        "#@title Solution\n",
        "number_a = 42\n",
        "string_a = \"forty two\"\n",
        "number_b = number_a/2\n",
        "number_a = number_a/6\n",
        "print('number_a: ', number_a)\n",
        "print('number_b: ', number_b)\n",
        "print('string_a: ', string_a)\n"
      ]
    },
    {
      "cell_type": "markdown",
      "metadata": {
        "id": "KZdwzIzJjNfg"
      },
      "source": [
        "### Tip 👈\n",
        "You can use the `%whos` command at any time to see what variables you have created and what modules you have loaded into the computer's memory."
      ]
    },
    {
      "cell_type": "code",
      "execution_count": null,
      "metadata": {
        "colab": {
          "base_uri": "https://localhost:8080/"
        },
        "id": "0Gdu7RlEduGB",
        "outputId": "9c1c3535-d800-4631-9de8-fc29f2d6ca46"
      },
      "outputs": [],
      "source": [
        "%whos"
      ]
    },
    {
      "cell_type": "markdown",
      "metadata": {
        "id": "O7xGgP6aSolP"
      },
      "source": [
        "## 🏋 2.2 Coding Exercise"
      ]
    },
    {
      "cell_type": "markdown",
      "metadata": {
        "id": "ap3s0iHASr_G"
      },
      "source": [
        "There is another word for data types in programming - classes. Variables of a specific class are sometimes called objects of that class.\n",
        "\n",
        "In Python you can look at the class of a variable/object using the function [```type()```](https://docs.python.org/3/library/functions.html#type). <br>\n",
        "\n",
        "Print the class types of in the following cell:\n",
        "* the value ```\"abcd1234\"```\n",
        "* the result of ```10 > 9```\n",
        "* the sum of ```2 + 1.5```\n",
        "* whatever ```\"hungry\" + \"hippo\"``` returns\n",
        "* whatever ```\"twenty\" + 7``` returns\n",
        "\n",
        "\n",
        "Hint: One of these should cause Python to throw an error!\n"
      ]
    },
    {
      "cell_type": "code",
      "execution_count": null,
      "metadata": {
        "id": "0FY026yASrCW"
      },
      "outputs": [],
      "source": [
        "## YOUR CODE HERE ###"
      ]
    },
    {
      "cell_type": "code",
      "execution_count": null,
      "metadata": {
        "cellView": "form",
        "colab": {
          "base_uri": "https://localhost:8080/",
          "height": 245
        },
        "id": "HA_F56mKTSs7",
        "outputId": "547dc3eb-dc1e-4e39-dee8-cc05fcce1810"
      },
      "outputs": [],
      "source": [
        "#@title Example Solution\n",
        "print(type('abcd1234'))\n",
        "print(type(10 > 9))\n",
        "print(type(2+1.5))\n",
        "print(type(\"hungry\" + \"hippo\"))\n",
        "print('twenty' + 7)\n"
      ]
    },
    {
      "cell_type": "markdown",
      "metadata": {
        "id": "t0dBFUIPVJGj"
      },
      "source": [
        "\n",
        "---\n",
        "\n",
        "# Section 3: Lists 🗒 😀 😉 😆 🤔\n"
      ]
    },
    {
      "cell_type": "markdown",
      "metadata": {
        "id": "9qucyToOzU6Q"
      },
      "source": [
        "Many times we aren't just going to be working with single values -  we want a way to store multiple values, strings, etc. [Lists](https://docs.python.org/3/tutorial/datastructures.html) are built into python (so we don't have to load a library to use them). We create a list by putting values inside square brackets and separating the values with commas:\n",
        "\n"
      ]
    },
    {
      "cell_type": "code",
      "execution_count": null,
      "metadata": {
        "colab": {
          "base_uri": "https://localhost:8080/"
        },
        "id": "aksdO6GNWmDK",
        "outputId": "3010c374-e7e6-4418-c232-c2aac14d5269"
      },
      "outputs": [],
      "source": [
        "our_first_list = [2,'banana', [1,2,3], np.max, 2.5]\n",
        "type(our_first_list)"
      ]
    },
    {
      "cell_type": "markdown",
      "metadata": {
        "id": "AuM-us6_SC7c"
      },
      "source": [
        "Notice in the above example, the types within the list were hetergeneous. Lists can store elements of different types. In the following examples you will see examples of lists with all the same data types as well."
      ]
    },
    {
      "cell_type": "code",
      "execution_count": null,
      "metadata": {
        "colab": {
          "base_uri": "https://localhost:8080/"
        },
        "id": "69-0dIBwSUxQ",
        "outputId": "87de22ec-7f11-4af9-b8bc-1eb06a7f99e6"
      },
      "outputs": [],
      "source": [
        "### RUN THIS CELL ###\n",
        "# This code will become clear once we review indices in lists below\n",
        "print(type(our_first_list[0])) #2\n",
        "print(type(our_first_list[1])) #'banana'\n",
        "print(type(our_first_list[2])) #[1,2,3] - a list within a list!\n",
        "print(type(our_first_list[3])) #np.max - numpy max function\n",
        "print(type(our_first_list[4])) #2.5"
      ]
    },
    {
      "cell_type": "markdown",
      "metadata": {
        "id": "92P-pzbSuKTT"
      },
      "source": [
        "## 🧘 3.0  Coding Exercise\n",
        "\n",
        "We just saw that we can initialize a list by using square brackets with elements separated by commas. We  can also initialiize an empty list by using just two square brackets.\n",
        "\n",
        ">**Task:** Fill in the cell below. The first list should contain as many items as you can think of (hint: `brown`, `blue`, `black` will get you started). The second list should be initialized to be empty. <br>\n",
        "\n",
        "Notice it won't produce any output. Based on what you've seen above so far, how can you see what is inside each list? Use the second cell to write your own code to show the output.\n",
        "\n",
        "\n",
        "\n"
      ]
    },
    {
      "cell_type": "code",
      "execution_count": null,
      "metadata": {
        "id": "sgYkYSTbN0OH"
      },
      "outputs": [],
      "source": [
        "colors_starting_with_b = ### YOUR CODE HERE ###\n",
        "colors_starting_with_k = ### YOUR CODE HERE ###"
      ]
    },
    {
      "cell_type": "code",
      "execution_count": null,
      "metadata": {
        "id": "uFGI4RcMn6Jv"
      },
      "outputs": [],
      "source": [
        "### YOUR CODE HERE ###"
      ]
    },
    {
      "cell_type": "code",
      "execution_count": null,
      "metadata": {
        "cellView": "form",
        "colab": {
          "base_uri": "https://localhost:8080/"
        },
        "id": "pMj5FEcZXPS-",
        "outputId": "4dc6a012-3853-4f8a-9a26-7e95530c7829"
      },
      "outputs": [],
      "source": [
        "#@title Example Solution\n",
        "colors_starting_with_b = ['brown', 'blue', 'beige', 'black']\n",
        "colors_starting_with_k = []\n",
        "print(colors_starting_with_b)\n",
        "print(colors_starting_with_k)"
      ]
    },
    {
      "cell_type": "markdown",
      "metadata": {
        "id": "xrRV4IFfzfCV"
      },
      "source": [
        "## Indexing ❗\n",
        "\n",
        "Now a few new list concepts: We can reference a specific element in a list by using square brackets and the index of the element. Note that Python starts indexing at 0! The first element is element 0, the second element is element 1, etc. (Now do you understand why this notebook is numbered the way it is? 🙂)."
      ]
    },
    {
      "cell_type": "markdown",
      "metadata": {
        "id": "pxLQjXzHo7hC"
      },
      "source": [
        "## 🏃 3.1 Coding Exercise\n",
        "\n",
        ">**Task:** BEFORE you run the cell below, predict what you think the output will be - Don't peek yet! 🙈 This is a good check of your understanding so far. Run the cell and add your own code to preview the output."
      ]
    },
    {
      "cell_type": "code",
      "execution_count": null,
      "metadata": {
        "id": "XJArBR5Jokza"
      },
      "outputs": [],
      "source": [
        "# What will be the output here?\n",
        "flowers = ['violet', 'tulip', 'rose', 'gardenia']\n",
        "flower_with_thorns = flowers[2]"
      ]
    },
    {
      "cell_type": "code",
      "execution_count": null,
      "metadata": {
        "id": "43G4EU84pp6y"
      },
      "outputs": [],
      "source": [
        "### YOUR CODE HERE ###"
      ]
    },
    {
      "cell_type": "markdown",
      "metadata": {
        "id": "OIF5X2bTpdl8"
      },
      "source": [
        "We can also add elements, or lists, to the end of lists using `append`.\n",
        ">**Task:** Review the line of code below and predict where `pluto` will be added. Then show the output to check your understanding."
      ]
    },
    {
      "cell_type": "code",
      "execution_count": null,
      "metadata": {
        "id": "YuO-mlVRpf77"
      },
      "outputs": [],
      "source": [
        "planets = ['mercury', 'venus', 'earth', 'mars', 'jupiter', 'saturn', 'uranus', 'neptune']\n",
        "planets.append('pluto')"
      ]
    },
    {
      "cell_type": "code",
      "execution_count": null,
      "metadata": {
        "id": "WVY8GKdeprdJ"
      },
      "outputs": [],
      "source": [
        "### YOUR CODE HERE ###"
      ]
    },
    {
      "cell_type": "markdown",
      "metadata": {
        "id": "v7VJD-dAp8ea"
      },
      "source": [
        "We can also remove elements using `remove`.\n",
        ">**Task:** Run the line of code below to kick out pluto from out list - bye, pluto! 👋"
      ]
    },
    {
      "cell_type": "code",
      "execution_count": null,
      "metadata": {
        "colab": {
          "base_uri": "https://localhost:8080/"
        },
        "id": "BJRFS8RRp8Ex",
        "outputId": "28f9920e-9077-4a5e-fb9e-1f12c8c65df1"
      },
      "outputs": [],
      "source": [
        "# The remove function removes one instance of an element from the list\n",
        "planets.remove('pluto')\n",
        "print('Pluto is no longer a planet in our list :(\\n', planets)"
      ]
    },
    {
      "cell_type": "markdown",
      "metadata": {
        "id": "3bp9C7DMqpGS"
      },
      "source": [
        "Lists can even take on multiple dimensions, and you can use multiple indexes (indices) for referencing.\n",
        ">**Task:** BEFORE you run the cell below, predict what you think the output will be - Don't peek yet! 🙈 This is a good check of your understanding so far. Don't worry if you haven't gotten the hang of it yet - this takes practice and we will review together."
      ]
    },
    {
      "cell_type": "code",
      "execution_count": null,
      "metadata": {
        "id": "AwqttFquqjbc"
      },
      "outputs": [],
      "source": [
        "famous_trios = [['luke', 'leia', 'han solo'], ['dory', 'nemo', 'marlin'], ['harry', 'hermione', 'ron'], ['blossom', 'bubbles', 'buttercup']]\n",
        "famous_trios.append(['aragorn', 'legolas', 'gimli'])\n",
        "the_chosen_one = famous_trios[2][0]"
      ]
    },
    {
      "cell_type": "code",
      "execution_count": null,
      "metadata": {
        "id": "AJZj1CecrU98"
      },
      "outputs": [],
      "source": [
        "### YOUR CODE HERE ###"
      ]
    },
    {
      "cell_type": "code",
      "execution_count": null,
      "metadata": {
        "cellView": "form",
        "colab": {
          "base_uri": "https://localhost:8080/"
        },
        "id": "h6EH-qO-KKC7",
        "outputId": "8fa860fa-e150-496a-b530-86d18e723a53"
      },
      "outputs": [],
      "source": [
        "#@title Example Solution\n",
        "the_chosen_one"
      ]
    },
    {
      "cell_type": "markdown",
      "metadata": {
        "id": "8ZW1QZKJtfRH"
      },
      "source": [
        "## List Review\n",
        "<br> The order of indices is [`row #`][`column #`]. And don't forget that Python indices start from 0 (and not 1)! <br>\n",
        "The second row (`famous_trios[2]`) consists of: `['harry','hermione','ron']`. We then want position 0 `famous_trios[2][0]` which results to the output above.\n",
        "\n",
        "Let's examine the figure below: <br>\n",
        "Rows are colored according to the brackets:\n",
        "*   row 0: <font color='green'><b> Green </font></b>\n",
        "*   row 1: <font color='#0D98BA'><b> Blue </font></b>\n",
        "*   row 2: <font color='purple'><b> Purple </font></b>\n",
        "\n",
        "Columns are colored according to the highlighted ovals:\n",
        "*   col 0: <font color='#F987C5'><b> Pink </font></b>\n",
        "*   col 1: <font color='#FAB972'><b> Orange </font></b>\n",
        "*   col 2: <font color='#FEE12B'><b> Yellow </font></b>"
      ]
    },
    {
      "cell_type": "markdown",
      "metadata": {
        "id": "V0LGeVThYiKZ"
      },
      "source": [
        "\n",
        "<img src=\"https://edcarp.github.io/2018-11-06-edinburgh-igmm-python/fig/python-zero-index.png\">\n",
        "\n",
        "Image [source](https://edcarp.github.io/2018-11-06-edinburgh-igmm-python/01-numpy/index.html)"
      ]
    },
    {
      "cell_type": "markdown",
      "metadata": {
        "id": "9cvYAmsA3zQx"
      },
      "source": [
        "## A Preview of Class Structure\n",
        "\n",
        "Many libraries in Python will use more sophisticated classes, that come with their own attributes and functions. For example, we will work with `numpy` and `pandas` in a bit.\n",
        "\n",
        "A [list](https://docs.python.org/3/tutorial/datastructures.html) is the most sophisticated class we looked at so far. It too has ***attributes***, properties that belong to a specific object of the class, and ***functions*** that ***belong to it***. You can call functions that belong to a certain class using ```object_name.function_name(additional_parameters)```. We actually already did this above with both `append` and `remove`. <br>\n",
        "\n",
        "Here are some more examples of attributes and functions of the list class.\n",
        "\n",
        "Sometimes functions that act on a class change the properties of an object, sometimes they return a value, and sometimes they do both."
      ]
    },
    {
      "cell_type": "code",
      "execution_count": null,
      "metadata": {
        "colab": {
          "base_uri": "https://localhost:8080/"
        },
        "id": "JER7-sQJ4sp_",
        "outputId": "1bddd31a-f52d-4faf-d5a6-3a51a5cf62c8"
      },
      "outputs": [],
      "source": [
        "### RUN THIS CELL ###\n",
        "\n",
        "my_sisters_pets = ['dog', 'dog', 'cat', 'cat', 'gecko', 'cat', 'cat']\n",
        "\n",
        "# The sort function sorts the given list alphabetically/numerically.\n",
        "my_sisters_pets.sort()\n",
        "print('My sisters pets, in alphabetical order: ', my_sisters_pets)\n",
        "\n",
        "# The count function counts the number of times a certain element appears in the list.\n",
        "print('My sister has ', my_sisters_pets.count('cat'), 'cats.')\n",
        "\n",
        "# The remove function removes one instance of an element from the list.\n",
        "my_sisters_pets.remove('cat') # My sister's cat got lost ):\n",
        "print('My sister has ', my_sisters_pets.count('cat'), 'cats.')\n",
        "\n",
        "# We've used the append function before!\n",
        "my_sisters_pets.append('cat') # Luckily, a neighbor found him!\n",
        "print('My sister has ', my_sisters_pets.count('cat'), 'cats.')\n"
      ]
    },
    {
      "cell_type": "markdown",
      "metadata": {
        "id": "iMfh1ylWMwb3"
      },
      "source": [
        "## 🏋 3.2 Coding Exercise\n",
        "\n",
        "<img src=\"https://cdn.pixabay.com/photo/2012/07/29/21/42/dresses-53319__340.jpg\" width=300>\n",
        "\n",
        "Create a list of 7 items of clothing that you know you currently have in your closet. Use just a word that generally describes each item - shirt 👕, pants 👖 , coat👚, dress 👗. The same type of item can appear multiple times.\n",
        "\n",
        "Update your list according to the following events, and print the list after each update.\n",
        "* You donated a pair of pants 👖! (Or an item of your choice, if you aren't a big fan of pants 👙).\n",
        "* You bought a really awesome jacket 👚 that you love.\n",
        "* You want to sort the items alphabetically, so that you can quickly organize your wardrobe.\n",
        "* You want to count the number of shirts 👕 that are in your wardrobe.\n"
      ]
    },
    {
      "cell_type": "code",
      "execution_count": null,
      "metadata": {
        "id": "6YEKWkD67Bth"
      },
      "outputs": [],
      "source": [
        "### YOUR CODE HERE ###"
      ]
    },
    {
      "cell_type": "code",
      "execution_count": null,
      "metadata": {
        "cellView": "form",
        "colab": {
          "base_uri": "https://localhost:8080/"
        },
        "id": "mvR2FeURFYzw",
        "outputId": "aebceecb-d87a-44ee-9b6c-938645daa87c"
      },
      "outputs": [],
      "source": [
        "#@title Example Solution\n",
        "wardrobe = ['shirt', 'pants', 'pants', 'coat',\n",
        "            'sweater', 'sweater', 'shirt']\n",
        "\n",
        "print(wardrobe)\n",
        "wardrobe.remove('pants')\n",
        "print(wardrobe)\n",
        "wardrobe.append('jacket')\n",
        "print(wardrobe)\n",
        "wardrobe.sort()\n",
        "print(wardrobe)\n",
        "wardrobe.count('shirt')"
      ]
    },
    {
      "cell_type": "markdown",
      "metadata": {
        "id": "8eKFzHUnUVok"
      },
      "source": [
        "---\n",
        "\n",
        "# Section 4: Numpy Arrays 8️⃣ 9️⃣ 5️⃣ 0️⃣ 2️⃣\n",
        "\n",
        "<img src=\"https://cdn.pixabay.com/photo/2016/11/05/17/56/cat-1800843_1280.jpg\" width=400>\n",
        "<br>\n",
        "\n",
        "\n",
        "An ***array*** is a `numpy` datatype that looks like a numerical list. While in many ways arrays look and act like the list datatype, they have some special features that make them more powerful than the list structure when performing mathematical computation.\n",
        "\n",
        "Let's talk about the basics of arrays:\n",
        "- Initializing an array: Creating an empty or other type of array.\n",
        "- Indexing of arrays: Getting and setting the value of individual array elements, or smaller subarrays.\n",
        "- Reshaping of arrays: Changing the shape of a given array, and combining two or more arrays.\n",
        "\n",
        "An array looks like:\n"
      ]
    },
    {
      "cell_type": "code",
      "execution_count": null,
      "metadata": {
        "colab": {
          "base_uri": "https://localhost:8080/"
        },
        "id": "3ZWDCx6FV_Ck",
        "outputId": "b96bae12-0ebf-4d65-ff95-522dfb1185ff"
      },
      "outputs": [],
      "source": [
        "### 1D Array ###\n",
        "np.array([1,2,3,4,2,3,4])"
      ]
    },
    {
      "cell_type": "code",
      "execution_count": null,
      "metadata": {
        "colab": {
          "base_uri": "https://localhost:8080/"
        },
        "id": "OxQV1clHWHAK",
        "outputId": "024f663d-df74-4c97-922f-c202ac7beff7"
      },
      "outputs": [],
      "source": [
        "### 2D ARRAY ###\n",
        "np.array([[1., 4.5, 3.4],\n",
        "       [5., 1.3, 1.],\n",
        "       [7., 2.9, 0.8],\n",
        "       [6.3, 4.9, 0.4]])"
      ]
    },
    {
      "cell_type": "code",
      "execution_count": null,
      "metadata": {
        "colab": {
          "base_uri": "https://localhost:8080/"
        },
        "id": "0XNkFRVHY0A5",
        "outputId": "230489fb-faa8-442b-b88c-1622b26328d7"
      },
      "outputs": [],
      "source": [
        "# It can contain all strings\n",
        "np.array(['eat','sleep','repeat'])"
      ]
    },
    {
      "cell_type": "code",
      "execution_count": null,
      "metadata": {
        "colab": {
          "base_uri": "https://localhost:8080/"
        },
        "id": "r906jLjtZBeI",
        "outputId": "9651e0d3-87f1-4e6d-d7d7-07566986de72"
      },
      "outputs": [],
      "source": [
        "# It can contain booleans\n",
        "np.array([True,False,False])"
      ]
    },
    {
      "cell_type": "code",
      "execution_count": null,
      "metadata": {
        "colab": {
          "base_uri": "https://localhost:8080/"
        },
        "id": "DhIHFDcCY6vq",
        "outputId": "72b064cf-0f4d-48a0-89ac-c51408f47112"
      },
      "outputs": [],
      "source": [
        "# What happens if we mix types like we did with lists?\n",
        "np.array(['eat',1,2])"
      ]
    },
    {
      "cell_type": "code",
      "execution_count": null,
      "metadata": {
        "colab": {
          "base_uri": "https://localhost:8080/"
        },
        "id": "msPbJndLZZrh",
        "outputId": "5fcf31e4-e2d3-4fca-f500-86e809f94121"
      },
      "outputs": [],
      "source": [
        "# Intialize an empty array\n",
        "new_array = np.array([])\n",
        "new_array"
      ]
    },
    {
      "cell_type": "markdown",
      "metadata": {
        "id": "BSvS6rkwa4np"
      },
      "source": [
        "## 👷 Initalizing an Array\n",
        "\n",
        "There are a few different ways to initialize (create) an array. Above we already did two of these:\n",
        "-  Initialize an empty array using ```np.array([])```.\n",
        "- Create an array with your own inputs using ```np.array([1,2,3,4 etc.])```\n",
        "\n",
        "You can also:\n",
        "- Read a list or matrix of numbers from a file into a numpy array using ```np.loadtxt()```. (We won't test this one, more on this [here](https://numpy.org/doc/stable/user/how-to-io.html))\n",
        "- Generate an array with specific dimensions and distributions using functions like [```np.zeros()```](https://numpy.org/doc/stable/reference/generated/numpy.zeros.html), [```np.ones()```](https://numpy.org/doc/stable/reference/generated/numpy.ones.html), [```np.random.random()```](https://numpy.org/doc/stable/reference/random/generated/numpy.random.random.html), or [```np.random.randn()```](https://numpy.org/doc/stable/reference/random/generated/numpy.random.randn.html).\n"
      ]
    },
    {
      "cell_type": "markdown",
      "metadata": {
        "id": "8TOvTL4Z1X3v"
      },
      "source": [
        "## 🧘 4.0  Coding Exercise\n",
        "\n",
        "Let's test our luck by heading to the roulette tables!\n",
        "\n",
        "<img src=\"https://cdn.pixabay.com/photo/2012/04/05/01/24/dice-25637__340.png\" width=200>\n",
        "\n",
        ">**Task:** Initialize an array that is the equivalent to rolling a six-sided dice, 50 sets (the number of states), 3 times (rolls) per state.\n",
        "\n",
        ">**Hint:** Check out the [```np.random.choice()```](https://numpy.org/doc/stable/reference/random/generated/numpy.random.choice.html) function.  \n",
        "\n",
        ">Print the dimensions of your array to check you did this correctly.\n",
        "\n"
      ]
    },
    {
      "cell_type": "code",
      "execution_count": null,
      "metadata": {
        "id": "pz30o8M4cSA4"
      },
      "outputs": [],
      "source": [
        "state_dice_rolls = ### YOUR CODE HERE ###\n",
        "\n"
      ]
    },
    {
      "cell_type": "code",
      "execution_count": null,
      "metadata": {
        "cellView": "form",
        "colab": {
          "base_uri": "https://localhost:8080/"
        },
        "id": "yiIpot9jhMdP",
        "outputId": "68cf4a6a-d5df-4ea7-83a1-6047eb900818"
      },
      "outputs": [],
      "source": [
        "#@title Example Solution\n",
        "state_dice_rolls = np.random.choice([1,2,3,4,5,6],\n",
        "                                    size=(50,3))\n",
        "\n",
        "print(state_dice_rolls.shape)"
      ]
    },
    {
      "cell_type": "markdown",
      "metadata": {
        "id": "Pcqp-Q9Jd9af"
      },
      "source": [
        "## 🗺 Navigating an Array: Slicing 🔪 🍉\n",
        "\n",
        "Navigating a `numpy` array feels somewhat similar to navigating a list.  We can access elements in a 1D array using ```myarray[30,20]```.  We can select multiple values or sections using the ```:``` operator to stand for \"all elements leading up to or after a certain number\". For example, the slice [0:4] means: \"Start at index 0 and go up to, but **not including**, index 4.\" <br><br>\n",
        "For multidimensional arrays, we can access elements using the same notation as lists (```myarray[1][2]```), or we can accesss elements using commas to separate the indices (```myarray[1,2]```). The comma notation allows us to select specific slices of the array as well.<br><br>\n",
        "Check out the following code to understand some of the nuances of navigating an array.\n",
        "\n",
        "\n",
        "**Note:** In multidimensional numpy arrays, it is best practice to have consistent numbers of elements per index. We should not have an array that looks like ```np.array([[1,2,3],[4,5]])```"
      ]
    },
    {
      "cell_type": "markdown",
      "metadata": {
        "id": "EBn6V5oibMlR"
      },
      "source": [
        ">**Task:**\n",
        "Start by showing the output of `exercises_section1` and navigate each line by referring back to this array. BEFORE you run the second cell, predict what you think the output will be - Don't peek yet! 🙈 This is a good check of your understanding so far. <br><br>\n",
        "Don't worry if this is tough - this takes practice and we will review together.\n"
      ]
    },
    {
      "cell_type": "code",
      "execution_count": null,
      "metadata": {
        "colab": {
          "base_uri": "https://localhost:8080/"
        },
        "id": "_bZmKwhEClWc",
        "outputId": "fd3b99c5-c969-489a-b9fa-d124a1e82d94"
      },
      "outputs": [],
      "source": [
        "# Show the array we will work with to start\n",
        "exercises_section1 = np.array([[0.0,0.1,0.2],[1.1,1.2,1.3], [2.0,2.1,2.2]])\n",
        "exercises_section1"
      ]
    },
    {
      "cell_type": "code",
      "execution_count": null,
      "metadata": {
        "colab": {
          "base_uri": "https://localhost:8080/"
        },
        "id": "jjLaynRThRI9",
        "outputId": "810bd6ec-a358-4200-a810-82840f40d18e"
      },
      "outputs": [],
      "source": [
        "# Run this after you review the output above\n",
        "# Guess what you think each line below will show\n",
        "this_exercise = exercises_section1[2,2]\n",
        "print('this exercise:', this_exercise)\n",
        "\n",
        "exercises_section2 = exercises_section1[1,:]\n",
        "print('exercises_section1:', exercises_section1)\n",
        "\n",
        "harder_exercises_completed = exercises_section1[:2,1:]\n",
        "print('harder_exercises_completed:\\n', harder_exercises_completed)"
      ]
    },
    {
      "cell_type": "markdown",
      "metadata": {
        "id": "EdNKbPO3gTWK"
      },
      "source": [
        "In the last example, `harder_exercises_completed`, you see that we also don't have to include the upper and lower bound on the slice.\n",
        "-  If we don't include the lower bound, Python uses 0 by default\n",
        "-  If we don't include the upper bound, the slice runs to the end of the axis\n",
        "\n",
        "Note: There is another option we didn't test -  I encourage you to try it out if you've finished the above and are waiting to continue\n",
        "-  If we don't include either (i.e., if we just use `:` on its own), the slice includes everything\n",
        "\n"
      ]
    },
    {
      "cell_type": "markdown",
      "metadata": {
        "id": "t6c8yNFIg7FD"
      },
      "source": [
        "## 🏃 4.1 Coding Exercise\n",
        "\n",
        "Using the ```state_dice_rolls``` array, find out what number these states rolled on their second dice rolls: Nevada (index 27), New Hampshire (index 28),\n",
        "New Jersey (index 29), New Mexico (index 30), New York (index 31), North Carolina (index 32)."
      ]
    },
    {
      "cell_type": "code",
      "execution_count": null,
      "metadata": {
        "id": "juuaPmzqal8i"
      },
      "outputs": [],
      "source": [
        "### YOUR CODE HERE ###"
      ]
    },
    {
      "cell_type": "code",
      "execution_count": null,
      "metadata": {
        "cellView": "form",
        "colab": {
          "base_uri": "https://localhost:8080/"
        },
        "id": "z6rAH3642tV8",
        "outputId": "639c429f-f139-46da-8889-e57576743de2"
      },
      "outputs": [],
      "source": [
        "#@title Example Solution\n",
        "print(state_dice_rolls[27:33,1])"
      ]
    },
    {
      "cell_type": "markdown",
      "metadata": {
        "id": "CAIBgem42qQU"
      },
      "source": [
        "## 🔃  Reshaping and Combining Arrays\n",
        "\n",
        "We can also reshape multidimensional arrays, and combine arrays.\n",
        "\n",
        "The [```.transpose()```](https://numpy.org/doc/stable/reference/generated/numpy.transpose.html) command swaps the dimensions of the array (a 2x6 array becomes 6x2) without changing its data.\n",
        "\n",
        "\n",
        "To add an element to a `numpy` array you can use [```np.append(orig, array_to_append)```](https://numpy.org/doc/stable/reference/generated/numpy.append.html) or [```np.concatenate([array1, array2, array3])```](https://numpy.org/doc/stable/reference/generated/numpy.concatenate.html).\n",
        "\n",
        "\n",
        "Check out the following example for how [```np.reshape()```](https://numpy.org/doc/stable/reference/generated/numpy.reshape.html) and ```np.append()``` work.\n"
      ]
    },
    {
      "cell_type": "code",
      "execution_count": null,
      "metadata": {
        "colab": {
          "base_uri": "https://localhost:8080/"
        },
        "id": "TbwHAPVxFpH0",
        "outputId": "9dcc02b2-d935-4e75-8508-9d2bad43323f"
      },
      "outputs": [],
      "source": [
        "### RUN THIS CELL ###\n",
        "\n",
        "orig_array = [[1,2,3],[4,5,6],[7,8,9], [10,11,12]]\n",
        "reshaped_array = np.transpose(orig_array) # 4 rows x 3 cols becomes: 3 rows x 4 cols\n",
        "\n",
        "print('orig_array:\\n', orig_array)\n",
        "print('\\nreshaped_array:\\n', reshaped_array)\n",
        "\n",
        "to_add = np.array([13,14])\n",
        "to_add2 = np.array([15,16])\n",
        "to_add = np.concatenate([to_add, to_add2]) # Concat arrays together.\n",
        "print('\\nto_add:', to_add)\n",
        "\n",
        "\n",
        "# Specify the axis that we want to add the array to\n",
        "# (more on axes in a minute!)\n",
        "final_array = np.append(reshaped_array, [to_add], axis=0)\n",
        "print('\\nfinal_array:\\n ', final_array)\n"
      ]
    },
    {
      "cell_type": "markdown",
      "metadata": {
        "id": "4q1dRxaZ4C46"
      },
      "source": [
        "## 🏋 4.2 Coding Exercise\n",
        "\n",
        "\n",
        "1. Reshape your array to be 3 x 50 dice rolls, rather than 50 x 3 dice rolls.\n",
        "2. Print the 3rd dice roll from the 12th state.\n",
        "\n",
        "```\n",
        "np.array([[1,2,3,3,3,1,5,4,4...],\n",
        "          [6,3,4,5,3,2,5,3,6...]])\n",
        "\n",
        "```"
      ]
    },
    {
      "cell_type": "code",
      "execution_count": null,
      "metadata": {
        "id": "K4aoxmgo6P-e"
      },
      "outputs": [],
      "source": [
        "state_dice_rolls_reshaped = None ### YOUR CODE HERE ###"
      ]
    },
    {
      "cell_type": "code",
      "execution_count": null,
      "metadata": {
        "cellView": "form",
        "colab": {
          "base_uri": "https://localhost:8080/"
        },
        "id": "Y8PHg59r6P-e",
        "outputId": "998c0a57-0d6f-4ec5-ab1f-e59fd8acef67"
      },
      "outputs": [],
      "source": [
        "#@title Example Solution\n",
        "\n",
        "state_dice_rolls_reshaped = np.transpose(state_dice_rolls)\n",
        "print(state_dice_rolls_reshaped[2][11])"
      ]
    },
    {
      "cell_type": "markdown",
      "metadata": {
        "id": "6pKIAPb2U0ES"
      },
      "source": [
        "---\n",
        "\n",
        "# Section 5: Array Arithmetic ✖️ ➕ ➖ ➗\n",
        "\n",
        "<img src=\"https://scipy-lectures.org/_images/numpy_broadcasting.png\" width=500>\n",
        "\n",
        "Numpy arrays are especially powerful when wanting to perform mathematical operations on list-like structures.\n",
        "\n",
        "\n",
        "You may want to perform the same operation on every element in an array, use multiple arrays to perform specific operation, or perform some sort of mathematical operation on a specific dimension of an array. For example, you may want to take the mean of each \"column\" in an array, or the sum of every \"row\". An **axis** is the dimension of the array you are interested in performing aggregation on (more on this later!)"
      ]
    },
    {
      "cell_type": "markdown",
      "metadata": {
        "id": "nCOOJA0Fp5yg"
      },
      "source": [
        "\n",
        "## ⚛ Element-wise operations\n",
        "\n",
        "You might want to perform the same operation on every element of an array. There are three options for doing this:\n",
        "\n",
        "-  Because numpy has become so popular, many functions that typically take in an integer or float, can also detect if the input is a `numpy` array, and will perform the function on every element in an array. This is of course the case for `numpy` functions, but is also often the case from functions included in various statistics and math libraries in Python.\n",
        "- Mathematical operations in native Python code perform the same function on every element on an array.\n",
        "- Some functions in libraries will  only act on a single value or integer. We can use  [```np.vectorize()```](https://numpy.org/doc/stable/reference/generated/numpy.vectorize.html) to turn a function that normally just takes a single number as an input, to a function that takes in an array.\n",
        "\n",
        "\n",
        "\n",
        "\n",
        "\n"
      ]
    },
    {
      "cell_type": "code",
      "execution_count": null,
      "metadata": {
        "colab": {
          "base_uri": "https://localhost:8080/"
        },
        "id": "IeBWfJkzI9z1",
        "outputId": "789ea9d1-4f78-42e5-cf87-2b2a0870399c"
      },
      "outputs": [],
      "source": [
        "### RUN THIS CELL ###\n",
        "\n",
        "# Numpy function that defaults to performing\n",
        "# the same operation on every element\n",
        "my_array = np.array([1,900,43])\n",
        "print('np.sqrt:', np.sqrt(my_array))\n",
        "\n",
        "\n",
        "# Using native python code.\n",
        "sqrt_native_python = my_array**(1/2)\n",
        "print('sqrt_native_python:', sqrt_native_python)\n",
        "\n",
        "\n",
        "# Function to take approximate square root by\n",
        "# searching for the closest root (to the .1)\n",
        "def sqrt_approx(x):\n",
        "  for i in range(round(x)):\n",
        "    for dec in range(10):\n",
        "      if (i+dec)**2 > x:\n",
        "        return i+dec-.1\n",
        "\n",
        "# Sqrt approx is only set up to work on scalar inputs (single number).\n",
        "# Lets make a function called sqrt_vectorize()\n",
        "# that we can apply to arrays.\n",
        "sqrt_approx_vectorize = np.vectorize(sqrt_approx)\n",
        "\n",
        "print('sqrt_approx_vectorize:', sqrt_approx_vectorize(my_array))\n"
      ]
    },
    {
      "cell_type": "markdown",
      "metadata": {
        "id": "n8zJJmD8p64G"
      },
      "source": [
        "\n",
        "\n",
        "## 🖇 Operations with Similar Arrays\n",
        "In this section we will discuss performing a computation using two or more identically-shaped arrays.\n",
        "\n",
        "We might want to add the corresponding elements from two arrays together, divide them, etc. As long as the arrays have the ***same dimensions***, we can use regular math operations to perform computations with multiple arrays, or we can use functions that are built to take in two or more arrays.\n",
        "\n",
        "When you do simple arithmetic operations on arrays like: addition (`+`), subtraction (`-`), multiplication (`*`), and division (`/`), the operation is done element-by-element.\n",
        "\n"
      ]
    },
    {
      "cell_type": "code",
      "execution_count": null,
      "metadata": {
        "colab": {
          "base_uri": "https://localhost:8080/"
        },
        "id": "ZeZti5AOKiHL",
        "outputId": "d9e26d14-5ce9-4601-f641-58b7f7f1704c"
      },
      "outputs": [],
      "source": [
        "### RUN THIS CELL ###\n",
        "height = np.array([5.1,6.5,4.6])\n",
        "weight = np.array([120,250,100])\n",
        "bmi = weight/height\n",
        "print('bmi:', bmi)"
      ]
    },
    {
      "cell_type": "markdown",
      "metadata": {
        "id": "Ky3OQ0jc5AFF"
      },
      "source": [
        "## 🧘 5.0 Coding Exercise\n",
        "\n",
        "Many times we want to do more than add, subtract, multiply, and divide elements. `numpy` has options to do more complex [operations](https://numpy.org/doc/stable/reference/routines.statistics.html).\n",
        "\n",
        "It's time ⏱ to start exploring our dataset!\n",
        "\n",
        ">**Task:** We will find the mean `bpm` from the songs in the dataset that are from `artist_name` Taylor Swift. The beginning code gives you all the data from Taylor Swift's songs. (we will go over what this is actually doing in a bit). You should fill in the code below and use [`np.mean`](https://numpy.org/doc/stable/reference/generated/numpy.mean.html) to calculate the average."
      ]
    },
    {
      "cell_type": "code",
      "execution_count": null,
      "metadata": {
        "id": "9CRNI7pVruHT"
      },
      "outputs": [],
      "source": [
        "ts_data = spotify[spotify['artist_name'] == 'Taylor Swift'].bpm    # this is the array you need to take the mean in the next line\n",
        "\n",
        "ts_mean = ### YOUR CODE HERE ###"
      ]
    },
    {
      "cell_type": "code",
      "execution_count": null,
      "metadata": {
        "cellView": "form",
        "colab": {
          "base_uri": "https://localhost:8080/"
        },
        "id": "7UaF1t_1sLzU",
        "outputId": "da27e706-36f1-48ce-a26b-85fe37c14c35"
      },
      "outputs": [],
      "source": [
        "#@title Example Solutions\n",
        "ts_data = spotify[spotify['artist_name'] == 'Taylor Swift'].bpm  # this is the array to take the mean of\n",
        "# Various ways to do this:\n",
        "print(np.mean(ts_data))\n",
        "print(sum(ts_data)/len(ts_data))\n",
        "print(ts_data.mean())"
      ]
    },
    {
      "cell_type": "markdown",
      "metadata": {
        "id": "nzW3okjolpRa"
      },
      "source": [
        "## 🏃 5.1 Coding Exercise\n",
        "\n",
        ">**Task:** Let's calculate the `age` of each song. Fill in the code below to find the difference between the current year (`year`) and the `released_year` array."
      ]
    },
    {
      "cell_type": "code",
      "execution_count": null,
      "metadata": {
        "id": "fG4wgCEbuA67"
      },
      "outputs": [],
      "source": [
        "# Calculating age\n",
        "year = 2024\n",
        "spotify_year = spotify.released_year # this is the array to calculate the difference\n",
        "age = ### YOUR CODE HERE ###"
      ]
    },
    {
      "cell_type": "code",
      "execution_count": null,
      "metadata": {
        "cellView": "form",
        "colab": {
          "base_uri": "https://localhost:8080/"
        },
        "id": "uWnbEdChuRPY",
        "outputId": "4a5f9402-cf31-4d63-acc6-f016acf2505f"
      },
      "outputs": [],
      "source": [
        "#@title Solution\n",
        "year = 2024\n",
        "spotify_year = spotify.released_year\n",
        "age = year - spotify_year\n",
        "print(age)\n",
        "print('Youngest', min(age))\n",
        "print('Oldest', max(age))\n",
        "print(min(spotify.released_year))"
      ]
    },
    {
      "cell_type": "markdown",
      "metadata": {
        "id": "Mou2OOje5KUI"
      },
      "source": [
        "## 🏋 5.2 Coding Exercise\n",
        "\n",
        "\n"
      ]
    },
    {
      "cell_type": "markdown",
      "metadata": {
        "id": "-vEsNSL3J5SM"
      },
      "source": [
        "Spoiler Alert ❗\n",
        "The top two artists in terms of `streams` are: Taylor Swift and The Weeknd.\n",
        "\n",
        ">**Task:** Write code below to calculate the percentage of songs that each artist is contributing to within this dataset. Check that you came up with the same percentage as listed [here](https://www.kaggle.com/datasets/nelgiriyewithana/top-spotify-songs-2023/data).\n",
        "On this website, scroll down to where it shows the csv file, and then select the 'column' tab. Look at the row data for `artist_name`.\n",
        "Hint: Use length ([len](https://docs.python.org/3/library/functions.html#len)) to help you out in your calculations."
      ]
    },
    {
      "cell_type": "code",
      "execution_count": null,
      "metadata": {
        "id": "ohr_Ys2Uwij5"
      },
      "outputs": [],
      "source": [
        "## Taylor Swift\n",
        "ts_songs = len(spotify[spotify['artist_name'] == 'Taylor Swift'])  # this is the array to do the calculations on\n",
        "per_ts_songs = ### YOUR CODE HERE ###\n"
      ]
    },
    {
      "cell_type": "code",
      "execution_count": null,
      "metadata": {
        "cellView": "form",
        "colab": {
          "base_uri": "https://localhost:8080/"
        },
        "id": "Q8g-LbWTmapd",
        "outputId": "1af64f85-1e59-412e-9363-5b0ea1644fc5"
      },
      "outputs": [],
      "source": [
        "#@title Example Solution\n",
        "ts_songs = len(spotify[spotify['artist_name'] == 'Taylor Swift'])  # this is the array to take the mean of\n",
        "per_ts_songs = round(ts_songs/len(spotify) * 100,2)\n",
        "per_ts_songs"
      ]
    },
    {
      "cell_type": "code",
      "execution_count": null,
      "metadata": {
        "id": "BXOgANuBwQRt"
      },
      "outputs": [],
      "source": [
        "## The Weeknd\n",
        "wknd_data = len(spotify[spotify['artist_name'] == 'The Weeknd'])      # this is the array to do the calculations on\n",
        "per_songs = ### YOUR CODE HERE ###\n"
      ]
    },
    {
      "cell_type": "code",
      "execution_count": null,
      "metadata": {
        "cellView": "form",
        "colab": {
          "base_uri": "https://localhost:8080/"
        },
        "id": "hANamT2ymLc0",
        "outputId": "281b2ff0-961d-45e3-8d6d-eb501cd2d3a6"
      },
      "outputs": [],
      "source": [
        "#@title Example Solution\n",
        "wknd_data = len(spotify[spotify['artist_name'] == 'The Weeknd'])  # this is the array to take the mean of\n",
        "per_songs = round(wknd_data/len(spotify) * 100,2)\n",
        "per_songs"
      ]
    },
    {
      "cell_type": "markdown",
      "metadata": {
        "id": "CKu8ilBsUVvS"
      },
      "source": [
        "---\n",
        "\n",
        "# Section 6: Pandas Dataframes 🐼\n",
        "\n",
        "<img src=\"https://cdn.pixabay.com/photo/2018/07/22/21/12/panda-3555554__340.jpg\" width=400></br></br>\n",
        "\n",
        "\n",
        "A very popular Python data science library is [**`pandas`**](https://pandas.pydata.org/docs/index.html). Pandas is best for working with two dimenional matrices (with samples as rows and features as columns), where different columns may be of different data types. Lists and `numpy` arrays can very easily be converted to/from `pandas` formats. Pandas can also read in data into batches, making it a nice library for working with big datasets that can not be held entirely in memory.\n",
        "\n",
        "\n",
        "Let's review our data from `spotify` (we loaded in the data into a `pandas` dataframe!).\n",
        "\n"
      ]
    },
    {
      "cell_type": "code",
      "execution_count": null,
      "metadata": {
        "colab": {
          "base_uri": "https://localhost:8080/",
          "height": 521
        },
        "id": "ThLhztShx0h1",
        "outputId": "2d1e6428-7d92-4ca1-da20-4a53ea1b6b79"
      },
      "outputs": [],
      "source": [
        "### RUN THIS CELL ###\n",
        "spotify.head(10) # .head() let's us look at the first N rows."
      ]
    },
    {
      "cell_type": "markdown",
      "metadata": {
        "id": "KILPlqSQ8qoG"
      },
      "source": [
        "**Which columns are strings, and which are numerical?** You can figure this out (usually) just by looking at what's in the dataframe.\n",
        "\n",
        ">**Task:** Run the code below to see the Python data types again."
      ]
    },
    {
      "cell_type": "code",
      "execution_count": null,
      "metadata": {
        "colab": {
          "base_uri": "https://localhost:8080/"
        },
        "id": "x7QkV9rD2eec",
        "outputId": "491bb49a-62e4-47ae-99cd-af4e1219fd27"
      },
      "outputs": [],
      "source": [
        "### RUN THIS CELL ###\n",
        "spotify.info()"
      ]
    },
    {
      "cell_type": "markdown",
      "metadata": {
        "id": "5Ptez5Ji6PTn"
      },
      "source": [
        "---\n",
        "\n",
        "## 🧭 Navigating a Pandas Dataframe\n",
        "\n",
        "Dataframes are defined by rows and columns. Each row has an **index** associated with it, and each column has a column name.\n",
        "\n",
        ">**Task:** Run the code below to print the column names and indexes (in this case the index just happens to be the same as the row number) of the data. (This is the default for the index, but it can be [changed](https://pandas.pydata.org/docs/user_guide/indexing.html#reset-the-index). Will we test that out later)\n"
      ]
    },
    {
      "cell_type": "code",
      "execution_count": null,
      "metadata": {
        "colab": {
          "base_uri": "https://localhost:8080/"
        },
        "id": "OZEYo9QW7z7F",
        "outputId": "87bd4cc2-67fb-4620-bb0b-67f491f2ea3a"
      },
      "outputs": [],
      "source": [
        "### RUN THIS CELL ###\n",
        "print('index: ', spotify.index)\n",
        "print('columns: ', spotify.columns)"
      ]
    },
    {
      "cell_type": "markdown",
      "metadata": {
        "id": "BSTetPH7724F"
      },
      "source": [
        "\n",
        "You may want to select several different objects from a `pandas` dataframes:\n",
        "\n",
        "- **To select a specific column, or columns**, you can use the syntax ```df.column_name``` or ```df[column_names]```. The second syntax works even if your column names have dots or spaces in them, and allows you to select several columns as once.\n",
        "\n",
        ">**Task:** Run the code below to show two of the column names from the data.\n"
      ]
    },
    {
      "cell_type": "code",
      "execution_count": null,
      "metadata": {
        "colab": {
          "base_uri": "https://localhost:8080/",
          "height": 519
        },
        "id": "-Ot7wLHEyEnp",
        "outputId": "0a2d265a-b888-4314-fc97-791db4d82c70"
      },
      "outputs": [],
      "source": [
        "### RUN THIS CELL ###\n",
        "spotify_2cols = spotify[['artist_name', 'streams']]\n",
        "spotify_2cols.sample(n=15)                                # take a random sample of 15 to show us"
      ]
    },
    {
      "cell_type": "markdown",
      "metadata": {
        "id": "l0jaywuM7aDg"
      },
      "source": [
        "- **To select a specific row**, you can either select the row index name using ```.loc[]``` or using the row number using ```.iloc[]```.\n",
        "\n",
        ">**Task:** Run the cell below to reindex our dataframe so that the artist name (```artist_name``` column) is the index. Then let's look at the row containing Guns N' Roses. 🎸"
      ]
    },
    {
      "cell_type": "code",
      "execution_count": null,
      "metadata": {
        "colab": {
          "base_uri": "https://localhost:8080/"
        },
        "id": "ycm0UhqM7OjX",
        "outputId": "3cbf43e9-5073-4573-a2d8-c41d573ca4ce"
      },
      "outputs": [],
      "source": [
        "### RUN THIS CELL ###\n",
        "spotify.index = spotify['artist_name']\n",
        "print(\"Guns N' Roses row:\", spotify.loc[\"Guns N' Roses\"])\n",
        "print('\\n5th row:', spotify.iloc[4])"
      ]
    },
    {
      "cell_type": "code",
      "execution_count": null,
      "metadata": {
        "colab": {
          "base_uri": "https://localhost:8080/"
        },
        "id": "G5CLIVPO7qP4",
        "outputId": "aa3d3123-c861-4210-b515-f5facf841715"
      },
      "outputs": [],
      "source": [
        "### RUN THIS CELL TO SEE AN ARTIST WITH MULTIPLE ROWS ###\n",
        "print('Dua Lipa row:', spotify.loc['Dua Lipa'])"
      ]
    },
    {
      "cell_type": "markdown",
      "metadata": {
        "id": "jZdIIEDg89ei"
      },
      "source": [
        "- Finally, you may want to select a single element or subset of elements. You can do this by using ```loc[]``` and using both the row index and column name  as the key(s).\n",
        "\n",
        ">**Task:** Run the cell below to do this with our dataset\n"
      ]
    },
    {
      "cell_type": "code",
      "execution_count": null,
      "metadata": {
        "colab": {
          "base_uri": "https://localhost:8080/",
          "height": 238
        },
        "id": "tb1L5vZG34l0",
        "outputId": "998d7112-07e9-411b-acd8-f9af11b800dd"
      },
      "outputs": [],
      "source": [
        "### RUN THIS CELL ###\n",
        "spotify.loc[[\"Lady Gaga\", \"Lord Huron\", \"Michael Buble\"],\n",
        "            ['bpm','streams', 'released_year']]"
      ]
    },
    {
      "cell_type": "markdown",
      "metadata": {
        "id": "K61LJhWrnzc-"
      },
      "source": [
        "***Note: Rows, columns, or subsets of data in a dataframe act very similarly to numpy arrays***."
      ]
    },
    {
      "cell_type": "markdown",
      "metadata": {
        "id": "kWce-JSJhL_y"
      },
      "source": [
        "## Bonus: Bracket versus Dot Indexing"
      ]
    },
    {
      "cell_type": "markdown",
      "metadata": {
        "id": "ugHPw4ezCXgj"
      },
      "source": [
        "Figuring out when to use which depends on different factors, and we won't go into those today. I encourage you to play around test out the different ways as you like in the notebook.\n",
        "\n",
        "More info can be found on these websites:<br>\n",
        "[Pandas documentation](https://pandas.pydata.org/docs/user_guide/indexing.html#different-choices-for-indexing)\n",
        "<br>\n",
        "[Pandas tutorial](https://pandas.pydata.org/pandas-docs/version/1.0/getting_started/intro_tutorials/03_subset_data.html)<br>\n",
        "[DataSchool](https://www.dataschool.io/pandas-dot-notation-vs-brackets/)<br>\n",
        "https://www.dunderdata.com/blog/\n",
        "[DunderData Blog](https://www.dunderdata.com/blog/use-the-brackets-to-select-a-single-pandas-dataframe-column-and-not-dot-notation)<br>\n",
        "We primarily used brackets above. Test out similar code below, but use `.` indexing.\n",
        "\n",
        ">**Task:** Choose a column name and use dot indexing to reference it below: `df.column_name`\n"
      ]
    },
    {
      "cell_type": "code",
      "execution_count": null,
      "metadata": {
        "id": "Mw51HCALhoJs"
      },
      "outputs": [],
      "source": [
        "### YOUR CODE HERE ###"
      ]
    },
    {
      "cell_type": "code",
      "execution_count": null,
      "metadata": {
        "cellView": "form",
        "colab": {
          "base_uri": "https://localhost:8080/"
        },
        "id": "x3-R3Z-khpdt",
        "outputId": "800c6440-c8fa-4bfb-8d31-4af0dbcf3255"
      },
      "outputs": [],
      "source": [
        "#@title Example Solution\n",
        "spotify.bpm"
      ]
    },
    {
      "cell_type": "markdown",
      "metadata": {
        "id": "CoMBq-_f5lja"
      },
      "source": [
        "## 🧘 6.0 Coding Exercise\n",
        "\n",
        "\n",
        "<img src=\"https://cdn.pixabay.com/photo/2023/08/09/16/38/ai-generated-8179915_640.png\" width=200>\n",
        "\n",
        "\n",
        ">**Task:** Find the `track_name`, `released_year`, and `energy_percent` of 3 artists of your choosing. (from ```spotify``` dataframe)"
      ]
    },
    {
      "cell_type": "code",
      "execution_count": null,
      "metadata": {
        "id": "tce9Hajr5lja"
      },
      "outputs": [],
      "source": [
        "### YOUR CODE HERE ###\n",
        "## feel free to show yourself the dataframe first and scroll through it to select your artists :)"
      ]
    },
    {
      "cell_type": "code",
      "execution_count": null,
      "metadata": {
        "cellView": "form",
        "colab": {
          "base_uri": "https://localhost:8080/",
          "height": 331
        },
        "id": "StsP8z0q5ljb",
        "outputId": "bf8ef31d-b7a3-4fb1-a093-76798f5a065f"
      },
      "outputs": [],
      "source": [
        "#@title Example Solution\n",
        "\n",
        "spotify.loc[[\"Lana Del Rey\",\"Eminem\", \"The Chainsmokers Halsey\"],\n",
        "                 ['track_name', 'released_year', 'energy_percent']]"
      ]
    },
    {
      "cell_type": "markdown",
      "metadata": {
        "id": "CTE3VFK65ljb"
      },
      "source": [
        "## 🔨 Editing or Adding To a DataFrame\n",
        "\n",
        "We learned how to reindex our dataframe using ```.index```. We can edit our dataframes in other ways as well:\n",
        "*   add/remove a column/row\n",
        "*   edit the value of a specific cell, row, or column\n",
        "\n",
        ">**Task:** Run the following code for examples on this.\n",
        "\n",
        "\n"
      ]
    },
    {
      "cell_type": "code",
      "execution_count": null,
      "metadata": {
        "colab": {
          "base_uri": "https://localhost:8080/",
          "height": 1000
        },
        "id": "Y1xOZgNYVcEY",
        "outputId": "bec0a330-0f1b-427b-d88d-4c4ae105c73e"
      },
      "outputs": [],
      "source": [
        "### RUN THIS CELL ###\n",
        "\n",
        "# Add a column called \"random_number\"\n",
        "spotify['random_number'] = np.random.random(len(spotify))\n",
        "print('first 5 rows with random_number column:\\n ',spotify.head(5))\n",
        "\n",
        "# Add a row called \"CCR_like\"\n",
        "# that is equal to the values for Creedence Clearwater Revival (CCR).\n",
        "spotify.loc[\"CCR_like\"] = spotify.loc[\"Creedence Clearwater Revival\"]\n",
        "print('\\n\\nlast 5 rows, with new CCR_like: \\n',spotify.tail(5))\n",
        "\n",
        "# Change the random_number value just for CCR_like.\n",
        "spotify.loc['CCR_like', 'random_number'] = 12345\n",
        "print('\\n\\nedited CCR_like: ', spotify.loc['CCR_like','random_number'])\n",
        "\n",
        "# Drop the CCR_like row and the random_number column\n",
        "# to return to our original dataframe.\n",
        "spotify = spotify.drop('CCR_like')\n",
        "spotify = spotify.drop('random_number', axis=1)\n",
        "\n",
        "print('final dataframe (last rows): ')\n",
        "spotify.tail()\n"
      ]
    },
    {
      "cell_type": "markdown",
      "metadata": {
        "id": "FVMxRqM2AOlx"
      },
      "source": [
        "\n",
        "## 🏃 6.1 Coding Exercise\n",
        "\n",
        "We calculated the age of each song above and stored it in a variable called `age` (5.1 Coding Exercise). Now we can add the `age` values we calculated above for each song to our dataframe.\n",
        "There are multiple ways this could be done, but we are going to keep practicing using `loc`.\n",
        "\n",
        ">**Task:** Adjust this example code by replacing the `dataframe`, inserting the correct way to index the dataframe (replacing `...`) in brackets after `loc` and finally by setting it equal to our variable name that we want to use: <br>\n",
        "`dataframe.loc[...,...] = variable_name`\n"
      ]
    },
    {
      "cell_type": "code",
      "execution_count": null,
      "metadata": {
        "id": "4OMD1rXx2_E7"
      },
      "outputs": [],
      "source": [
        "### YOUR CODE HERE ###\n",
        "dataframe.loc[...,...] = variable_name"
      ]
    },
    {
      "cell_type": "code",
      "execution_count": null,
      "metadata": {
        "cellView": "form",
        "colab": {
          "base_uri": "https://localhost:8080/"
        },
        "id": "DfgJ5T_f9Kgx",
        "outputId": "8767486d-8dfd-4869-ad85-7e83416c3d65"
      },
      "outputs": [],
      "source": [
        "#@title Example Solution\n",
        "spotify.loc[:, \"age\"] = age\n",
        "print(spotify.columns)"
      ]
    },
    {
      "cell_type": "code",
      "execution_count": null,
      "metadata": {
        "cellView": "form",
        "id": "D4dhpiH11s9r"
      },
      "outputs": [],
      "source": [
        "#@title Example Solution - Another Way\n",
        "# first need to reset the index!\n",
        "spotify = spotify.reset_index(drop=True)\n",
        "spotify.insert(0, \"age\", age, allow_duplicates=True)"
      ]
    },
    {
      "cell_type": "markdown",
      "metadata": {
        "id": "KtT2QNYtCDEU"
      },
      "source": [
        "## 💾 Data types\n",
        "\n",
        "Values from a single column in a dataframe all have the same datatype (boolean, string, integers, floats, etc.). To see the datatypes for each column, you can use the [`.dtypes`](https://pandas.pydata.org/pandas-docs/stable/reference/api/pandas.DataFrame.dtypes.html) property to look over your dataframe's columns' types.\n",
        "\n"
      ]
    },
    {
      "cell_type": "code",
      "execution_count": null,
      "metadata": {
        "colab": {
          "base_uri": "https://localhost:8080/"
        },
        "id": "5othbHUWXN1p",
        "outputId": "3e57a959-2e0d-4885-ef20-a65b4685d753"
      },
      "outputs": [],
      "source": [
        "### RUN THIS CELL ###\n",
        "print(spotify.dtypes)"
      ]
    },
    {
      "cell_type": "markdown",
      "metadata": {
        "id": "1LdvsKVXXTAS"
      },
      "source": [
        "Sometimes it can be useful to use the command [```.astype('datatype')```](https://pandas.pydata.org/docs/reference/api/pandas.DataFrame.astype.html) to convert a specific column of your dataframe to a certain type (for example, if integers were misread as strings, or 0/1s were misread as integers instead of booleans)."
      ]
    },
    {
      "cell_type": "code",
      "execution_count": null,
      "metadata": {
        "id": "smbYCx9bDDZ-"
      },
      "outputs": [],
      "source": [
        "### RUN THIS CELL ###\n",
        "\n",
        "# Several of our column names are objects, but should be strings\n",
        "# let's convert it to a regular old string!\n",
        "spotify['mode'] = spotify['mode'].astype('string')"
      ]
    },
    {
      "cell_type": "code",
      "execution_count": null,
      "metadata": {
        "colab": {
          "base_uri": "https://localhost:8080/"
        },
        "id": "8oXZmNt7XqiV",
        "outputId": "8bdb758b-d5c9-4c51-81ed-54a7f35993d3"
      },
      "outputs": [],
      "source": [
        "### RUN THIS CELL ###\n",
        "spotify.info()"
      ]
    },
    {
      "cell_type": "markdown",
      "metadata": {
        "id": "R4o4OWm_9UNJ"
      },
      "source": [
        "Notice that we do have more columns that are objects and we want them to be strings. We will come back to this - you will adjust the remaining datatypes using a for loop. Stay tuned for this in the next section! 👷"
      ]
    },
    {
      "cell_type": "markdown",
      "metadata": {
        "id": "sTHWhDub5ljb"
      },
      "source": [
        "## 🏋 6.2 Coding Exercise\n",
        "\n",
        "We have a categorical column called `mode` that has two options: major or minor. Maybe we would want to work with this data in separate columns for analysis. To do so, we can convert these data into a 0 or a 1 (boolean) corresponding to the string from the original `mode` column and place these in 2 separate columns. `pandas` has a function to help us do this called [`get_dummies`](https://pandas.pydata.org/pandas-docs/stable/reference/api/pandas.get_dummies.html).\n",
        "\n",
        "\n",
        "\n",
        "Adjust this example code by replacing the `dataframe` and inserting the column name for `columns` and `prefix`:\n",
        "`pd.get_dummies(dataframe, columns=[''], prefix=['']`"
      ]
    },
    {
      "cell_type": "code",
      "execution_count": null,
      "metadata": {
        "id": "jsB2eSs552m2"
      },
      "outputs": [],
      "source": [
        "### YOUR CODE HERE ###\n",
        "spotify_dummies = pd.get_dummies(..., columns=[...], prefix=[...])\n"
      ]
    },
    {
      "cell_type": "code",
      "execution_count": null,
      "metadata": {
        "cellView": "form",
        "colab": {
          "base_uri": "https://localhost:8080/",
          "height": 1000
        },
        "id": "LlHLgYjZuy1F",
        "outputId": "d119d8e1-ce94-454e-ff12-1f43f5a1af83"
      },
      "outputs": [],
      "source": [
        "#@title Example Solution\n",
        "spotify_dummies = pd.get_dummies(spotify, columns=['mode'], prefix=['mode'])\n",
        "spotify_dummies"
      ]
    },
    {
      "cell_type": "markdown",
      "metadata": {
        "id": "5JpqIe8S4KZi"
      },
      "source": [
        "Let's review what we did and what the data looks like now."
      ]
    },
    {
      "cell_type": "code",
      "execution_count": null,
      "metadata": {
        "colab": {
          "base_uri": "https://localhost:8080/"
        },
        "id": "C1FJPtaT7dQV",
        "outputId": "e3863d0b-1693-4940-f155-6b3f3ed79d74"
      },
      "outputs": [],
      "source": [
        "### RUN THIS CELL ###\n",
        "spotify_dummies.columns"
      ]
    },
    {
      "cell_type": "code",
      "execution_count": null,
      "metadata": {
        "colab": {
          "base_uri": "https://localhost:8080/",
          "height": 1000
        },
        "id": "0HFthqT27Yi9",
        "outputId": "b8acbd5e-5b6e-43f4-d052-80116bc901c6"
      },
      "outputs": [],
      "source": [
        "### RUN THIS CELL ###\n",
        "dummy_cols = spotify_dummies[['mode_Major', 'mode_Minor']]\n",
        "dummy_cols"
      ]
    },
    {
      "cell_type": "markdown",
      "metadata": {
        "id": "mtkeRc8Md_cn"
      },
      "source": [
        "Before we continue, let's set our index back to numbers instead of `artist_name`. This is needed for later plotting, and we don't want to forget to [reset](https://pandas.pydata.org/pandas-docs/stable/reference/api/pandas.DataFrame.reset_index.html)!\n",
        ">**Task**: Run the cell below."
      ]
    },
    {
      "cell_type": "code",
      "execution_count": null,
      "metadata": {
        "id": "Bx0Dpgh1clzd"
      },
      "outputs": [],
      "source": [
        "### RUN THIS CELL ###\n",
        "spotify = spotify.reset_index(drop=True)"
      ]
    },
    {
      "cell_type": "markdown",
      "metadata": {
        "id": "LhuWWeq1wZui"
      },
      "source": [
        "-----\n",
        "\n",
        "# Just for fun 🎧\n",
        "Read about some of the top [trends from 2023 on Spotify](https://newsroom.spotify.com/2023-11-29/top-songs-artists-podcasts-albums-trends-2023/). Do you recognize any of these names from our dataset?\n"
      ]
    },
    {
      "cell_type": "markdown",
      "metadata": {
        "id": "gCQnX4WrnJrx"
      },
      "source": [
        "---\n",
        "# Technical Notes and Credits 👏 🙏\n",
        "\n",
        "The exercises for this notebook were adapted from resources available from the [Python for Supervised Machine Learning Bootcamp](https://nevadainbre.github.io/bootcamp-supervised-ml-2023-01.html) and Dr. Brianna Chrisman.\n",
        "Exercises were also adapted from [Programming in Python Data Carpentry Resources](https://edcarp.github.io/2018-11-06-edinburgh-igmm-python/).\n",
        "\n",
        "Thanks to the Data Science Initiative at UNR, supported by a Nevada INBRE supplemental award for Building Data Science Capacity, along with Research & Innovation for supporting this workshop during the first [Data Science Conference](https://www.unr.edu/bioinformatics/training-events/data-science-conference). Shout out and special thanks to Dr. Juli Petereit (Director of Nevada Bioinformatics Center) for her support with the Data Science Initiative. Another special thanks to Dr. Theresa McKim for creating this workshop and allowing extension of it.\n"
      ]
    }
  ],
  "metadata": {
    "colab": {
      "collapsed_sections": [
        "ar7z_pZpYjz4",
        "0o3VDCJpvKz6",
        "6gEl6G5up70N",
        "7BG3xNhap8j1",
        "ytbXBuL1ZAaj",
        "lGhaf6SiXSho",
        "RKNbf4cgU602",
        "asSImR0XnaHn",
        "3mPTMR5t9MCK"
      ],
      "provenance": [],
      "toc_visible": true
    },
    "kernelspec": {
      "display_name": "Python 3",
      "language": "python",
      "name": "python3"
    },
    "language_info": {
      "codemirror_mode": {
        "name": "ipython",
        "version": 3
      },
      "file_extension": ".py",
      "mimetype": "text/x-python",
      "name": "python",
      "nbconvert_exporter": "python",
      "pygments_lexer": "ipython3",
      "version": "3.11.13"
    }
  },
  "nbformat": 4,
  "nbformat_minor": 0
}
